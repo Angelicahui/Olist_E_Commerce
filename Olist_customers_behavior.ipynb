{
 "cells": [
  {
   "cell_type": "markdown",
   "metadata": {},
   "source": [
    "# Brazilian E-Commerce Dataset by Olist\n",
    "\n",
    "# 巴西电商olist的数据集分析"
   ]
  },
  {
   "cell_type": "markdown",
   "metadata": {},
   "source": [
    "这是巴西Olist电子商务的数据集，包含了2016年到2018年在巴西多个市场中进行的10万份订单。\n",
    "同时，这是一份真实的商业数据，已经被匿名化。\n",
    "\n",
    "\n",
    "现在将用以下形式对这个数据集进行分析：\n",
    "\n",
    "1、Customer 顾客\n",
    "\n",
    "2、 Order 订单\n"
   ]
  },
  {
   "cell_type": "code",
   "execution_count": 1,
   "metadata": {},
   "outputs": [],
   "source": [
    "#load packages 加载分析包\n",
    "import pandas as pd\n",
    "import numpy as np\n",
    "import matplotlib.pyplot as plt\n",
    "import seaborn as sns\n",
    "sns.set_style('darkgrid')\n",
    "import warnings\n",
    "warnings.filterwarnings('ignore')"
   ]
  },
  {
   "cell_type": "code",
   "execution_count": 2,
   "metadata": {},
   "outputs": [
    {
     "data": {
      "text/html": [
       "<div>\n",
       "<style scoped>\n",
       "    .dataframe tbody tr th:only-of-type {\n",
       "        vertical-align: middle;\n",
       "    }\n",
       "\n",
       "    .dataframe tbody tr th {\n",
       "        vertical-align: top;\n",
       "    }\n",
       "\n",
       "    .dataframe thead th {\n",
       "        text-align: right;\n",
       "    }\n",
       "</style>\n",
       "<table border=\"1\" class=\"dataframe\">\n",
       "  <thead>\n",
       "    <tr style=\"text-align: right;\">\n",
       "      <th></th>\n",
       "      <th>customer_unique_id</th>\n",
       "      <th>order_id</th>\n",
       "      <th>order_products_value</th>\n",
       "      <th>order_aproved_at</th>\n",
       "      <th>order_items_qty</th>\n",
       "      <th>time</th>\n",
       "    </tr>\n",
       "  </thead>\n",
       "  <tbody>\n",
       "    <tr>\n",
       "      <th>0</th>\n",
       "      <td>ac0e5d7f07043dd32831bdad3b99ad26</td>\n",
       "      <td>bdbeac23af8ee5dc1481782eaca3c24e</td>\n",
       "      <td>15.0</td>\n",
       "      <td>2018-01-30 04:31:19.335683</td>\n",
       "      <td>1</td>\n",
       "      <td>2018-01-01</td>\n",
       "    </tr>\n",
       "    <tr>\n",
       "      <th>1</th>\n",
       "      <td>4ed24aaed4079fe0661c0e4b3b420dff</td>\n",
       "      <td>e12e86e5dbfcb5d2820427e70fd658f3</td>\n",
       "      <td>72.9</td>\n",
       "      <td>2017-09-12 04:25:20.792749</td>\n",
       "      <td>1</td>\n",
       "      <td>2017-09-01</td>\n",
       "    </tr>\n",
       "    <tr>\n",
       "      <th>2</th>\n",
       "      <td>7e0e291c0f4fc2d69208954d26ed0586</td>\n",
       "      <td>5f79b5b0931d63f1a42989eb65b9da6e</td>\n",
       "      <td>89.8</td>\n",
       "      <td>2017-11-14 16:35:32.819244</td>\n",
       "      <td>1</td>\n",
       "      <td>2017-11-01</td>\n",
       "    </tr>\n",
       "    <tr>\n",
       "      <th>3</th>\n",
       "      <td>ff1dcb27ea444eddb94ea5fea77b875c</td>\n",
       "      <td>a44895d095d7e0702b6a162fa2dbeced</td>\n",
       "      <td>54.9</td>\n",
       "      <td>2017-07-16 09:55:12.192935</td>\n",
       "      <td>1</td>\n",
       "      <td>2017-07-01</td>\n",
       "    </tr>\n",
       "    <tr>\n",
       "      <th>4</th>\n",
       "      <td>237130c4b6717031ed62d9d0b16fd94f</td>\n",
       "      <td>faa51eb71627968952ed4dd55f0979cb</td>\n",
       "      <td>32.5</td>\n",
       "      <td>2017-08-22 04:26:34.365742</td>\n",
       "      <td>1</td>\n",
       "      <td>2017-08-01</td>\n",
       "    </tr>\n",
       "  </tbody>\n",
       "</table>\n",
       "</div>"
      ],
      "text/plain": [
       "                 customer_unique_id                          order_id  \\\n",
       "0  ac0e5d7f07043dd32831bdad3b99ad26  bdbeac23af8ee5dc1481782eaca3c24e   \n",
       "1  4ed24aaed4079fe0661c0e4b3b420dff  e12e86e5dbfcb5d2820427e70fd658f3   \n",
       "2  7e0e291c0f4fc2d69208954d26ed0586  5f79b5b0931d63f1a42989eb65b9da6e   \n",
       "3  ff1dcb27ea444eddb94ea5fea77b875c  a44895d095d7e0702b6a162fa2dbeced   \n",
       "4  237130c4b6717031ed62d9d0b16fd94f  faa51eb71627968952ed4dd55f0979cb   \n",
       "\n",
       "   order_products_value           order_aproved_at  order_items_qty       time  \n",
       "0                  15.0 2018-01-30 04:31:19.335683                1 2018-01-01  \n",
       "1                  72.9 2017-09-12 04:25:20.792749                1 2017-09-01  \n",
       "2                  89.8 2017-11-14 16:35:32.819244                1 2017-11-01  \n",
       "3                  54.9 2017-07-16 09:55:12.192935                1 2017-07-01  \n",
       "4                  32.5 2017-08-22 04:26:34.365742                1 2017-08-01  "
      ]
     },
     "execution_count": 2,
     "metadata": {},
     "output_type": "execute_result"
    }
   ],
   "source": [
    "#load datasets 加载数据集\n",
    "customer = pd.read_csv(\"olist_public_dataset_v2_customers.csv\")\n",
    "\n",
    "order = pd.read_csv(\"olist_public_dataset_v2.csv\")\n",
    "\n",
    "customer_full = customer.merge(order,how = \"inner\",left_on = \"customer_id\",right_on = \"customer_id\")\n",
    "\n",
    "customer_clean = customer_full[[\"customer_unique_id\",\"order_id\",\"order_products_value\",\"order_aproved_at\",\"order_items_qty\"]]\n",
    "\n",
    "customer_clean['order_aproved_at'] = pd.to_datetime(customer_clean['order_aproved_at'])\n",
    "\n",
    "customer_clean[\"time\"] = customer_clean.order_aproved_at.values.astype(\"datetime64[M]\")\n",
    "\n",
    "df = customer_clean\n",
    "\n",
    "df.head()"
   ]
  },
  {
   "cell_type": "code",
   "execution_count": 3,
   "metadata": {},
   "outputs": [
    {
     "data": {
      "text/html": [
       "<div>\n",
       "<style scoped>\n",
       "    .dataframe tbody tr th:only-of-type {\n",
       "        vertical-align: middle;\n",
       "    }\n",
       "\n",
       "    .dataframe tbody tr th {\n",
       "        vertical-align: top;\n",
       "    }\n",
       "\n",
       "    .dataframe thead th {\n",
       "        text-align: right;\n",
       "    }\n",
       "</style>\n",
       "<table border=\"1\" class=\"dataframe\">\n",
       "  <thead>\n",
       "    <tr style=\"text-align: right;\">\n",
       "      <th></th>\n",
       "      <th>order_products_value</th>\n",
       "      <th>order_items_qty</th>\n",
       "    </tr>\n",
       "  </thead>\n",
       "  <tbody>\n",
       "    <tr>\n",
       "      <th>count</th>\n",
       "      <td>100000.000000</td>\n",
       "      <td>100000.000000</td>\n",
       "    </tr>\n",
       "    <tr>\n",
       "      <th>mean</th>\n",
       "      <td>129.191704</td>\n",
       "      <td>1.100090</td>\n",
       "    </tr>\n",
       "    <tr>\n",
       "      <th>std</th>\n",
       "      <td>194.863060</td>\n",
       "      <td>0.459189</td>\n",
       "    </tr>\n",
       "    <tr>\n",
       "      <th>min</th>\n",
       "      <td>2.000000</td>\n",
       "      <td>1.000000</td>\n",
       "    </tr>\n",
       "    <tr>\n",
       "      <th>25%</th>\n",
       "      <td>46.990000</td>\n",
       "      <td>1.000000</td>\n",
       "    </tr>\n",
       "    <tr>\n",
       "      <th>50%</th>\n",
       "      <td>83.650000</td>\n",
       "      <td>1.000000</td>\n",
       "    </tr>\n",
       "    <tr>\n",
       "      <th>75%</th>\n",
       "      <td>145.900000</td>\n",
       "      <td>1.000000</td>\n",
       "    </tr>\n",
       "    <tr>\n",
       "      <th>max</th>\n",
       "      <td>13440.000000</td>\n",
       "      <td>20.000000</td>\n",
       "    </tr>\n",
       "  </tbody>\n",
       "</table>\n",
       "</div>"
      ],
      "text/plain": [
       "       order_products_value  order_items_qty\n",
       "count         100000.000000    100000.000000\n",
       "mean             129.191704         1.100090\n",
       "std              194.863060         0.459189\n",
       "min                2.000000         1.000000\n",
       "25%               46.990000         1.000000\n",
       "50%               83.650000         1.000000\n",
       "75%              145.900000         1.000000\n",
       "max            13440.000000        20.000000"
      ]
     },
     "execution_count": 3,
     "metadata": {},
     "output_type": "execute_result"
    }
   ],
   "source": [
    "df.describe()"
   ]
  },
  {
   "cell_type": "code",
   "execution_count": 4,
   "metadata": {},
   "outputs": [
    {
     "name": "stdout",
     "output_type": "stream",
     "text": [
      "<class 'pandas.core.frame.DataFrame'>\n",
      "Int64Index: 100000 entries, 0 to 99999\n",
      "Data columns (total 6 columns):\n",
      "customer_unique_id      100000 non-null object\n",
      "order_id                100000 non-null object\n",
      "order_products_value    100000 non-null float64\n",
      "order_aproved_at        99982 non-null datetime64[ns]\n",
      "order_items_qty         100000 non-null int64\n",
      "time                    99982 non-null datetime64[ns]\n",
      "dtypes: datetime64[ns](2), float64(1), int64(1), object(2)\n",
      "memory usage: 5.3+ MB\n"
     ]
    }
   ],
   "source": [
    "df.info()"
   ]
  },
  {
   "cell_type": "code",
   "execution_count": 5,
   "metadata": {},
   "outputs": [
    {
     "data": {
      "text/plain": [
       "customer_unique_id       0\n",
       "order_id                 0\n",
       "order_products_value     0\n",
       "order_aproved_at        18\n",
       "order_items_qty          0\n",
       "time                    18\n",
       "dtype: int64"
      ]
     },
     "execution_count": 5,
     "metadata": {},
     "output_type": "execute_result"
    }
   ],
   "source": [
    "#take a look at null value 查看是否有空值\n",
    "df.isnull().sum()"
   ]
  },
  {
   "cell_type": "code",
   "execution_count": 6,
   "metadata": {},
   "outputs": [],
   "source": [
    "#drop null 去掉空值\n",
    "df.dropna(inplace = True)"
   ]
  },
  {
   "cell_type": "code",
   "execution_count": 7,
   "metadata": {},
   "outputs": [
    {
     "data": {
      "text/plain": [
       "customer_unique_id      99982\n",
       "order_id                99982\n",
       "order_products_value    99982\n",
       "order_aproved_at        99982\n",
       "order_items_qty         99982\n",
       "time                    99982\n",
       "dtype: int64"
      ]
     },
     "execution_count": 7,
     "metadata": {},
     "output_type": "execute_result"
    }
   ],
   "source": [
    "#check output 验证清理后的结果\n",
    "df.notnull().sum()"
   ]
  },
  {
   "cell_type": "code",
   "execution_count": 8,
   "metadata": {},
   "outputs": [
    {
     "data": {
      "text/plain": [
       "1878"
      ]
     },
     "execution_count": 8,
     "metadata": {},
     "output_type": "execute_result"
    }
   ],
   "source": [
    "df.duplicated().sum()"
   ]
  },
  {
   "cell_type": "markdown",
   "metadata": {},
   "source": [
    "去掉所有的空值，因为空值表示这些是没有经过确认的订单，所以需要去掉这些订单。\n",
    "\n",
    "有重复值，在此数据集中，因为同一个id会有购买多次，所以重复值需要保留。"
   ]
  },
  {
   "cell_type": "markdown",
   "metadata": {},
   "source": [
    "### 商品金额的销售额分析（以月份为单位，以订单为数据粒度）"
   ]
  },
  {
   "cell_type": "code",
   "execution_count": 9,
   "metadata": {},
   "outputs": [
    {
     "data": {
      "text/plain": [
       "Text(0,0.5,'order_products_value')"
      ]
     },
     "execution_count": 9,
     "metadata": {},
     "output_type": "execute_result"
    },
    {
     "data": {
      "image/png": "[encoded data removed]",
      "text/plain": [
       "<matplotlib.figure.Figure at 0x1a19430358>"
      ]
     },
     "metadata": {},
     "output_type": "display_data"
    }
   ],
   "source": [
    "df.groupby('time').order_products_value.sum().plot()\n",
    "plt.title(\"Order Value Trend In Different Months\")\n",
    "plt.ylabel(\"order_products_value\")"
   ]
  },
  {
   "cell_type": "markdown",
   "metadata": {},
   "source": [
    "2017年开始，商品销售额逐渐上升，并且在2017年11月份达到最高，之后逐渐下跌。"
   ]
  },
  {
   "cell_type": "markdown",
   "metadata": {},
   "source": [
    "### 商品销售额与订单内商品数量的关系"
   ]
  },
  {
   "cell_type": "code",
   "execution_count": 10,
   "metadata": {},
   "outputs": [
    {
     "data": {
      "text/plain": [
       "Text(0.5,1,'Relationship Between Order_products_value and Order_items_qty')"
      ]
     },
     "execution_count": 10,
     "metadata": {},
     "output_type": "execute_result"
    },
    {
     "data": {
      "image/png": "[encoded data removed]",
      "text/plain": [
       "<matplotlib.figure.Figure at 0x10857f1d0>"
      ]
     },
     "metadata": {},
     "output_type": "display_data"
    }
   ],
   "source": [
    "df.plot(x  = \"order_products_value\", y = \"order_items_qty\", \n",
    "        kind = \"scatter\",alpha = 0.4)\n",
    "plt.title(\"Relationship Between Order_products_value and Order_items_qty\")"
   ]
  },
  {
   "cell_type": "markdown",
   "metadata": {},
   "source": [
    "### 以顾客为数据粒度，商品销售额与订单内商品数量的关系"
   ]
  },
  {
   "cell_type": "code",
   "execution_count": 11,
   "metadata": {},
   "outputs": [
    {
     "data": {
      "text/plain": [
       "Text(0.5,1,'Relationship Between Order_products_value and Order_items_qty By Customer Id')"
      ]
     },
     "execution_count": 11,
     "metadata": {},
     "output_type": "execute_result"
    },
    {
     "data": {
      "image/png": "[encoded data removed]",
      "text/plain": [
       "<matplotlib.figure.Figure at 0x108584748>"
      ]
     },
     "metadata": {},
     "output_type": "display_data"
    }
   ],
   "source": [
    "df.groupby('customer_unique_id').sum().plot(x ='order_products_value',y ='order_items_qty', \n",
    "                                            kind = \"scatter\", alpha = 0.4 )\n",
    "plt.title(\"Relationship Between Order_products_value and Order_items_qty By Customer Id\")"
   ]
  },
  {
   "cell_type": "markdown",
   "metadata": {},
   "source": [
    "### 分析每个用户的消费能力"
   ]
  },
  {
   "cell_type": "code",
   "execution_count": 12,
   "metadata": {},
   "outputs": [
    {
     "data": {
      "text/plain": [
       "Text(0.5,0,'Customer Counts')"
      ]
     },
     "execution_count": 12,
     "metadata": {},
     "output_type": "execute_result"
    },
    {
     "data": {
      "image/png": "[encoded data removed]",
      "text/plain": [
       "<matplotlib.figure.Figure at 0x10ec802b0>"
      ]
     },
     "metadata": {},
     "output_type": "display_data"
    }
   ],
   "source": [
    "df.groupby('customer_unique_id').sum().order_products_value.plot(kind='hist',bins=1000,\n",
    "                                                                 xlim=(0,1000), alpha = 0.6)\n",
    "plt.title(\"Customer Purchase Value\")\n",
    "plt.xlabel(\"Customer Counts\")"
   ]
  },
  {
   "cell_type": "markdown",
   "metadata": {},
   "source": [
    "按照顾客的累积消费金额为标准，查看在这个网站上购买的用户贡献度，一些顶级用户贡献了极大销售金额，整个分布成长尾趋势。"
   ]
  },
  {
   "cell_type": "code",
   "execution_count": 13,
   "metadata": {},
   "outputs": [
    {
     "data": {
      "text/plain": [
       "Text(0.5,1,'Customer Purchase Value In Top 200')"
      ]
     },
     "execution_count": 13,
     "metadata": {},
     "output_type": "execute_result"
    },
    {
     "data": {
      "image/png": "[encoded data removed]",
      "text/plain": [
       "<matplotlib.figure.Figure at 0x110772ef0>"
      ]
     },
     "metadata": {},
     "output_type": "display_data"
    }
   ],
   "source": [
    "df.groupby('customer_unique_id').sum().order_products_value.plot(kind='hist',bins=1000,xlim=(0,200), \n",
    "                                                                 alpha = 0.6)\n",
    "plt.xlabel(\"Customer Counts\")\n",
    "plt.title(\"Customer Purchase Value In Top 200\")"
   ]
  },
  {
   "cell_type": "markdown",
   "metadata": {},
   "source": [
    "将坐标轴换成0到200，查看头部顾客贡献的分布状况"
   ]
  },
  {
   "cell_type": "code",
   "execution_count": 14,
   "metadata": {},
   "outputs": [
    {
     "data": {
      "text/plain": [
       "129.19968724370389"
      ]
     },
     "execution_count": 14,
     "metadata": {},
     "output_type": "execute_result"
    }
   ],
   "source": [
    "ARPU = df[\"order_products_value\"].sum()/df['customer_unique_id'].count()\n",
    "ARPU"
   ]
  },
  {
   "cell_type": "markdown",
   "metadata": {},
   "source": [
    "按照从2016年8月到2018年9月这个时间段来说，从每个用户所贡献的营业额平均为129.1917036"
   ]
  },
  {
   "cell_type": "markdown",
   "metadata": {},
   "source": [
    "### 商品的复购率"
   ]
  },
  {
   "cell_type": "code",
   "execution_count": 15,
   "metadata": {},
   "outputs": [],
   "source": [
    "pivoted_counts = df.pivot_table(index = 'customer_unique_id',columns = 'time',\n",
    "                                values = 'order_aproved_at',aggfunc = 'count').fillna(0)"
   ]
  },
  {
   "cell_type": "code",
   "execution_count": 16,
   "metadata": {},
   "outputs": [],
   "source": [
    "pivoted_counts_tran = pivoted_counts.applymap(lambda x: 1 if x > 1 else np.NaN if x == 0 else 0)"
   ]
  },
  {
   "cell_type": "markdown",
   "metadata": {},
   "source": [
    "此处的复购率，是将月作为时间划分单位之后，在此期间内消费了两次及以上的用户在总体用户中的占比。\n",
    "\n",
    "将数据转换一下，消费两次及以上记为1，消费一次记为0，没有消费记为NaN。\n"
   ]
  },
  {
   "cell_type": "code",
   "execution_count": 17,
   "metadata": {},
   "outputs": [
    {
     "data": {
      "text/plain": [
       "Text(0.5,1,'Rate For Purchasing')"
      ]
     },
     "execution_count": 17,
     "metadata": {},
     "output_type": "execute_result"
    },
    {
     "data": {
      "image/png": "[encoded data removed]",
      "text/plain": [
       "<matplotlib.figure.Figure at 0x1a1963e4e0>"
      ]
     },
     "metadata": {},
     "output_type": "display_data"
    }
   ],
   "source": [
    "(pivoted_counts_tran.sum()/pivoted_counts_tran.count()).plot()\n",
    "\n",
    "plt.ylabel(\"Rate\")\n",
    "plt.title(\"Rate For Purchasing\")"
   ]
  },
  {
   "cell_type": "code",
   "execution_count": 18,
   "metadata": {},
   "outputs": [
    {
     "data": {
      "text/plain": [
       "3"
      ]
     },
     "execution_count": 18,
     "metadata": {},
     "output_type": "execute_result"
    }
   ],
   "source": [
    "df.query('time == \"2016-12\"')[\"order_id\"].count()"
   ]
  },
  {
   "cell_type": "code",
   "execution_count": 19,
   "metadata": {},
   "outputs": [
    {
     "data": {
      "text/plain": [
       "424"
      ]
     },
     "execution_count": 19,
     "metadata": {},
     "output_type": "execute_result"
    }
   ],
   "source": [
    "df.query('time == \"2016-10\"')[\"order_id\"].count()"
   ]
  },
  {
   "cell_type": "markdown",
   "metadata": {},
   "source": [
    "复购率的整体不是很高，最高5%的比例，也就是说每个顾客购买两次以上的频率并不高。\n",
    "\n",
    "在早期有一个非常大的峰值，之后再2017-01月有一个接近为0的低谷，这说明这时候之前购买的顾客都没有再在此平台上面购买东西。\n",
    "\n",
    "将2016年12月份的所有交易记录调出来发现，这个月只有3笔订单，这就是出现低谷的原因。接下来需要去寻找到这个月订单量异常小的原因。\n",
    "\n",
    "在2017-07月开始，慢慢有些下滑，说明部分老客开始流失，注意对这些顾客的维护工作，比如提供更多的会员福利和更大的会员折扣力度，或者是通过sms和邮件通知的形式，引起顾客的注意，让他们保持购买的习惯"
   ]
  },
  {
   "cell_type": "markdown",
   "metadata": {},
   "source": [
    "### 用户生命周期"
   ]
  },
  {
   "cell_type": "code",
   "execution_count": 20,
   "metadata": {},
   "outputs": [
    {
     "data": {
      "text/plain": [
       "count                       92499\n",
       "mean       3 days 02:55:25.684266\n",
       "std       27 days 06:46:19.736040\n",
       "min               0 days 00:00:00\n",
       "25%               0 days 00:00:00\n",
       "50%               0 days 00:00:00\n",
       "75%               0 days 00:00:00\n",
       "max      666 days 22:42:39.096966\n",
       "Name: order_aproved_at, dtype: object"
      ]
     },
     "execution_count": 20,
     "metadata": {},
     "output_type": "execute_result"
    }
   ],
   "source": [
    "(df.groupby('customer_unique_id').order_aproved_at.max() - df.groupby('customer_unique_id').order_aproved_at.min()).describe()"
   ]
  },
  {
   "cell_type": "markdown",
   "metadata": {},
   "source": [
    "用户生命周期的平均值在3天，在电商领域，其实是一个非常低的数字，\n",
    "\n",
    "但是olist是一个非常多的小店聚集的综合电商平台，所以这个只是一个总体的状况。"
   ]
  },
  {
   "cell_type": "code",
   "execution_count": 21,
   "metadata": {},
   "outputs": [
    {
     "data": {
      "text/plain": [
       "Text(0.5,1,'Customer Lifetime for Olist')"
      ]
     },
     "execution_count": 21,
     "metadata": {},
     "output_type": "execute_result"
    },
    {
     "data": {
      "image/png": "[encoded data removed]",
      "text/plain": [
       "<matplotlib.figure.Figure at 0x10ec78e48>"
      ]
     },
     "metadata": {},
     "output_type": "display_data"
    }
   ],
   "source": [
    "((df.groupby('customer_unique_id').order_aproved_at.max() - df.groupby('customer_unique_id').order_aproved_at.min())/np.timedelta64(1,'D')).plot(kind = \"hist\",bins=100)\n",
    "\n",
    "plt.xlabel(\"Day\")\n",
    "plt.title(\"Customer Lifetime for Olist\")"
   ]
  },
  {
   "cell_type": "markdown",
   "metadata": {},
   "source": [
    "大部分的用户生命周期都是0天，这说明只消费了一次的新客非常的多，\n",
    "\n",
    "接下来将只消费了一次的新客排除在外，看一下购买过两次及两次以上的顾客的分布特征。"
   ]
  },
  {
   "cell_type": "code",
   "execution_count": 22,
   "metadata": {},
   "outputs": [
    {
     "data": {
      "text/plain": [
       "Text(0.5,1,'Customer Lifetime for Olist Without New Customer')"
      ]
     },
     "execution_count": 22,
     "metadata": {},
     "output_type": "execute_result"
    },
    {
     "data": {
      "image/png": "[encoded data removed]",
      "text/plain": [
       "<matplotlib.figure.Figure at 0x1161f1898>"
      ]
     },
     "metadata": {},
     "output_type": "display_data"
    }
   ],
   "source": [
    "life_time =(df.groupby('customer_unique_id').order_aproved_at.max() - df.groupby('customer_unique_id').order_aproved_at.min())/np.timedelta64(1,'D')\n",
    "\n",
    "life_time[life_time > 0].hist(bins=200)\n",
    "\n",
    "plt.xlabel(\"Day\")\n",
    "plt.ylabel(\"Frequency\")\n",
    "plt.title(\"Customer Lifetime for Olist Without New Customer\")"
   ]
  },
  {
   "cell_type": "markdown",
   "metadata": {},
   "source": [
    "依然是非常多的顾客是只购买了一次，在生命周期为0的地方是最高的，之后是慢慢下降的趋势。\n",
    "\n",
    "就说明，从电商集合店olist总体的状况来看，非常多的顾客是200天后流失了。"
   ]
  },
  {
   "cell_type": "markdown",
   "metadata": {},
   "source": [
    "### 顾客留存"
   ]
  },
  {
   "cell_type": "code",
   "execution_count": 23,
   "metadata": {},
   "outputs": [],
   "source": [
    "user_purchase = df[[\"customer_unique_id\",\"order_id\",\"order_products_value\",\"order_aproved_at\"]]\n",
    "\n",
    "user_retention = pd.merge(left= user_purchase,right = df.groupby('customer_unique_id').order_aproved_at.min().reset_index(),\n",
    "                          how='inner',on='customer_unique_id',suffixes=('_max','_min'))\n",
    "\n"
   ]
  },
  {
   "cell_type": "code",
   "execution_count": 24,
   "metadata": {},
   "outputs": [
    {
     "data": {
      "text/html": [
       "<div>\n",
       "<style scoped>\n",
       "    .dataframe tbody tr th:only-of-type {\n",
       "        vertical-align: middle;\n",
       "    }\n",
       "\n",
       "    .dataframe tbody tr th {\n",
       "        vertical-align: top;\n",
       "    }\n",
       "\n",
       "    .dataframe thead th {\n",
       "        text-align: right;\n",
       "    }\n",
       "</style>\n",
       "<table border=\"1\" class=\"dataframe\">\n",
       "  <thead>\n",
       "    <tr style=\"text-align: right;\">\n",
       "      <th></th>\n",
       "      <th>customer_unique_id</th>\n",
       "      <th>order_id</th>\n",
       "      <th>order_products_value</th>\n",
       "      <th>order_aproved_at_max</th>\n",
       "      <th>order_aproved_at_min</th>\n",
       "    </tr>\n",
       "  </thead>\n",
       "  <tbody>\n",
       "    <tr>\n",
       "      <th>0</th>\n",
       "      <td>ac0e5d7f07043dd32831bdad3b99ad26</td>\n",
       "      <td>bdbeac23af8ee5dc1481782eaca3c24e</td>\n",
       "      <td>15.0</td>\n",
       "      <td>2018-01-30 04:31:19.335683</td>\n",
       "      <td>2018-01-30 04:31:19.335683</td>\n",
       "    </tr>\n",
       "    <tr>\n",
       "      <th>1</th>\n",
       "      <td>4ed24aaed4079fe0661c0e4b3b420dff</td>\n",
       "      <td>e12e86e5dbfcb5d2820427e70fd658f3</td>\n",
       "      <td>72.9</td>\n",
       "      <td>2017-09-12 04:25:20.792749</td>\n",
       "      <td>2017-09-12 04:25:20.792749</td>\n",
       "    </tr>\n",
       "    <tr>\n",
       "      <th>2</th>\n",
       "      <td>7e0e291c0f4fc2d69208954d26ed0586</td>\n",
       "      <td>5f79b5b0931d63f1a42989eb65b9da6e</td>\n",
       "      <td>89.8</td>\n",
       "      <td>2017-11-14 16:35:32.819244</td>\n",
       "      <td>2017-11-14 16:35:32.819244</td>\n",
       "    </tr>\n",
       "    <tr>\n",
       "      <th>3</th>\n",
       "      <td>ff1dcb27ea444eddb94ea5fea77b875c</td>\n",
       "      <td>a44895d095d7e0702b6a162fa2dbeced</td>\n",
       "      <td>54.9</td>\n",
       "      <td>2017-07-16 09:55:12.192935</td>\n",
       "      <td>2017-07-16 09:55:12.192935</td>\n",
       "    </tr>\n",
       "    <tr>\n",
       "      <th>4</th>\n",
       "      <td>237130c4b6717031ed62d9d0b16fd94f</td>\n",
       "      <td>faa51eb71627968952ed4dd55f0979cb</td>\n",
       "      <td>32.5</td>\n",
       "      <td>2017-08-22 04:26:34.365742</td>\n",
       "      <td>2017-08-22 04:26:34.365742</td>\n",
       "    </tr>\n",
       "  </tbody>\n",
       "</table>\n",
       "</div>"
      ],
      "text/plain": [
       "                 customer_unique_id                          order_id  \\\n",
       "0  ac0e5d7f07043dd32831bdad3b99ad26  bdbeac23af8ee5dc1481782eaca3c24e   \n",
       "1  4ed24aaed4079fe0661c0e4b3b420dff  e12e86e5dbfcb5d2820427e70fd658f3   \n",
       "2  7e0e291c0f4fc2d69208954d26ed0586  5f79b5b0931d63f1a42989eb65b9da6e   \n",
       "3  ff1dcb27ea444eddb94ea5fea77b875c  a44895d095d7e0702b6a162fa2dbeced   \n",
       "4  237130c4b6717031ed62d9d0b16fd94f  faa51eb71627968952ed4dd55f0979cb   \n",
       "\n",
       "   order_products_value       order_aproved_at_max       order_aproved_at_min  \n",
       "0                  15.0 2018-01-30 04:31:19.335683 2018-01-30 04:31:19.335683  \n",
       "1                  72.9 2017-09-12 04:25:20.792749 2017-09-12 04:25:20.792749  \n",
       "2                  89.8 2017-11-14 16:35:32.819244 2017-11-14 16:35:32.819244  \n",
       "3                  54.9 2017-07-16 09:55:12.192935 2017-07-16 09:55:12.192935  \n",
       "4                  32.5 2017-08-22 04:26:34.365742 2017-08-22 04:26:34.365742  "
      ]
     },
     "execution_count": 24,
     "metadata": {},
     "output_type": "execute_result"
    }
   ],
   "source": [
    "user_retention.head()"
   ]
  },
  {
   "cell_type": "code",
   "execution_count": 25,
   "metadata": {},
   "outputs": [],
   "source": [
    "user_retention['diff'] = (user_retention['order_aproved_at_max'] - user_retention['order_aproved_at_min']).apply(lambda x:x/np.timedelta64(1,'D'))"
   ]
  },
  {
   "cell_type": "code",
   "execution_count": 26,
   "metadata": {},
   "outputs": [
    {
     "data": {
      "text/html": [
       "<div>\n",
       "<style scoped>\n",
       "    .dataframe tbody tr th:only-of-type {\n",
       "        vertical-align: middle;\n",
       "    }\n",
       "\n",
       "    .dataframe tbody tr th {\n",
       "        vertical-align: top;\n",
       "    }\n",
       "\n",
       "    .dataframe thead th {\n",
       "        text-align: right;\n",
       "    }\n",
       "</style>\n",
       "<table border=\"1\" class=\"dataframe\">\n",
       "  <thead>\n",
       "    <tr style=\"text-align: right;\">\n",
       "      <th></th>\n",
       "      <th>customer_unique_id</th>\n",
       "      <th>order_id</th>\n",
       "      <th>order_products_value</th>\n",
       "      <th>order_aproved_at_max</th>\n",
       "      <th>order_aproved_at_min</th>\n",
       "      <th>diff</th>\n",
       "    </tr>\n",
       "  </thead>\n",
       "  <tbody>\n",
       "    <tr>\n",
       "      <th>0</th>\n",
       "      <td>ac0e5d7f07043dd32831bdad3b99ad26</td>\n",
       "      <td>bdbeac23af8ee5dc1481782eaca3c24e</td>\n",
       "      <td>15.0</td>\n",
       "      <td>2018-01-30 04:31:19.335683</td>\n",
       "      <td>2018-01-30 04:31:19.335683</td>\n",
       "      <td>0.0</td>\n",
       "    </tr>\n",
       "    <tr>\n",
       "      <th>1</th>\n",
       "      <td>4ed24aaed4079fe0661c0e4b3b420dff</td>\n",
       "      <td>e12e86e5dbfcb5d2820427e70fd658f3</td>\n",
       "      <td>72.9</td>\n",
       "      <td>2017-09-12 04:25:20.792749</td>\n",
       "      <td>2017-09-12 04:25:20.792749</td>\n",
       "      <td>0.0</td>\n",
       "    </tr>\n",
       "    <tr>\n",
       "      <th>2</th>\n",
       "      <td>7e0e291c0f4fc2d69208954d26ed0586</td>\n",
       "      <td>5f79b5b0931d63f1a42989eb65b9da6e</td>\n",
       "      <td>89.8</td>\n",
       "      <td>2017-11-14 16:35:32.819244</td>\n",
       "      <td>2017-11-14 16:35:32.819244</td>\n",
       "      <td>0.0</td>\n",
       "    </tr>\n",
       "    <tr>\n",
       "      <th>3</th>\n",
       "      <td>ff1dcb27ea444eddb94ea5fea77b875c</td>\n",
       "      <td>a44895d095d7e0702b6a162fa2dbeced</td>\n",
       "      <td>54.9</td>\n",
       "      <td>2017-07-16 09:55:12.192935</td>\n",
       "      <td>2017-07-16 09:55:12.192935</td>\n",
       "      <td>0.0</td>\n",
       "    </tr>\n",
       "    <tr>\n",
       "      <th>4</th>\n",
       "      <td>237130c4b6717031ed62d9d0b16fd94f</td>\n",
       "      <td>faa51eb71627968952ed4dd55f0979cb</td>\n",
       "      <td>32.5</td>\n",
       "      <td>2017-08-22 04:26:34.365742</td>\n",
       "      <td>2017-08-22 04:26:34.365742</td>\n",
       "      <td>0.0</td>\n",
       "    </tr>\n",
       "  </tbody>\n",
       "</table>\n",
       "</div>"
      ],
      "text/plain": [
       "                 customer_unique_id                          order_id  \\\n",
       "0  ac0e5d7f07043dd32831bdad3b99ad26  bdbeac23af8ee5dc1481782eaca3c24e   \n",
       "1  4ed24aaed4079fe0661c0e4b3b420dff  e12e86e5dbfcb5d2820427e70fd658f3   \n",
       "2  7e0e291c0f4fc2d69208954d26ed0586  5f79b5b0931d63f1a42989eb65b9da6e   \n",
       "3  ff1dcb27ea444eddb94ea5fea77b875c  a44895d095d7e0702b6a162fa2dbeced   \n",
       "4  237130c4b6717031ed62d9d0b16fd94f  faa51eb71627968952ed4dd55f0979cb   \n",
       "\n",
       "   order_products_value       order_aproved_at_max       order_aproved_at_min  \\\n",
       "0                  15.0 2018-01-30 04:31:19.335683 2018-01-30 04:31:19.335683   \n",
       "1                  72.9 2017-09-12 04:25:20.792749 2017-09-12 04:25:20.792749   \n",
       "2                  89.8 2017-11-14 16:35:32.819244 2017-11-14 16:35:32.819244   \n",
       "3                  54.9 2017-07-16 09:55:12.192935 2017-07-16 09:55:12.192935   \n",
       "4                  32.5 2017-08-22 04:26:34.365742 2017-08-22 04:26:34.365742   \n",
       "\n",
       "   diff  \n",
       "0   0.0  \n",
       "1   0.0  \n",
       "2   0.0  \n",
       "3   0.0  \n",
       "4   0.0  "
      ]
     },
     "execution_count": 26,
     "metadata": {},
     "output_type": "execute_result"
    }
   ],
   "source": [
    "user_retention.head()"
   ]
  },
  {
   "cell_type": "markdown",
   "metadata": {},
   "source": [
    "将时间分段，查看在不同时间段内的顾客留存趋势。\n",
    "\n",
    "获得用户每一次消费距第一次消费的时间差值,\n",
    "\n",
    "将时间差值分桶，这里分成0～3天内，3～7天内，7～15天等，\n",
    "\n",
    "代表用户当前消费时间距第一次消费属于哪个时间段呢。这里date_diff=0并没有被划分入0～3天，\n",
    "\n",
    "因为计算的是留存率，如果用户仅消费了一次，留存率应该是0。另外一方面，如果用户第一天内消费了多次，但是往后没有消费，也算作留存率0。"
   ]
  },
  {
   "cell_type": "code",
   "execution_count": 27,
   "metadata": {},
   "outputs": [
    {
     "data": {
      "text/html": [
       "<div>\n",
       "<style scoped>\n",
       "    .dataframe tbody tr th:only-of-type {\n",
       "        vertical-align: middle;\n",
       "    }\n",
       "\n",
       "    .dataframe tbody tr th {\n",
       "        vertical-align: top;\n",
       "    }\n",
       "\n",
       "    .dataframe thead th {\n",
       "        text-align: right;\n",
       "    }\n",
       "</style>\n",
       "<table border=\"1\" class=\"dataframe\">\n",
       "  <thead>\n",
       "    <tr style=\"text-align: right;\">\n",
       "      <th></th>\n",
       "      <th>order_products_value</th>\n",
       "      <th>diff</th>\n",
       "    </tr>\n",
       "  </thead>\n",
       "  <tbody>\n",
       "    <tr>\n",
       "      <th>count</th>\n",
       "      <td>99982.000000</td>\n",
       "      <td>99982.000000</td>\n",
       "    </tr>\n",
       "    <tr>\n",
       "      <th>mean</th>\n",
       "      <td>129.199687</td>\n",
       "      <td>3.374636</td>\n",
       "    </tr>\n",
       "    <tr>\n",
       "      <th>std</th>\n",
       "      <td>194.877564</td>\n",
       "      <td>27.958847</td>\n",
       "    </tr>\n",
       "    <tr>\n",
       "      <th>min</th>\n",
       "      <td>2.000000</td>\n",
       "      <td>0.000000</td>\n",
       "    </tr>\n",
       "    <tr>\n",
       "      <th>25%</th>\n",
       "      <td>46.990000</td>\n",
       "      <td>0.000000</td>\n",
       "    </tr>\n",
       "    <tr>\n",
       "      <th>50%</th>\n",
       "      <td>83.790000</td>\n",
       "      <td>0.000000</td>\n",
       "    </tr>\n",
       "    <tr>\n",
       "      <th>75%</th>\n",
       "      <td>145.900000</td>\n",
       "      <td>0.000000</td>\n",
       "    </tr>\n",
       "    <tr>\n",
       "      <th>max</th>\n",
       "      <td>13440.000000</td>\n",
       "      <td>666.946286</td>\n",
       "    </tr>\n",
       "  </tbody>\n",
       "</table>\n",
       "</div>"
      ],
      "text/plain": [
       "       order_products_value          diff\n",
       "count          99982.000000  99982.000000\n",
       "mean             129.199687      3.374636\n",
       "std              194.877564     27.958847\n",
       "min                2.000000      0.000000\n",
       "25%               46.990000      0.000000\n",
       "50%               83.790000      0.000000\n",
       "75%              145.900000      0.000000\n",
       "max            13440.000000    666.946286"
      ]
     },
     "execution_count": 27,
     "metadata": {},
     "output_type": "execute_result"
    }
   ],
   "source": [
    "user_retention['diff_bin']= pd.cut(user_retention['diff'],bins=[0,3,7,15,60,90,180,365])\n",
    "\n",
    "user_retention.describe()"
   ]
  },
  {
   "cell_type": "code",
   "execution_count": 28,
   "metadata": {},
   "outputs": [
    {
     "data": {
      "text/plain": [
       "Text(0.5,1,'Customer Purchase Diff Bin')"
      ]
     },
     "execution_count": 28,
     "metadata": {},
     "output_type": "execute_result"
    },
    {
     "data": {
      "image/png": "[encoded data removed]",
      "text/plain": [
       "<matplotlib.figure.Figure at 0x10f0ad710>"
      ]
     },
     "metadata": {},
     "output_type": "display_data"
    }
   ],
   "source": [
    "pivoted = user_retention.pivot_table(index='customer_unique_id',columns='diff_bin',\n",
    "                                     values='order_products_value',aggfunc=sum)\n",
    "\n",
    "pivoted_trans = pivoted.fillna(0).applymap(lambda x:1 if  x>0 else 0)\n",
    "\n",
    "(pivoted_trans.sum()/pivoted_trans.count()).plot(kind='bar',alpha = 0.4,figsize = (15,8))\n",
    "\n",
    "plt.ylabel(\"Frequency\")\n",
    "plt.title(\"Customer Purchase Diff Bin\")"
   ]
  },
  {
   "cell_type": "markdown",
   "metadata": {},
   "source": [
    "绝大多数的顾客是在0-3天的区间内，少部分的在15-60天和180天到365天，\n",
    "\n",
    "这说明olist电商平台上顾客的留存与之前的观察是一致的，整个电商平台对顾客的留存率重视度不够，可能没有足够的措施保证留存率。"
   ]
  },
  {
   "cell_type": "markdown",
   "metadata": {},
   "source": [
    "### 消费间隔"
   ]
  },
  {
   "cell_type": "code",
   "execution_count": 29,
   "metadata": {},
   "outputs": [
    {
     "data": {
      "text/plain": [
       "customer_unique_id                     \n",
       "000329c0b406d30f7e92fbd6a88a009e  55781   NaN\n",
       "0003418b36ed466545169cac383b59b4  43485   NaN\n",
       "000446ff827ee6397d0f00816d6a1fb2  45882   NaN\n",
       "0004983adf3647e6c0bf708af02e94e4  50054   NaN\n",
       "0004e8eb194ba10ce76319ad18b09a5c  20071   NaN\n",
       "Name: diff, dtype: float64"
      ]
     },
     "execution_count": 29,
     "metadata": {},
     "output_type": "execute_result"
    }
   ],
   "source": [
    "def diff(group):\n",
    "    d = group[\"diff\"] - group[\"diff\"].shift(-1)\n",
    "    return d\n",
    "\n",
    "last_diff = user_retention.groupby(\"customer_unique_id\").apply(diff)\n",
    "last_diff.head()"
   ]
  },
  {
   "cell_type": "code",
   "execution_count": 30,
   "metadata": {},
   "outputs": [
    {
     "data": {
      "text/plain": [
       "-0.6879337646617943"
      ]
     },
     "execution_count": 30,
     "metadata": {},
     "output_type": "execute_result"
    }
   ],
   "source": [
    "last_diff.mean()"
   ]
  },
  {
   "cell_type": "code",
   "execution_count": 31,
   "metadata": {},
   "outputs": [
    {
     "data": {
      "text/plain": [
       "Text(0.5,1,'User Retention Time Priod')"
      ]
     },
     "execution_count": 31,
     "metadata": {},
     "output_type": "execute_result"
    },
    {
     "data": {
      "image/png": "[encoded data removed]",
      "text/plain": [
       "<matplotlib.figure.Figure at 0x1a2a2810f0>"
      ]
     },
     "metadata": {},
     "output_type": "display_data"
    }
   ],
   "source": [
    "last_diff.plot(kind = \"hist\", bins = 40, color = \"blue\", alpha = 0.6)\n",
    "\n",
    "plt.xlabel(\"Days For User Retention\")\n",
    "\n",
    "plt.title(\"User Retention Time Priod\")"
   ]
  },
  {
   "cell_type": "markdown",
   "metadata": {},
   "source": [
    "使用mean函数求出消费间隔为0.688天，\n",
    "\n",
    "消费间隔可以说明网站内顾客消费的周期平均值，以此来判断什么时候对这些顾客进行召回。\n",
    "\n",
    "结合之前的内容来看，有关召回的营销策略需要与顾客留存的营销策略一起做，先调查是什么引起了顾客的大量流失，\n",
    "\n",
    "以及为什么顾客的对网站的粘度不够，是产品的问题，还是店铺运营的问题。"
   ]
  },
  {
   "cell_type": "markdown",
   "metadata": {},
   "source": [
    "### RFM顾客价值模型"
   ]
  },
  {
   "cell_type": "code",
   "execution_count": 32,
   "metadata": {},
   "outputs": [],
   "source": [
    "recency_value  = df[\"order_aproved_at\"].groupby(df.index).max()\n",
    "frequency_value = df[\"order_aproved_at\"].groupby(df.index).count()\n",
    "monetary_value = df[\"order_products_value\"].groupby(df.index).sum()"
   ]
  },
  {
   "cell_type": "code",
   "execution_count": 33,
   "metadata": {},
   "outputs": [
    {
     "data": {
      "text/plain": [
       "Timestamp('2018-09-01 00:00:00')"
      ]
     },
     "execution_count": 33,
     "metadata": {},
     "output_type": "execute_result"
    }
   ],
   "source": [
    "df[\"time\"].max()"
   ]
  },
  {
   "cell_type": "code",
   "execution_count": 34,
   "metadata": {},
   "outputs": [],
   "source": [
    "#将区间划分为2份，从0到1，为差到好\n",
    "\n",
    "deadline_date = df[\"time\"].max()\n",
    "r_interval = (deadline_date - recency_value).dt.days\n",
    "r_score = pd.cut(r_interval, 2, labels = [1,0])\n",
    "f_score = pd.cut(frequency_value, 2, labels = [0,1])\n",
    "m_score = pd.cut(monetary_value, 2, labels = [0,1])"
   ]
  },
  {
   "cell_type": "code",
   "execution_count": 35,
   "metadata": {},
   "outputs": [],
   "source": [
    "rfm_list = [r_score, f_score, m_score]\n",
    "rfm_cols = [\"r_score\",\"f_score\",\"m_score\"]\n",
    "rfm_pd = pd.DataFrame(np.array(rfm_list).transpose(), columns = rfm_cols,\n",
    "                      index = frequency_value.index)"
   ]
  },
  {
   "cell_type": "code",
   "execution_count": 36,
   "metadata": {},
   "outputs": [
    {
     "data": {
      "text/html": [
       "<div>\n",
       "<style scoped>\n",
       "    .dataframe tbody tr th:only-of-type {\n",
       "        vertical-align: middle;\n",
       "    }\n",
       "\n",
       "    .dataframe tbody tr th {\n",
       "        vertical-align: top;\n",
       "    }\n",
       "\n",
       "    .dataframe thead th {\n",
       "        text-align: right;\n",
       "    }\n",
       "</style>\n",
       "<table border=\"1\" class=\"dataframe\">\n",
       "  <thead>\n",
       "    <tr style=\"text-align: right;\">\n",
       "      <th></th>\n",
       "      <th>r_score</th>\n",
       "      <th>f_score</th>\n",
       "      <th>m_score</th>\n",
       "    </tr>\n",
       "  </thead>\n",
       "  <tbody>\n",
       "    <tr>\n",
       "      <th>0</th>\n",
       "      <td>1</td>\n",
       "      <td>0</td>\n",
       "      <td>0</td>\n",
       "    </tr>\n",
       "    <tr>\n",
       "      <th>1</th>\n",
       "      <td>0</td>\n",
       "      <td>0</td>\n",
       "      <td>0</td>\n",
       "    </tr>\n",
       "    <tr>\n",
       "      <th>2</th>\n",
       "      <td>1</td>\n",
       "      <td>0</td>\n",
       "      <td>0</td>\n",
       "    </tr>\n",
       "    <tr>\n",
       "      <th>3</th>\n",
       "      <td>0</td>\n",
       "      <td>0</td>\n",
       "      <td>0</td>\n",
       "    </tr>\n",
       "    <tr>\n",
       "      <th>4</th>\n",
       "      <td>0</td>\n",
       "      <td>0</td>\n",
       "      <td>0</td>\n",
       "    </tr>\n",
       "  </tbody>\n",
       "</table>\n",
       "</div>"
      ],
      "text/plain": [
       "   r_score  f_score  m_score\n",
       "0        1        0        0\n",
       "1        0        0        0\n",
       "2        1        0        0\n",
       "3        0        0        0\n",
       "4        0        0        0"
      ]
     },
     "execution_count": 36,
     "metadata": {},
     "output_type": "execute_result"
    }
   ],
   "source": [
    "rfm_pd.head()"
   ]
  },
  {
   "cell_type": "code",
   "execution_count": 37,
   "metadata": {},
   "outputs": [],
   "source": [
    "#第一种方法：加权得分\n",
    "\n",
    "#与业务探讨后的权重值,活跃度为0.6，消费频率为0.3，消费金额为0.1\n",
    "\n",
    "#rfm_pd[\"rfm_wscore\"] = rfm_pd[\"r_score\"] * 0.6 + rfm_pd[\"f_score\"] * 0.3 + rfm_pd[\"m_score\"] * 0.1"
   ]
  },
  {
   "cell_type": "code",
   "execution_count": 38,
   "metadata": {},
   "outputs": [],
   "source": [
    "#第二种方法：组合得分\n",
    "rfm_pd_tmp = rfm_pd.copy()\n",
    "rfm_pd_tmp[\"r_score\"] = rfm_pd_tmp[\"r_score\"].astype(\"str\")\n",
    "rfm_pd_tmp['f_score'] = rfm_pd_tmp['f_score'].astype('str')\n",
    "rfm_pd_tmp['m_score'] = rfm_pd_tmp['m_score'].astype('str')\n",
    "rfm_pd_tmp['rfm_comb'] = rfm_pd_tmp['r_score'].str.cat(rfm_pd_tmp['f_score']).str.cat(rfm_pd_tmp['m_score'])"
   ]
  },
  {
   "cell_type": "code",
   "execution_count": 39,
   "metadata": {},
   "outputs": [
    {
     "data": {
      "text/html": [
       "<div>\n",
       "<style scoped>\n",
       "    .dataframe tbody tr th:only-of-type {\n",
       "        vertical-align: middle;\n",
       "    }\n",
       "\n",
       "    .dataframe tbody tr th {\n",
       "        vertical-align: top;\n",
       "    }\n",
       "\n",
       "    .dataframe thead th {\n",
       "        text-align: right;\n",
       "    }\n",
       "</style>\n",
       "<table border=\"1\" class=\"dataframe\">\n",
       "  <thead>\n",
       "    <tr style=\"text-align: right;\">\n",
       "      <th></th>\n",
       "      <th>r_score</th>\n",
       "      <th>f_score</th>\n",
       "      <th>m_score</th>\n",
       "      <th>rfm_comb</th>\n",
       "    </tr>\n",
       "  </thead>\n",
       "  <tbody>\n",
       "    <tr>\n",
       "      <th>0</th>\n",
       "      <td>1</td>\n",
       "      <td>0</td>\n",
       "      <td>0</td>\n",
       "      <td>100</td>\n",
       "    </tr>\n",
       "    <tr>\n",
       "      <th>1</th>\n",
       "      <td>0</td>\n",
       "      <td>0</td>\n",
       "      <td>0</td>\n",
       "      <td>000</td>\n",
       "    </tr>\n",
       "    <tr>\n",
       "      <th>2</th>\n",
       "      <td>1</td>\n",
       "      <td>0</td>\n",
       "      <td>0</td>\n",
       "      <td>100</td>\n",
       "    </tr>\n",
       "    <tr>\n",
       "      <th>3</th>\n",
       "      <td>0</td>\n",
       "      <td>0</td>\n",
       "      <td>0</td>\n",
       "      <td>000</td>\n",
       "    </tr>\n",
       "    <tr>\n",
       "      <th>4</th>\n",
       "      <td>0</td>\n",
       "      <td>0</td>\n",
       "      <td>0</td>\n",
       "      <td>000</td>\n",
       "    </tr>\n",
       "  </tbody>\n",
       "</table>\n",
       "</div>"
      ],
      "text/plain": [
       "  r_score f_score m_score rfm_comb\n",
       "0       1       0       0      100\n",
       "1       0       0       0      000\n",
       "2       1       0       0      100\n",
       "3       0       0       0      000\n",
       "4       0       0       0      000"
      ]
     },
     "execution_count": 39,
     "metadata": {},
     "output_type": "execute_result"
    }
   ],
   "source": [
    "rfm_pd_tmp.head()"
   ]
  },
  {
   "cell_type": "code",
   "execution_count": 40,
   "metadata": {},
   "outputs": [
    {
     "data": {
      "text/html": [
       "<div>\n",
       "<style scoped>\n",
       "    .dataframe tbody tr th:only-of-type {\n",
       "        vertical-align: middle;\n",
       "    }\n",
       "\n",
       "    .dataframe tbody tr th {\n",
       "        vertical-align: top;\n",
       "    }\n",
       "\n",
       "    .dataframe thead th {\n",
       "        text-align: right;\n",
       "    }\n",
       "</style>\n",
       "<table border=\"1\" class=\"dataframe\">\n",
       "  <thead>\n",
       "    <tr style=\"text-align: right;\">\n",
       "      <th></th>\n",
       "      <th>r_score</th>\n",
       "      <th>f_score</th>\n",
       "      <th>m_score</th>\n",
       "      <th>rfm_comb</th>\n",
       "    </tr>\n",
       "  </thead>\n",
       "  <tbody>\n",
       "    <tr>\n",
       "      <th>count</th>\n",
       "      <td>99982</td>\n",
       "      <td>99982</td>\n",
       "      <td>99982</td>\n",
       "      <td>99982</td>\n",
       "    </tr>\n",
       "    <tr>\n",
       "      <th>unique</th>\n",
       "      <td>2</td>\n",
       "      <td>1</td>\n",
       "      <td>2</td>\n",
       "      <td>4</td>\n",
       "    </tr>\n",
       "    <tr>\n",
       "      <th>top</th>\n",
       "      <td>1</td>\n",
       "      <td>0</td>\n",
       "      <td>0</td>\n",
       "      <td>100</td>\n",
       "    </tr>\n",
       "    <tr>\n",
       "      <th>freq</th>\n",
       "      <td>62867</td>\n",
       "      <td>99982</td>\n",
       "      <td>99976</td>\n",
       "      <td>62863</td>\n",
       "    </tr>\n",
       "  </tbody>\n",
       "</table>\n",
       "</div>"
      ],
      "text/plain": [
       "       r_score f_score m_score rfm_comb\n",
       "count    99982   99982   99982    99982\n",
       "unique       2       1       2        4\n",
       "top          1       0       0      100\n",
       "freq     62867   99982   99976    62863"
      ]
     },
     "execution_count": 40,
     "metadata": {},
     "output_type": "execute_result"
    }
   ],
   "source": [
    "rfm_pd_tmp.describe()"
   ]
  },
  {
   "cell_type": "code",
   "execution_count": 41,
   "metadata": {},
   "outputs": [],
   "source": [
    "#make bar plot 制作绘制条形图的函数\n",
    "\n",
    "def bar_plot(columns):\n",
    "    rfm_pd_tmp[columns].value_counts().plot(kind = \"bar\", alpha = 0.6)\n",
    "    plt.xlabel(columns)\n",
    "    plt.ylabel('Count')\n",
    "    plt.title('Value_counts for {}'.format(columns))\n",
    "          \n",
    "    return None"
   ]
  },
  {
   "cell_type": "code",
   "execution_count": 42,
   "metadata": {},
   "outputs": [
    {
     "data": {
      "image/png": "[encoded data removed]",
      "text/plain": [
       "<matplotlib.figure.Figure at 0x1a2bdf3860>"
      ]
     },
     "metadata": {},
     "output_type": "display_data"
    }
   ],
   "source": [
    "#购买时间r的得分分布\n",
    "bar_plot(\"r_score\")"
   ]
  },
  {
   "cell_type": "code",
   "execution_count": 43,
   "metadata": {},
   "outputs": [
    {
     "data": {
      "image/png": "[encoded data removed]",
      "text/plain": [
       "<matplotlib.figure.Figure at 0x1a2cb112b0>"
      ]
     },
     "metadata": {},
     "output_type": "display_data"
    }
   ],
   "source": [
    "#购买频率f的得分分布\n",
    "bar_plot(\"f_score\")"
   ]
  },
  {
   "cell_type": "code",
   "execution_count": 44,
   "metadata": {},
   "outputs": [
    {
     "data": {
      "image/png": "[encoded data removed]",
      "text/plain": [
       "<matplotlib.figure.Figure at 0x1a2c3b27b8>"
      ]
     },
     "metadata": {},
     "output_type": "display_data"
    }
   ],
   "source": [
    "#购买金额m的得分分布\n",
    "bar_plot(\"m_score\")"
   ]
  },
  {
   "cell_type": "code",
   "execution_count": 45,
   "metadata": {},
   "outputs": [
    {
     "data": {
      "image/png": "[encoded data removed]",
      "text/plain": [
       "<matplotlib.figure.Figure at 0x1a2c497320>"
      ]
     },
     "metadata": {},
     "output_type": "display_data"
    }
   ],
   "source": [
    "#组合得分后的分布\n",
    "bar_plot(\"rfm_comb\")"
   ]
  },
  {
   "cell_type": "code",
   "execution_count": 46,
   "metadata": {},
   "outputs": [],
   "source": [
    "df_rfm = rfm_pd_tmp.groupby(['rfm_comb'])['r_score'].count().reindex(['111','011','001','101','110','100','010','000'])\n",
    "df_rfm = df_rfm.rename(index={'111':'重要价值客户','011':'重要唤回客户','101':'重要深耕客户','001':'重要挽回客户',\n",
    "                     '110':'潜力客户','010':'一般维持客户','100':'新客','000':'流失客户'})"
   ]
  },
  {
   "cell_type": "code",
   "execution_count": 47,
   "metadata": {},
   "outputs": [
    {
     "data": {
      "text/plain": [
       "rfm_comb\n",
       "重要价值客户        NaN\n",
       "重要唤回客户        NaN\n",
       "重要挽回客户        2.0\n",
       "重要深耕客户        4.0\n",
       "潜力客户          NaN\n",
       "新客        62863.0\n",
       "一般维持客户        NaN\n",
       "流失客户      37113.0\n",
       "Name: r_score, dtype: float64"
      ]
     },
     "execution_count": 47,
     "metadata": {},
     "output_type": "execute_result"
    }
   ],
   "source": [
    "df_rfm"
   ]
  },
  {
   "cell_type": "markdown",
   "metadata": {},
   "source": [
    "rfm模型中观察到的趋势与顾客生命周期中的一致，\n",
    "\n",
    "新客占比非常大，流失的客户也非常多，能够算作重要的客户极少，\n",
    "\n",
    "从产品上来看，说明网站的吸引力和粘性不够；\n",
    "\n",
    "从策略上来看，olist的留存力度不够。"
   ]
  }
 ],
 "metadata": {
  "kernelspec": {
   "display_name": "Python 3",
   "language": "python",
   "name": "python3"
  },
  "language_info": {
   "codemirror_mode": {
    "name": "ipython",
    "version": 3
   },
   "file_extension": ".py",
   "mimetype": "text/x-python",
   "name": "python",
   "nbconvert_exporter": "python",
   "pygments_lexer": "ipython3",
   "version": "3.6.5"
  }
 },
 "nbformat": 4,
 "nbformat_minor": 2
}
