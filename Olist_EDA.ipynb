{
 "cells": [
  {
   "cell_type": "markdown",
   "metadata": {},
   "source": [
    "# Brazilian E-Commerce Dataset by Olist\n",
    "\n",
    "# 巴西电商olist的数据集分析"
   ]
  },
  {
   "cell_type": "markdown",
   "metadata": {},
   "source": [
    "这是巴西Olist电子商务的数据集，包含了2016年到2018年在巴西多个市场中进行的10万份订单。\n",
    "同时，这是一份真实的商业数据，已经被匿名化。\n",
    "\n",
    "之后他们通过电子邮件的调查形式，收集顾客对于客户满意度的评分。\n",
    "\n",
    "现在将用以下形式对这个数据集进行分析：\n",
    "\n",
    "1、Customer 顾客\n",
    "\n",
    "2、Product 产品\n",
    "\n",
    "3、Payment 支付方式\n",
    "\n",
    "4、 Order 订单\n",
    "\n",
    "5、Classified \n",
    "\n",
    "6、Geolocation 地理位置"
   ]
  },
  {
   "cell_type": "markdown",
   "metadata": {},
   "source": [
    "## 0. Load  Package And Data 加载分析包和数据集"
   ]
  },
  {
   "cell_type": "code",
   "execution_count": 1,
   "metadata": {},
   "outputs": [],
   "source": [
    "#load packages 加载分析包\n",
    "import pandas as pd\n",
    "import numpy as np\n",
    "import matplotlib.pyplot as plt\n",
    "import seaborn as sns\n",
    "sns.set_style('darkgrid')"
   ]
  },
  {
   "cell_type": "code",
   "execution_count": 2,
   "metadata": {},
   "outputs": [],
   "source": [
    "#read all csv files 加载数据集\n",
    "product = pd.read_csv(\"product_category_name_translation.csv\")\n",
    "payment = pd.read_csv(\"olist_public_dataset_v2_payments.csv\")\n",
    "customer = pd.read_csv(\"olist_public_dataset_v2_customers.csv\")\n",
    "order = pd.read_csv(\"olist_public_dataset_v2.csv\")\n",
    "classified = pd.read_csv(\"olist_classified_public_dataset.csv\")\n",
    "geolocation = pd.read_csv(\"geolocation_olist_public_dataset.csv\")"
   ]
  },
  {
   "cell_type": "markdown",
   "metadata": {},
   "source": [
    "## 1.Clean Data 清理数据"
   ]
  },
  {
   "cell_type": "markdown",
   "metadata": {},
   "source": [
    "#### 1.1 product 数据集"
   ]
  },
  {
   "cell_type": "code",
   "execution_count": 3,
   "metadata": {},
   "outputs": [
    {
     "data": {
      "text/html": [
       "<div>\n",
       "<style scoped>\n",
       "    .dataframe tbody tr th:only-of-type {\n",
       "        vertical-align: middle;\n",
       "    }\n",
       "\n",
       "    .dataframe tbody tr th {\n",
       "        vertical-align: top;\n",
       "    }\n",
       "\n",
       "    .dataframe thead th {\n",
       "        text-align: right;\n",
       "    }\n",
       "</style>\n",
       "<table border=\"1\" class=\"dataframe\">\n",
       "  <thead>\n",
       "    <tr style=\"text-align: right;\">\n",
       "      <th></th>\n",
       "      <th>product_category_name</th>\n",
       "      <th>product_category_name_english</th>\n",
       "    </tr>\n",
       "  </thead>\n",
       "  <tbody>\n",
       "    <tr>\n",
       "      <th>0</th>\n",
       "      <td>beleza_saude</td>\n",
       "      <td>health_beauty</td>\n",
       "    </tr>\n",
       "    <tr>\n",
       "      <th>1</th>\n",
       "      <td>informatica_acessorios</td>\n",
       "      <td>computers_accessories</td>\n",
       "    </tr>\n",
       "  </tbody>\n",
       "</table>\n",
       "</div>"
      ],
      "text/plain": [
       "    product_category_name product_category_name_english\n",
       "0            beleza_saude                 health_beauty\n",
       "1  informatica_acessorios         computers_accessories"
      ]
     },
     "execution_count": 3,
     "metadata": {},
     "output_type": "execute_result"
    }
   ],
   "source": [
    "product.head(2)"
   ]
  },
  {
   "cell_type": "code",
   "execution_count": 4,
   "metadata": {},
   "outputs": [
    {
     "name": "stdout",
     "output_type": "stream",
     "text": [
      "<class 'pandas.core.frame.DataFrame'>\n",
      "RangeIndex: 71 entries, 0 to 70\n",
      "Data columns (total 2 columns):\n",
      "product_category_name            71 non-null object\n",
      "product_category_name_english    71 non-null object\n",
      "dtypes: object(2)\n",
      "memory usage: 1.2+ KB\n"
     ]
    }
   ],
   "source": [
    "#explore the datasets 查看数据集详情\n",
    "product.info()"
   ]
  },
  {
   "cell_type": "code",
   "execution_count": 5,
   "metadata": {},
   "outputs": [
    {
     "data": {
      "text/plain": [
       "0"
      ]
     },
     "execution_count": 5,
     "metadata": {},
     "output_type": "execute_result"
    }
   ],
   "source": [
    "product.duplicated().sum()"
   ]
  },
  {
   "cell_type": "code",
   "execution_count": 6,
   "metadata": {},
   "outputs": [
    {
     "data": {
      "text/plain": [
       "product_category_name            0\n",
       "product_category_name_english    0\n",
       "dtype: int64"
      ]
     },
     "execution_count": 6,
     "metadata": {},
     "output_type": "execute_result"
    }
   ],
   "source": [
    "product.isnull().sum()"
   ]
  },
  {
   "cell_type": "markdown",
   "metadata": {},
   "source": [
    "#### 1.2 payment 数据集"
   ]
  },
  {
   "cell_type": "code",
   "execution_count": 7,
   "metadata": {},
   "outputs": [
    {
     "data": {
      "text/html": [
       "<div>\n",
       "<style scoped>\n",
       "    .dataframe tbody tr th:only-of-type {\n",
       "        vertical-align: middle;\n",
       "    }\n",
       "\n",
       "    .dataframe tbody tr th {\n",
       "        vertical-align: top;\n",
       "    }\n",
       "\n",
       "    .dataframe thead th {\n",
       "        text-align: right;\n",
       "    }\n",
       "</style>\n",
       "<table border=\"1\" class=\"dataframe\">\n",
       "  <thead>\n",
       "    <tr style=\"text-align: right;\">\n",
       "      <th></th>\n",
       "      <th>order_id</th>\n",
       "      <th>installments</th>\n",
       "      <th>sequential</th>\n",
       "      <th>payment_type</th>\n",
       "      <th>value</th>\n",
       "    </tr>\n",
       "  </thead>\n",
       "  <tbody>\n",
       "    <tr>\n",
       "      <th>0</th>\n",
       "      <td>c3d9e402b6a0fbe2a5f7fc5b41117c38</td>\n",
       "      <td>4</td>\n",
       "      <td>1</td>\n",
       "      <td>credit_card</td>\n",
       "      <td>237.45</td>\n",
       "    </tr>\n",
       "    <tr>\n",
       "      <th>1</th>\n",
       "      <td>733d6bf02be72825b2c6f120262b9aa9</td>\n",
       "      <td>1</td>\n",
       "      <td>1</td>\n",
       "      <td>credit_card</td>\n",
       "      <td>165.90</td>\n",
       "    </tr>\n",
       "  </tbody>\n",
       "</table>\n",
       "</div>"
      ],
      "text/plain": [
       "                           order_id  installments  sequential payment_type  \\\n",
       "0  c3d9e402b6a0fbe2a5f7fc5b41117c38             4           1  credit_card   \n",
       "1  733d6bf02be72825b2c6f120262b9aa9             1           1  credit_card   \n",
       "\n",
       "    value  \n",
       "0  237.45  \n",
       "1  165.90  "
      ]
     },
     "execution_count": 7,
     "metadata": {},
     "output_type": "execute_result"
    }
   ],
   "source": [
    "payment.head(2)"
   ]
  },
  {
   "cell_type": "code",
   "execution_count": 8,
   "metadata": {},
   "outputs": [
    {
     "name": "stdout",
     "output_type": "stream",
     "text": [
      "<class 'pandas.core.frame.DataFrame'>\n",
      "RangeIndex: 104848 entries, 0 to 104847\n",
      "Data columns (total 5 columns):\n",
      "order_id        104848 non-null object\n",
      "installments    104848 non-null int64\n",
      "sequential      104848 non-null int64\n",
      "payment_type    104848 non-null object\n",
      "value           104848 non-null float64\n",
      "dtypes: float64(1), int64(2), object(2)\n",
      "memory usage: 4.0+ MB\n"
     ]
    }
   ],
   "source": [
    "payment.info()"
   ]
  },
  {
   "cell_type": "code",
   "execution_count": 9,
   "metadata": {},
   "outputs": [
    {
     "data": {
      "text/plain": [
       "3956"
      ]
     },
     "execution_count": 9,
     "metadata": {},
     "output_type": "execute_result"
    }
   ],
   "source": [
    "payment.duplicated().sum()"
   ]
  },
  {
   "cell_type": "code",
   "execution_count": 10,
   "metadata": {},
   "outputs": [],
   "source": [
    "payment.drop_duplicates(inplace = True)"
   ]
  },
  {
   "cell_type": "code",
   "execution_count": 11,
   "metadata": {},
   "outputs": [
    {
     "data": {
      "text/plain": [
       "0"
      ]
     },
     "execution_count": 11,
     "metadata": {},
     "output_type": "execute_result"
    }
   ],
   "source": [
    "payment.duplicated().sum()"
   ]
  },
  {
   "cell_type": "markdown",
   "metadata": {},
   "source": [
    "再次使用这个代码验证是否真的去掉重复值了"
   ]
  },
  {
   "cell_type": "code",
   "execution_count": 12,
   "metadata": {},
   "outputs": [
    {
     "data": {
      "text/plain": [
       "order_id        0\n",
       "installments    0\n",
       "sequential      0\n",
       "payment_type    0\n",
       "value           0\n",
       "dtype: int64"
      ]
     },
     "execution_count": 12,
     "metadata": {},
     "output_type": "execute_result"
    }
   ],
   "source": [
    "payment.isnull().sum()"
   ]
  },
  {
   "cell_type": "markdown",
   "metadata": {},
   "source": [
    "#### 1.3 customer 数据集"
   ]
  },
  {
   "cell_type": "code",
   "execution_count": 13,
   "metadata": {},
   "outputs": [
    {
     "data": {
      "text/html": [
       "<div>\n",
       "<style scoped>\n",
       "    .dataframe tbody tr th:only-of-type {\n",
       "        vertical-align: middle;\n",
       "    }\n",
       "\n",
       "    .dataframe tbody tr th {\n",
       "        vertical-align: top;\n",
       "    }\n",
       "\n",
       "    .dataframe thead th {\n",
       "        text-align: right;\n",
       "    }\n",
       "</style>\n",
       "<table border=\"1\" class=\"dataframe\">\n",
       "  <thead>\n",
       "    <tr style=\"text-align: right;\">\n",
       "      <th></th>\n",
       "      <th>customer_id</th>\n",
       "      <th>customer_unique_id</th>\n",
       "    </tr>\n",
       "  </thead>\n",
       "  <tbody>\n",
       "    <tr>\n",
       "      <th>0</th>\n",
       "      <td>0000ca4ff2795842fd6b122c6d974468</td>\n",
       "      <td>ac0e5d7f07043dd32831bdad3b99ad26</td>\n",
       "    </tr>\n",
       "    <tr>\n",
       "      <th>1</th>\n",
       "      <td>00010f206878ba01f199aec4237de72e</td>\n",
       "      <td>4ed24aaed4079fe0661c0e4b3b420dff</td>\n",
       "    </tr>\n",
       "  </tbody>\n",
       "</table>\n",
       "</div>"
      ],
      "text/plain": [
       "                        customer_id                customer_unique_id\n",
       "0  0000ca4ff2795842fd6b122c6d974468  ac0e5d7f07043dd32831bdad3b99ad26\n",
       "1  00010f206878ba01f199aec4237de72e  4ed24aaed4079fe0661c0e4b3b420dff"
      ]
     },
     "execution_count": 13,
     "metadata": {},
     "output_type": "execute_result"
    }
   ],
   "source": [
    "customer.head(2)"
   ]
  },
  {
   "cell_type": "code",
   "execution_count": 14,
   "metadata": {},
   "outputs": [
    {
     "name": "stdout",
     "output_type": "stream",
     "text": [
      "<class 'pandas.core.frame.DataFrame'>\n",
      "RangeIndex: 96264 entries, 0 to 96263\n",
      "Data columns (total 2 columns):\n",
      "customer_id           96264 non-null object\n",
      "customer_unique_id    96264 non-null object\n",
      "dtypes: object(2)\n",
      "memory usage: 1.5+ MB\n"
     ]
    }
   ],
   "source": [
    "customer.info()"
   ]
  },
  {
   "cell_type": "code",
   "execution_count": 15,
   "metadata": {},
   "outputs": [
    {
     "data": {
      "text/plain": [
       "0"
      ]
     },
     "execution_count": 15,
     "metadata": {},
     "output_type": "execute_result"
    }
   ],
   "source": [
    "customer.duplicated().sum()"
   ]
  },
  {
   "cell_type": "code",
   "execution_count": 16,
   "metadata": {},
   "outputs": [
    {
     "data": {
      "text/plain": [
       "customer_id           0\n",
       "customer_unique_id    0\n",
       "dtype: int64"
      ]
     },
     "execution_count": 16,
     "metadata": {},
     "output_type": "execute_result"
    }
   ],
   "source": [
    "customer.isnull().sum()"
   ]
  },
  {
   "cell_type": "markdown",
   "metadata": {},
   "source": [
    "customer的数据集十分干净，没有重复值也没有缺失值"
   ]
  },
  {
   "cell_type": "markdown",
   "metadata": {},
   "source": [
    "#### 1.4 order 数据集"
   ]
  },
  {
   "cell_type": "code",
   "execution_count": 17,
   "metadata": {},
   "outputs": [
    {
     "data": {
      "text/html": [
       "<div>\n",
       "<style scoped>\n",
       "    .dataframe tbody tr th:only-of-type {\n",
       "        vertical-align: middle;\n",
       "    }\n",
       "\n",
       "    .dataframe tbody tr th {\n",
       "        vertical-align: top;\n",
       "    }\n",
       "\n",
       "    .dataframe thead th {\n",
       "        text-align: right;\n",
       "    }\n",
       "</style>\n",
       "<table border=\"1\" class=\"dataframe\">\n",
       "  <thead>\n",
       "    <tr style=\"text-align: right;\">\n",
       "      <th></th>\n",
       "      <th>order_id</th>\n",
       "      <th>order_status</th>\n",
       "      <th>order_products_value</th>\n",
       "      <th>order_freight_value</th>\n",
       "      <th>order_items_qty</th>\n",
       "      <th>order_sellers_qty</th>\n",
       "      <th>order_purchase_timestamp</th>\n",
       "      <th>order_aproved_at</th>\n",
       "      <th>order_estimated_delivery_date</th>\n",
       "      <th>order_delivered_customer_date</th>\n",
       "      <th>...</th>\n",
       "      <th>product_name_lenght</th>\n",
       "      <th>product_description_lenght</th>\n",
       "      <th>product_photos_qty</th>\n",
       "      <th>product_id</th>\n",
       "      <th>review_id</th>\n",
       "      <th>review_score</th>\n",
       "      <th>review_comment_title</th>\n",
       "      <th>review_comment_message</th>\n",
       "      <th>review_creation_date</th>\n",
       "      <th>review_answer_timestamp</th>\n",
       "    </tr>\n",
       "  </thead>\n",
       "  <tbody>\n",
       "    <tr>\n",
       "      <th>0</th>\n",
       "      <td>b95df3cef5297e79ef709ba256518f6f</td>\n",
       "      <td>delivered</td>\n",
       "      <td>349.9</td>\n",
       "      <td>13.84</td>\n",
       "      <td>1</td>\n",
       "      <td>1</td>\n",
       "      <td>2017-01-31 17:19:01.000000</td>\n",
       "      <td>2017-02-01 02:41:21.549551</td>\n",
       "      <td>2017-03-15 00:00:00.000000</td>\n",
       "      <td>2017-02-06 11:04:24.154259</td>\n",
       "      <td>...</td>\n",
       "      <td>51</td>\n",
       "      <td>625</td>\n",
       "      <td>1</td>\n",
       "      <td>6cdd53843498f92890544667809f1595</td>\n",
       "      <td>b95df3cef5297e79ef709ba256518f6f</td>\n",
       "      <td>5</td>\n",
       "      <td>NaN</td>\n",
       "      <td>NaN</td>\n",
       "      <td>2017-02-07 00:00:00.000000</td>\n",
       "      <td>2017-02-09 02:37:37+00:00</td>\n",
       "    </tr>\n",
       "    <tr>\n",
       "      <th>1</th>\n",
       "      <td>59af46052a799e80e2f0c665c587731d</td>\n",
       "      <td>delivered</td>\n",
       "      <td>15.0</td>\n",
       "      <td>15.10</td>\n",
       "      <td>1</td>\n",
       "      <td>1</td>\n",
       "      <td>2017-09-09 19:52:54.000000</td>\n",
       "      <td>2017-09-10 20:03:31.535281</td>\n",
       "      <td>2017-10-02 00:00:00.000000</td>\n",
       "      <td>2017-09-13 20:17:41.296915</td>\n",
       "      <td>...</td>\n",
       "      <td>44</td>\n",
       "      <td>1428</td>\n",
       "      <td>2</td>\n",
       "      <td>ae5cad88462eb7b7b61401e31c45618e</td>\n",
       "      <td>59af46052a799e80e2f0c665c587731d</td>\n",
       "      <td>5</td>\n",
       "      <td>NaN</td>\n",
       "      <td>entrega em 2 dias produto c boa qualidade otim...</td>\n",
       "      <td>2017-09-14 00:00:00.000000</td>\n",
       "      <td>2017-09-15 03:43:47+00:00</td>\n",
       "    </tr>\n",
       "  </tbody>\n",
       "</table>\n",
       "<p>2 rows × 25 columns</p>\n",
       "</div>"
      ],
      "text/plain": [
       "                           order_id order_status  order_products_value  \\\n",
       "0  b95df3cef5297e79ef709ba256518f6f    delivered                 349.9   \n",
       "1  59af46052a799e80e2f0c665c587731d    delivered                  15.0   \n",
       "\n",
       "   order_freight_value  order_items_qty  order_sellers_qty  \\\n",
       "0                13.84                1                  1   \n",
       "1                15.10                1                  1   \n",
       "\n",
       "     order_purchase_timestamp            order_aproved_at  \\\n",
       "0  2017-01-31 17:19:01.000000  2017-02-01 02:41:21.549551   \n",
       "1  2017-09-09 19:52:54.000000  2017-09-10 20:03:31.535281   \n",
       "\n",
       "  order_estimated_delivery_date order_delivered_customer_date  \\\n",
       "0    2017-03-15 00:00:00.000000    2017-02-06 11:04:24.154259   \n",
       "1    2017-10-02 00:00:00.000000    2017-09-13 20:17:41.296915   \n",
       "\n",
       "             ...             product_name_lenght product_description_lenght  \\\n",
       "0            ...                              51                        625   \n",
       "1            ...                              44                       1428   \n",
       "\n",
       "  product_photos_qty                        product_id  \\\n",
       "0                  1  6cdd53843498f92890544667809f1595   \n",
       "1                  2  ae5cad88462eb7b7b61401e31c45618e   \n",
       "\n",
       "                          review_id  review_score  review_comment_title  \\\n",
       "0  b95df3cef5297e79ef709ba256518f6f             5                   NaN   \n",
       "1  59af46052a799e80e2f0c665c587731d             5                   NaN   \n",
       "\n",
       "                              review_comment_message  \\\n",
       "0                                                NaN   \n",
       "1  entrega em 2 dias produto c boa qualidade otim...   \n",
       "\n",
       "         review_creation_date    review_answer_timestamp  \n",
       "0  2017-02-07 00:00:00.000000  2017-02-09 02:37:37+00:00  \n",
       "1  2017-09-14 00:00:00.000000  2017-09-15 03:43:47+00:00  \n",
       "\n",
       "[2 rows x 25 columns]"
      ]
     },
     "execution_count": 17,
     "metadata": {},
     "output_type": "execute_result"
    }
   ],
   "source": [
    "order.head(2)"
   ]
  },
  {
   "cell_type": "code",
   "execution_count": 18,
   "metadata": {},
   "outputs": [
    {
     "name": "stdout",
     "output_type": "stream",
     "text": [
      "<class 'pandas.core.frame.DataFrame'>\n",
      "RangeIndex: 100000 entries, 0 to 99999\n",
      "Data columns (total 25 columns):\n",
      "order_id                         100000 non-null object\n",
      "order_status                     100000 non-null object\n",
      "order_products_value             100000 non-null float64\n",
      "order_freight_value              100000 non-null float64\n",
      "order_items_qty                  100000 non-null int64\n",
      "order_sellers_qty                100000 non-null int64\n",
      "order_purchase_timestamp         100000 non-null object\n",
      "order_aproved_at                 99982 non-null object\n",
      "order_estimated_delivery_date    100000 non-null object\n",
      "order_delivered_customer_date    97595 non-null object\n",
      "customer_id                      100000 non-null object\n",
      "customer_city                    100000 non-null object\n",
      "customer_state                   100000 non-null object\n",
      "customer_zip_code_prefix         100000 non-null int64\n",
      "product_category_name            100000 non-null object\n",
      "product_name_lenght              100000 non-null int64\n",
      "product_description_lenght       100000 non-null int64\n",
      "product_photos_qty               100000 non-null int64\n",
      "product_id                       100000 non-null object\n",
      "review_id                        100000 non-null object\n",
      "review_score                     100000 non-null int64\n",
      "review_comment_title             8262 non-null object\n",
      "review_comment_message           42489 non-null object\n",
      "review_creation_date             100000 non-null object\n",
      "review_answer_timestamp          100000 non-null object\n",
      "dtypes: float64(2), int64(7), object(16)\n",
      "memory usage: 19.1+ MB\n"
     ]
    }
   ],
   "source": [
    "order.info()"
   ]
  },
  {
   "cell_type": "code",
   "execution_count": 19,
   "metadata": {},
   "outputs": [
    {
     "data": {
      "text/plain": [
       "order_id                             0\n",
       "order_status                         0\n",
       "order_products_value                 0\n",
       "order_freight_value                  0\n",
       "order_items_qty                      0\n",
       "order_sellers_qty                    0\n",
       "order_purchase_timestamp             0\n",
       "order_aproved_at                    18\n",
       "order_estimated_delivery_date        0\n",
       "order_delivered_customer_date     2405\n",
       "customer_id                          0\n",
       "customer_city                        0\n",
       "customer_state                       0\n",
       "customer_zip_code_prefix             0\n",
       "product_category_name                0\n",
       "product_name_lenght                  0\n",
       "product_description_lenght           0\n",
       "product_photos_qty                   0\n",
       "product_id                           0\n",
       "review_id                            0\n",
       "review_score                         0\n",
       "review_comment_title             91738\n",
       "review_comment_message           57511\n",
       "review_creation_date                 0\n",
       "review_answer_timestamp              0\n",
       "dtype: int64"
      ]
     },
     "execution_count": 19,
     "metadata": {},
     "output_type": "execute_result"
    }
   ],
   "source": [
    "order.isnull().sum()"
   ]
  },
  {
   "cell_type": "code",
   "execution_count": 20,
   "metadata": {},
   "outputs": [
    {
     "data": {
      "text/plain": [
       "0"
      ]
     },
     "execution_count": 20,
     "metadata": {},
     "output_type": "execute_result"
    }
   ],
   "source": [
    "order.duplicated().sum()"
   ]
  },
  {
   "cell_type": "markdown",
   "metadata": {},
   "source": [
    "#### 1.5 classified 数据集"
   ]
  },
  {
   "cell_type": "code",
   "execution_count": 21,
   "metadata": {},
   "outputs": [
    {
     "data": {
      "text/html": [
       "<div>\n",
       "<style scoped>\n",
       "    .dataframe tbody tr th:only-of-type {\n",
       "        vertical-align: middle;\n",
       "    }\n",
       "\n",
       "    .dataframe tbody tr th {\n",
       "        vertical-align: top;\n",
       "    }\n",
       "\n",
       "    .dataframe thead th {\n",
       "        text-align: right;\n",
       "    }\n",
       "</style>\n",
       "<table border=\"1\" class=\"dataframe\">\n",
       "  <thead>\n",
       "    <tr style=\"text-align: right;\">\n",
       "      <th></th>\n",
       "      <th>id</th>\n",
       "      <th>order_status</th>\n",
       "      <th>order_products_value</th>\n",
       "      <th>order_freight_value</th>\n",
       "      <th>order_items_qty</th>\n",
       "      <th>order_sellers_qty</th>\n",
       "      <th>order_purchase_timestamp</th>\n",
       "      <th>order_aproved_at</th>\n",
       "      <th>order_estimated_delivery_date</th>\n",
       "      <th>order_delivered_customer_date</th>\n",
       "      <th>...</th>\n",
       "      <th>votes_delayed</th>\n",
       "      <th>votes_low_quality</th>\n",
       "      <th>votes_return</th>\n",
       "      <th>votes_not_as_anounced</th>\n",
       "      <th>votes_partial_delivery</th>\n",
       "      <th>votes_other_delivery</th>\n",
       "      <th>votes_other_order</th>\n",
       "      <th>votes_satisfied</th>\n",
       "      <th>most_voted_subclass</th>\n",
       "      <th>most_voted_class</th>\n",
       "    </tr>\n",
       "  </thead>\n",
       "  <tbody>\n",
       "    <tr>\n",
       "      <th>0</th>\n",
       "      <td>1</td>\n",
       "      <td>delivered</td>\n",
       "      <td>89.99</td>\n",
       "      <td>14.38</td>\n",
       "      <td>1</td>\n",
       "      <td>1</td>\n",
       "      <td>2017-08-30 11:41:01.000000</td>\n",
       "      <td>2017-08-30 11:55:08.970352</td>\n",
       "      <td>2017-09-21 00:00:00.000000</td>\n",
       "      <td>2017-09-08 20:35:27.276847</td>\n",
       "      <td>...</td>\n",
       "      <td>0</td>\n",
       "      <td>0</td>\n",
       "      <td>0</td>\n",
       "      <td>0</td>\n",
       "      <td>0</td>\n",
       "      <td>0</td>\n",
       "      <td>0</td>\n",
       "      <td>3</td>\n",
       "      <td>satisfeito</td>\n",
       "      <td>satisfeito_com_pedido</td>\n",
       "    </tr>\n",
       "    <tr>\n",
       "      <th>1</th>\n",
       "      <td>2</td>\n",
       "      <td>delivered</td>\n",
       "      <td>69.00</td>\n",
       "      <td>15.23</td>\n",
       "      <td>1</td>\n",
       "      <td>1</td>\n",
       "      <td>2017-09-26 09:13:36.000000</td>\n",
       "      <td>2017-09-26 09:28:10.922048</td>\n",
       "      <td>2017-10-24 00:00:00.000000</td>\n",
       "      <td>2017-09-29 21:13:04.984841</td>\n",
       "      <td>...</td>\n",
       "      <td>0</td>\n",
       "      <td>0</td>\n",
       "      <td>0</td>\n",
       "      <td>0</td>\n",
       "      <td>0</td>\n",
       "      <td>0</td>\n",
       "      <td>0</td>\n",
       "      <td>0</td>\n",
       "      <td>antes_prazo</td>\n",
       "      <td>satisfeito_com_pedido</td>\n",
       "    </tr>\n",
       "  </tbody>\n",
       "</table>\n",
       "<p>2 rows × 33 columns</p>\n",
       "</div>"
      ],
      "text/plain": [
       "   id order_status  order_products_value  order_freight_value  \\\n",
       "0   1    delivered                 89.99                14.38   \n",
       "1   2    delivered                 69.00                15.23   \n",
       "\n",
       "   order_items_qty  order_sellers_qty    order_purchase_timestamp  \\\n",
       "0                1                  1  2017-08-30 11:41:01.000000   \n",
       "1                1                  1  2017-09-26 09:13:36.000000   \n",
       "\n",
       "             order_aproved_at order_estimated_delivery_date  \\\n",
       "0  2017-08-30 11:55:08.970352    2017-09-21 00:00:00.000000   \n",
       "1  2017-09-26 09:28:10.922048    2017-10-24 00:00:00.000000   \n",
       "\n",
       "  order_delivered_customer_date          ...           votes_delayed  \\\n",
       "0    2017-09-08 20:35:27.276847          ...                       0   \n",
       "1    2017-09-29 21:13:04.984841          ...                       0   \n",
       "\n",
       "  votes_low_quality  votes_return votes_not_as_anounced  \\\n",
       "0                 0             0                     0   \n",
       "1                 0             0                     0   \n",
       "\n",
       "   votes_partial_delivery  votes_other_delivery  votes_other_order  \\\n",
       "0                       0                     0                  0   \n",
       "1                       0                     0                  0   \n",
       "\n",
       "   votes_satisfied  most_voted_subclass       most_voted_class  \n",
       "0                3           satisfeito  satisfeito_com_pedido  \n",
       "1                0          antes_prazo  satisfeito_com_pedido  \n",
       "\n",
       "[2 rows x 33 columns]"
      ]
     },
     "execution_count": 21,
     "metadata": {},
     "output_type": "execute_result"
    }
   ],
   "source": [
    "classified.drop(\"Unnamed: 0\", axis = 1,inplace = True)\n",
    "classified.head(2)"
   ]
  },
  {
   "cell_type": "code",
   "execution_count": 22,
   "metadata": {},
   "outputs": [
    {
     "name": "stdout",
     "output_type": "stream",
     "text": [
      "<class 'pandas.core.frame.DataFrame'>\n",
      "RangeIndex: 3584 entries, 0 to 3583\n",
      "Data columns (total 33 columns):\n",
      "id                               3584 non-null int64\n",
      "order_status                     3584 non-null object\n",
      "order_products_value             3584 non-null float64\n",
      "order_freight_value              3584 non-null float64\n",
      "order_items_qty                  3584 non-null int64\n",
      "order_sellers_qty                3584 non-null int64\n",
      "order_purchase_timestamp         3584 non-null object\n",
      "order_aproved_at                 3584 non-null object\n",
      "order_estimated_delivery_date    3584 non-null object\n",
      "order_delivered_customer_date    3467 non-null object\n",
      "customer_city                    3584 non-null object\n",
      "customer_state                   3584 non-null object\n",
      "customer_zip_code_prefix         3584 non-null int64\n",
      "product_category_name            3584 non-null object\n",
      "product_name_lenght              3584 non-null int64\n",
      "product_description_lenght       3584 non-null int64\n",
      "product_photos_qty               3584 non-null int64\n",
      "review_score                     3584 non-null int64\n",
      "review_comment_title             0 non-null float64\n",
      "review_comment_message           3584 non-null object\n",
      "review_creation_date             3584 non-null object\n",
      "review_answer_timestamp          3584 non-null object\n",
      "votes_before_estimate            3584 non-null int64\n",
      "votes_delayed                    3584 non-null int64\n",
      "votes_low_quality                3584 non-null int64\n",
      "votes_return                     3584 non-null int64\n",
      "votes_not_as_anounced            3584 non-null int64\n",
      "votes_partial_delivery           3584 non-null int64\n",
      "votes_other_delivery             3584 non-null int64\n",
      "votes_other_order                3584 non-null int64\n",
      "votes_satisfied                  3584 non-null int64\n",
      "most_voted_subclass              3413 non-null object\n",
      "most_voted_class                 3413 non-null object\n",
      "dtypes: float64(3), int64(17), object(13)\n",
      "memory usage: 924.1+ KB\n"
     ]
    }
   ],
   "source": [
    "classified.info()"
   ]
  },
  {
   "cell_type": "code",
   "execution_count": 23,
   "metadata": {},
   "outputs": [
    {
     "data": {
      "text/plain": [
       "0"
      ]
     },
     "execution_count": 23,
     "metadata": {},
     "output_type": "execute_result"
    }
   ],
   "source": [
    "classified.duplicated().sum()"
   ]
  },
  {
   "cell_type": "code",
   "execution_count": 24,
   "metadata": {},
   "outputs": [
    {
     "data": {
      "text/plain": [
       "id                                  0\n",
       "order_status                        0\n",
       "order_products_value                0\n",
       "order_freight_value                 0\n",
       "order_items_qty                     0\n",
       "order_sellers_qty                   0\n",
       "order_purchase_timestamp            0\n",
       "order_aproved_at                    0\n",
       "order_estimated_delivery_date       0\n",
       "order_delivered_customer_date     117\n",
       "customer_city                       0\n",
       "customer_state                      0\n",
       "customer_zip_code_prefix            0\n",
       "product_category_name               0\n",
       "product_name_lenght                 0\n",
       "product_description_lenght          0\n",
       "product_photos_qty                  0\n",
       "review_score                        0\n",
       "review_comment_title             3584\n",
       "review_comment_message              0\n",
       "review_creation_date                0\n",
       "review_answer_timestamp             0\n",
       "votes_before_estimate               0\n",
       "votes_delayed                       0\n",
       "votes_low_quality                   0\n",
       "votes_return                        0\n",
       "votes_not_as_anounced               0\n",
       "votes_partial_delivery              0\n",
       "votes_other_delivery                0\n",
       "votes_other_order                   0\n",
       "votes_satisfied                     0\n",
       "most_voted_subclass               171\n",
       "most_voted_class                  171\n",
       "dtype: int64"
      ]
     },
     "execution_count": 24,
     "metadata": {},
     "output_type": "execute_result"
    }
   ],
   "source": [
    "classified.isnull().sum()"
   ]
  },
  {
   "cell_type": "code",
   "execution_count": 25,
   "metadata": {},
   "outputs": [],
   "source": [
    "#remove some unrelative columns 去掉不相关的列\n",
    "unrelative_cols = [\"votes_delayed\",\"votes_low_quality\",\"votes_return\",\"votes_not_as_anounced\",\"votes_partial_delivery\",\"votes_other_delivery\",\"votes_other_order\",\"review_comment_title\",\"review_creation_date\"]\n",
    "classified.drop(unrelative_cols, axis = 1, inplace = True)"
   ]
  },
  {
   "cell_type": "code",
   "execution_count": 26,
   "metadata": {},
   "outputs": [
    {
     "data": {
      "text/html": [
       "<div>\n",
       "<style scoped>\n",
       "    .dataframe tbody tr th:only-of-type {\n",
       "        vertical-align: middle;\n",
       "    }\n",
       "\n",
       "    .dataframe tbody tr th {\n",
       "        vertical-align: top;\n",
       "    }\n",
       "\n",
       "    .dataframe thead th {\n",
       "        text-align: right;\n",
       "    }\n",
       "</style>\n",
       "<table border=\"1\" class=\"dataframe\">\n",
       "  <thead>\n",
       "    <tr style=\"text-align: right;\">\n",
       "      <th></th>\n",
       "      <th>id</th>\n",
       "      <th>order_status</th>\n",
       "      <th>order_products_value</th>\n",
       "      <th>order_freight_value</th>\n",
       "      <th>order_items_qty</th>\n",
       "      <th>order_sellers_qty</th>\n",
       "      <th>order_purchase_timestamp</th>\n",
       "      <th>order_aproved_at</th>\n",
       "      <th>order_estimated_delivery_date</th>\n",
       "      <th>order_delivered_customer_date</th>\n",
       "      <th>...</th>\n",
       "      <th>product_name_lenght</th>\n",
       "      <th>product_description_lenght</th>\n",
       "      <th>product_photos_qty</th>\n",
       "      <th>review_score</th>\n",
       "      <th>review_comment_message</th>\n",
       "      <th>review_answer_timestamp</th>\n",
       "      <th>votes_before_estimate</th>\n",
       "      <th>votes_satisfied</th>\n",
       "      <th>most_voted_subclass</th>\n",
       "      <th>most_voted_class</th>\n",
       "    </tr>\n",
       "  </thead>\n",
       "  <tbody>\n",
       "    <tr>\n",
       "      <th>0</th>\n",
       "      <td>1</td>\n",
       "      <td>delivered</td>\n",
       "      <td>89.99</td>\n",
       "      <td>14.38</td>\n",
       "      <td>1</td>\n",
       "      <td>1</td>\n",
       "      <td>2017-08-30 11:41:01.000000</td>\n",
       "      <td>2017-08-30 11:55:08.970352</td>\n",
       "      <td>2017-09-21 00:00:00.000000</td>\n",
       "      <td>2017-09-08 20:35:27.276847</td>\n",
       "      <td>...</td>\n",
       "      <td>59</td>\n",
       "      <td>492</td>\n",
       "      <td>3</td>\n",
       "      <td>5</td>\n",
       "      <td>tudo certo</td>\n",
       "      <td>2017-09-10 03:27:54+00:00</td>\n",
       "      <td>0</td>\n",
       "      <td>3</td>\n",
       "      <td>satisfeito</td>\n",
       "      <td>satisfeito_com_pedido</td>\n",
       "    </tr>\n",
       "    <tr>\n",
       "      <th>1</th>\n",
       "      <td>2</td>\n",
       "      <td>delivered</td>\n",
       "      <td>69.00</td>\n",
       "      <td>15.23</td>\n",
       "      <td>1</td>\n",
       "      <td>1</td>\n",
       "      <td>2017-09-26 09:13:36.000000</td>\n",
       "      <td>2017-09-26 09:28:10.922048</td>\n",
       "      <td>2017-10-24 00:00:00.000000</td>\n",
       "      <td>2017-09-29 21:13:04.984841</td>\n",
       "      <td>...</td>\n",
       "      <td>50</td>\n",
       "      <td>679</td>\n",
       "      <td>4</td>\n",
       "      <td>5</td>\n",
       "      <td>o produto chegou antes de prazo parabens pela ...</td>\n",
       "      <td>2017-10-03 05:34:20+00:00</td>\n",
       "      <td>3</td>\n",
       "      <td>0</td>\n",
       "      <td>antes_prazo</td>\n",
       "      <td>satisfeito_com_pedido</td>\n",
       "    </tr>\n",
       "  </tbody>\n",
       "</table>\n",
       "<p>2 rows × 24 columns</p>\n",
       "</div>"
      ],
      "text/plain": [
       "   id order_status  order_products_value  order_freight_value  \\\n",
       "0   1    delivered                 89.99                14.38   \n",
       "1   2    delivered                 69.00                15.23   \n",
       "\n",
       "   order_items_qty  order_sellers_qty    order_purchase_timestamp  \\\n",
       "0                1                  1  2017-08-30 11:41:01.000000   \n",
       "1                1                  1  2017-09-26 09:13:36.000000   \n",
       "\n",
       "             order_aproved_at order_estimated_delivery_date  \\\n",
       "0  2017-08-30 11:55:08.970352    2017-09-21 00:00:00.000000   \n",
       "1  2017-09-26 09:28:10.922048    2017-10-24 00:00:00.000000   \n",
       "\n",
       "  order_delivered_customer_date          ...           product_name_lenght  \\\n",
       "0    2017-09-08 20:35:27.276847          ...                            59   \n",
       "1    2017-09-29 21:13:04.984841          ...                            50   \n",
       "\n",
       "  product_description_lenght  product_photos_qty review_score  \\\n",
       "0                        492                   3            5   \n",
       "1                        679                   4            5   \n",
       "\n",
       "                              review_comment_message  \\\n",
       "0                                         tudo certo   \n",
       "1  o produto chegou antes de prazo parabens pela ...   \n",
       "\n",
       "     review_answer_timestamp  votes_before_estimate  votes_satisfied  \\\n",
       "0  2017-09-10 03:27:54+00:00                      0                3   \n",
       "1  2017-10-03 05:34:20+00:00                      3                0   \n",
       "\n",
       "  most_voted_subclass       most_voted_class  \n",
       "0          satisfeito  satisfeito_com_pedido  \n",
       "1         antes_prazo  satisfeito_com_pedido  \n",
       "\n",
       "[2 rows x 24 columns]"
      ]
     },
     "execution_count": 26,
     "metadata": {},
     "output_type": "execute_result"
    }
   ],
   "source": [
    "classified.head(2)"
   ]
  },
  {
   "cell_type": "code",
   "execution_count": 27,
   "metadata": {},
   "outputs": [
    {
     "name": "stdout",
     "output_type": "stream",
     "text": [
      "<class 'pandas.core.frame.DataFrame'>\n",
      "RangeIndex: 3584 entries, 0 to 3583\n",
      "Data columns (total 24 columns):\n",
      "id                               3584 non-null int64\n",
      "order_status                     3584 non-null object\n",
      "order_products_value             3584 non-null float64\n",
      "order_freight_value              3584 non-null float64\n",
      "order_items_qty                  3584 non-null int64\n",
      "order_sellers_qty                3584 non-null int64\n",
      "order_purchase_timestamp         3584 non-null object\n",
      "order_aproved_at                 3584 non-null object\n",
      "order_estimated_delivery_date    3584 non-null object\n",
      "order_delivered_customer_date    3467 non-null object\n",
      "customer_city                    3584 non-null object\n",
      "customer_state                   3584 non-null object\n",
      "customer_zip_code_prefix         3584 non-null int64\n",
      "product_category_name            3584 non-null object\n",
      "product_name_lenght              3584 non-null int64\n",
      "product_description_lenght       3584 non-null int64\n",
      "product_photos_qty               3584 non-null int64\n",
      "review_score                     3584 non-null int64\n",
      "review_comment_message           3584 non-null object\n",
      "review_answer_timestamp          3584 non-null object\n",
      "votes_before_estimate            3584 non-null int64\n",
      "votes_satisfied                  3584 non-null int64\n",
      "most_voted_subclass              3413 non-null object\n",
      "most_voted_class                 3413 non-null object\n",
      "dtypes: float64(2), int64(10), object(12)\n",
      "memory usage: 672.1+ KB\n"
     ]
    }
   ],
   "source": [
    "classified.info()"
   ]
  },
  {
   "cell_type": "markdown",
   "metadata": {},
   "source": [
    "#### 1.6 geolocation 数据集"
   ]
  },
  {
   "cell_type": "code",
   "execution_count": 28,
   "metadata": {},
   "outputs": [
    {
     "data": {
      "text/html": [
       "<div>\n",
       "<style scoped>\n",
       "    .dataframe tbody tr th:only-of-type {\n",
       "        vertical-align: middle;\n",
       "    }\n",
       "\n",
       "    .dataframe tbody tr th {\n",
       "        vertical-align: top;\n",
       "    }\n",
       "\n",
       "    .dataframe thead th {\n",
       "        text-align: right;\n",
       "    }\n",
       "</style>\n",
       "<table border=\"1\" class=\"dataframe\">\n",
       "  <thead>\n",
       "    <tr style=\"text-align: right;\">\n",
       "      <th></th>\n",
       "      <th>zip_code_prefix</th>\n",
       "      <th>city</th>\n",
       "      <th>state</th>\n",
       "      <th>lat</th>\n",
       "      <th>lng</th>\n",
       "    </tr>\n",
       "  </thead>\n",
       "  <tbody>\n",
       "    <tr>\n",
       "      <th>0</th>\n",
       "      <td>10</td>\n",
       "      <td>sao paulo</td>\n",
       "      <td>sp</td>\n",
       "      <td>-23.547807</td>\n",
       "      <td>-46.636122</td>\n",
       "    </tr>\n",
       "    <tr>\n",
       "      <th>1</th>\n",
       "      <td>10</td>\n",
       "      <td>sao paulo</td>\n",
       "      <td>sp</td>\n",
       "      <td>-23.546081</td>\n",
       "      <td>-46.644820</td>\n",
       "    </tr>\n",
       "  </tbody>\n",
       "</table>\n",
       "</div>"
      ],
      "text/plain": [
       "   zip_code_prefix       city state        lat        lng\n",
       "0               10  sao paulo    sp -23.547807 -46.636122\n",
       "1               10  sao paulo    sp -23.546081 -46.644820"
      ]
     },
     "execution_count": 28,
     "metadata": {},
     "output_type": "execute_result"
    }
   ],
   "source": [
    "geolocation.head(2)"
   ]
  },
  {
   "cell_type": "code",
   "execution_count": 29,
   "metadata": {},
   "outputs": [
    {
     "name": "stdout",
     "output_type": "stream",
     "text": [
      "<class 'pandas.core.frame.DataFrame'>\n",
      "RangeIndex: 323016 entries, 0 to 323015\n",
      "Data columns (total 5 columns):\n",
      "zip_code_prefix    323016 non-null int64\n",
      "city               323016 non-null object\n",
      "state              323016 non-null object\n",
      "lat                323016 non-null float64\n",
      "lng                323016 non-null float64\n",
      "dtypes: float64(2), int64(1), object(2)\n",
      "memory usage: 12.3+ MB\n"
     ]
    }
   ],
   "source": [
    "geolocation.info()"
   ]
  },
  {
   "cell_type": "code",
   "execution_count": 30,
   "metadata": {},
   "outputs": [
    {
     "data": {
      "text/plain": [
       "47162"
      ]
     },
     "execution_count": 30,
     "metadata": {},
     "output_type": "execute_result"
    }
   ],
   "source": [
    "geolocation.duplicated().sum()"
   ]
  },
  {
   "cell_type": "code",
   "execution_count": 31,
   "metadata": {},
   "outputs": [],
   "source": [
    "geolocation.drop_duplicates(inplace = True)"
   ]
  },
  {
   "cell_type": "code",
   "execution_count": 32,
   "metadata": {},
   "outputs": [
    {
     "data": {
      "text/plain": [
       "0"
      ]
     },
     "execution_count": 32,
     "metadata": {},
     "output_type": "execute_result"
    }
   ],
   "source": [
    "geolocation.duplicated().sum()"
   ]
  },
  {
   "cell_type": "code",
   "execution_count": 33,
   "metadata": {},
   "outputs": [
    {
     "data": {
      "text/plain": [
       "zip_code_prefix    0\n",
       "city               0\n",
       "state              0\n",
       "lat                0\n",
       "lng                0\n",
       "dtype: int64"
      ]
     },
     "execution_count": 33,
     "metadata": {},
     "output_type": "execute_result"
    }
   ],
   "source": [
    "geolocation.isnull().sum()"
   ]
  },
  {
   "cell_type": "markdown",
   "metadata": {},
   "source": [
    "从以上的观察中，发现有一些列是空的，或者与这次的分析不相关的内容，所以将这些列全部清理"
   ]
  },
  {
   "cell_type": "markdown",
   "metadata": {},
   "source": [
    "## 2、EDA 探索性数据分析"
   ]
  },
  {
   "cell_type": "markdown",
   "metadata": {},
   "source": [
    "#### 根据单个订单的数据粒度"
   ]
  },
  {
   "cell_type": "markdown",
   "metadata": {},
   "source": [
    "#### 2.1 payment 支付方式"
   ]
  },
  {
   "cell_type": "code",
   "execution_count": 34,
   "metadata": {},
   "outputs": [],
   "source": [
    "#write a function for visualization 制作用于可视化的函数\n",
    "def plot(dataset,feature,plot_kind):\n",
    "    \n",
    "    dataset[feature].value_counts().plot(kind = plot_kind,\n",
    "                                        color = \"red\",\n",
    "                                        alpha = 0.6)\n",
    "    \n",
    "    return None"
   ]
  },
  {
   "cell_type": "code",
   "execution_count": 35,
   "metadata": {},
   "outputs": [
    {
     "data": {
      "text/html": [
       "<div>\n",
       "<style scoped>\n",
       "    .dataframe tbody tr th:only-of-type {\n",
       "        vertical-align: middle;\n",
       "    }\n",
       "\n",
       "    .dataframe tbody tr th {\n",
       "        vertical-align: top;\n",
       "    }\n",
       "\n",
       "    .dataframe thead th {\n",
       "        text-align: right;\n",
       "    }\n",
       "</style>\n",
       "<table border=\"1\" class=\"dataframe\">\n",
       "  <thead>\n",
       "    <tr style=\"text-align: right;\">\n",
       "      <th></th>\n",
       "      <th>order_id</th>\n",
       "      <th>installments</th>\n",
       "      <th>sequential</th>\n",
       "      <th>payment_type</th>\n",
       "      <th>value</th>\n",
       "    </tr>\n",
       "  </thead>\n",
       "  <tbody>\n",
       "    <tr>\n",
       "      <th>0</th>\n",
       "      <td>c3d9e402b6a0fbe2a5f7fc5b41117c38</td>\n",
       "      <td>4</td>\n",
       "      <td>1</td>\n",
       "      <td>credit_card</td>\n",
       "      <td>237.45</td>\n",
       "    </tr>\n",
       "    <tr>\n",
       "      <th>1</th>\n",
       "      <td>733d6bf02be72825b2c6f120262b9aa9</td>\n",
       "      <td>1</td>\n",
       "      <td>1</td>\n",
       "      <td>credit_card</td>\n",
       "      <td>165.90</td>\n",
       "    </tr>\n",
       "  </tbody>\n",
       "</table>\n",
       "</div>"
      ],
      "text/plain": [
       "                           order_id  installments  sequential payment_type  \\\n",
       "0  c3d9e402b6a0fbe2a5f7fc5b41117c38             4           1  credit_card   \n",
       "1  733d6bf02be72825b2c6f120262b9aa9             1           1  credit_card   \n",
       "\n",
       "    value  \n",
       "0  237.45  \n",
       "1  165.90  "
      ]
     },
     "execution_count": 35,
     "metadata": {},
     "output_type": "execute_result"
    }
   ],
   "source": [
    "payment.head(2)"
   ]
  },
  {
   "cell_type": "code",
   "execution_count": 36,
   "metadata": {},
   "outputs": [
    {
     "data": {
      "text/plain": [
       "Text(0.5,1,'Installments In Payment')"
      ]
     },
     "execution_count": 36,
     "metadata": {},
     "output_type": "execute_result"
    },
    {
     "data": {
      "image/png": "[encoded data removed]",
      "text/plain": [
       "<matplotlib.figure.Figure at 0x1a0d732ef0>"
      ]
     },
     "metadata": {},
     "output_type": "display_data"
    }
   ],
   "source": [
    "plot(payment,\"installments\",\"bar\")\n",
    "\n",
    "plt.ylabel(\"Total Count\")\n",
    "plt.title(\"Installments In Payment\")"
   ]
  },
  {
   "cell_type": "markdown",
   "metadata": {},
   "source": [
    "分期付款中，一次性付全款的使用方法最多，其次是2次分期、3次分期、4次分期、10次分期"
   ]
  },
  {
   "cell_type": "code",
   "execution_count": 37,
   "metadata": {},
   "outputs": [
    {
     "data": {
      "text/plain": [
       "Text(0.5,1,'Different Payment')"
      ]
     },
     "execution_count": 37,
     "metadata": {},
     "output_type": "execute_result"
    },
    {
     "data": {
      "image/png": "[encoded data removed]",
      "text/plain": [
       "<matplotlib.figure.Figure at 0x1a0c323630>"
      ]
     },
     "metadata": {},
     "output_type": "display_data"
    }
   ],
   "source": [
    "plot(payment,\"payment_type\",\"bar\")\n",
    "\n",
    "plt.ylabel(\"Count\")\n",
    "plt.title(\"Different Payment\")"
   ]
  },
  {
   "cell_type": "markdown",
   "metadata": {},
   "source": [
    "付款方式中，使用credit_card最多，boleto排第二，voucher其次，最小的是debitcard"
   ]
  },
  {
   "cell_type": "code",
   "execution_count": 38,
   "metadata": {},
   "outputs": [
    {
     "data": {
      "text/plain": [
       "Text(0,0.5,'Total Order Value(million dollar)')"
      ]
     },
     "execution_count": 38,
     "metadata": {},
     "output_type": "execute_result"
    },
    {
     "data": {
      "image/png": "[encoded data removed]",
      "text/plain": [
       "<matplotlib.figure.Figure at 0x1a0c2c5588>"
      ]
     },
     "metadata": {},
     "output_type": "display_data"
    }
   ],
   "source": [
    "payment.groupby(\"payment_type\")[\"value\"].sum().plot(kind = \"bar\", \n",
    "                                                    color = \"red\",\n",
    "                                                    alpha = 0.6)\n",
    "plt.ylabel(\"Total Order Value(million dollar)\")"
   ]
  },
  {
   "cell_type": "markdown",
   "metadata": {},
   "source": [
    "付款方式的订单金额的排序趋势与上图分期付款的使用次数的趋势一致，也是credit_card最多，boleto排第二，voucher其次，最小的是debitcard"
   ]
  },
  {
   "cell_type": "code",
   "execution_count": 39,
   "metadata": {},
   "outputs": [
    {
     "data": {
      "text/plain": [
       "<matplotlib.axes._subplots.AxesSubplot at 0x1a0d567208>"
      ]
     },
     "execution_count": 39,
     "metadata": {},
     "output_type": "execute_result"
    },
    {
     "data": {
      "image/png": "[encoded data removed]",
      "text/plain": [
       "<matplotlib.figure.Figure at 0x1a0d5a9048>"
      ]
     },
     "metadata": {},
     "output_type": "display_data"
    }
   ],
   "source": [
    "payment.value.plot(kind = \"box\",\n",
    "                   color = \"red\",\n",
    "                   figsize = (8,12))"
   ]
  },
  {
   "cell_type": "markdown",
   "metadata": {},
   "source": [
    "对付款金额使用箱型图查看一下分布状况，发现虽然绝大部分的订单少于2000，但是依然有非常多的订单金额超过了2000，甚至接近14000"
   ]
  },
  {
   "cell_type": "code",
   "execution_count": 40,
   "metadata": {},
   "outputs": [
    {
     "data": {
      "text/plain": [
       "(0, 500)"
      ]
     },
     "execution_count": 40,
     "metadata": {},
     "output_type": "execute_result"
    },
    {
     "data": {
      "image/png": "[encoded data removed]",
      "text/plain": [
       "<matplotlib.figure.Figure at 0x1a0d595470>"
      ]
     },
     "metadata": {},
     "output_type": "display_data"
    }
   ],
   "source": [
    "payment.value.plot(kind = \"box\",\n",
    "                   color = \"red\")\n",
    "plt.ylim([0,500])"
   ]
  },
  {
   "cell_type": "markdown",
   "metadata": {},
   "source": [
    "对箱型图的取值范围进行限制，查看绝大多数的订单金额为小于350"
   ]
  },
  {
   "cell_type": "code",
   "execution_count": 41,
   "metadata": {},
   "outputs": [
    {
     "data": {
      "text/plain": [
       "count    100892.000000\n",
       "mean        150.985469\n",
       "std         205.905919\n",
       "min           0.000000\n",
       "25%          58.950000\n",
       "50%         101.020000\n",
       "75%         171.630000\n",
       "max       13664.080000\n",
       "Name: value, dtype: float64"
      ]
     },
     "execution_count": 41,
     "metadata": {},
     "output_type": "execute_result"
    }
   ],
   "source": [
    "payment.value.describe()"
   ]
  },
  {
   "cell_type": "markdown",
   "metadata": {},
   "source": [
    "订单金额的分布很广，75%的订单金额大概175左右"
   ]
  },
  {
   "cell_type": "code",
   "execution_count": 42,
   "metadata": {},
   "outputs": [
    {
     "data": {
      "text/html": [
       "<div>\n",
       "<style scoped>\n",
       "    .dataframe tbody tr th:only-of-type {\n",
       "        vertical-align: middle;\n",
       "    }\n",
       "\n",
       "    .dataframe tbody tr th {\n",
       "        vertical-align: top;\n",
       "    }\n",
       "\n",
       "    .dataframe thead th {\n",
       "        text-align: right;\n",
       "    }\n",
       "</style>\n",
       "<table border=\"1\" class=\"dataframe\">\n",
       "  <thead>\n",
       "    <tr style=\"text-align: right;\">\n",
       "      <th></th>\n",
       "      <th>order_id</th>\n",
       "      <th>installments</th>\n",
       "      <th>sequential</th>\n",
       "      <th>payment_type</th>\n",
       "      <th>value</th>\n",
       "    </tr>\n",
       "  </thead>\n",
       "  <tbody>\n",
       "    <tr>\n",
       "      <th>21214</th>\n",
       "      <td>fa65dad1b0e818e3ccc5cb0e39231352</td>\n",
       "      <td>1</td>\n",
       "      <td>13</td>\n",
       "      <td>voucher</td>\n",
       "      <td>0.0</td>\n",
       "    </tr>\n",
       "    <tr>\n",
       "      <th>21215</th>\n",
       "      <td>fa65dad1b0e818e3ccc5cb0e39231352</td>\n",
       "      <td>1</td>\n",
       "      <td>14</td>\n",
       "      <td>voucher</td>\n",
       "      <td>0.0</td>\n",
       "    </tr>\n",
       "    <tr>\n",
       "      <th>29699</th>\n",
       "      <td>45ed6e85398a87c253db47c2d9f48216</td>\n",
       "      <td>1</td>\n",
       "      <td>3</td>\n",
       "      <td>voucher</td>\n",
       "      <td>0.0</td>\n",
       "    </tr>\n",
       "  </tbody>\n",
       "</table>\n",
       "</div>"
      ],
      "text/plain": [
       "                               order_id  installments  sequential  \\\n",
       "21214  fa65dad1b0e818e3ccc5cb0e39231352             1          13   \n",
       "21215  fa65dad1b0e818e3ccc5cb0e39231352             1          14   \n",
       "29699  45ed6e85398a87c253db47c2d9f48216             1           3   \n",
       "\n",
       "      payment_type  value  \n",
       "21214      voucher    0.0  \n",
       "21215      voucher    0.0  \n",
       "29699      voucher    0.0  "
      ]
     },
     "execution_count": 42,
     "metadata": {},
     "output_type": "execute_result"
    }
   ],
   "source": [
    "payment[payment.value == 0]"
   ]
  },
  {
   "cell_type": "markdown",
   "metadata": {},
   "source": [
    "这三个订单都是订单金额为0的，细查发现是使用了voucher代金券，所以实收金额为0。"
   ]
  },
  {
   "cell_type": "code",
   "execution_count": 43,
   "metadata": {},
   "outputs": [
    {
     "data": {
      "text/html": [
       "<div>\n",
       "<style scoped>\n",
       "    .dataframe tbody tr th:only-of-type {\n",
       "        vertical-align: middle;\n",
       "    }\n",
       "\n",
       "    .dataframe tbody tr th {\n",
       "        vertical-align: top;\n",
       "    }\n",
       "\n",
       "    .dataframe thead th {\n",
       "        text-align: right;\n",
       "    }\n",
       "</style>\n",
       "<table border=\"1\" class=\"dataframe\">\n",
       "  <thead>\n",
       "    <tr style=\"text-align: right;\">\n",
       "      <th></th>\n",
       "      <th>order_id</th>\n",
       "      <th>installments</th>\n",
       "      <th>sequential</th>\n",
       "      <th>payment_type</th>\n",
       "      <th>value</th>\n",
       "    </tr>\n",
       "  </thead>\n",
       "  <tbody>\n",
       "    <tr>\n",
       "      <th>51787</th>\n",
       "      <td>03caa2c082116e1d31e67e9ae3700499</td>\n",
       "      <td>1</td>\n",
       "      <td>1</td>\n",
       "      <td>credit_card</td>\n",
       "      <td>13664.08</td>\n",
       "    </tr>\n",
       "  </tbody>\n",
       "</table>\n",
       "</div>"
      ],
      "text/plain": [
       "                               order_id  installments  sequential  \\\n",
       "51787  03caa2c082116e1d31e67e9ae3700499             1           1   \n",
       "\n",
       "      payment_type     value  \n",
       "51787  credit_card  13664.08  "
      ]
     },
     "execution_count": 43,
     "metadata": {},
     "output_type": "execute_result"
    }
   ],
   "source": [
    "payment[payment.value == 13664.080000]"
   ]
  },
  {
   "cell_type": "markdown",
   "metadata": {},
   "source": [
    "有一个非常大的订单金额，在平均金额为153.300072的情况下，达到单笔13664.08；\n",
    "\n",
    "详情来看，这笔确实是存在的，使用了信用卡付款。"
   ]
  },
  {
   "cell_type": "markdown",
   "metadata": {},
   "source": [
    "#### 2.2 order 订单"
   ]
  },
  {
   "cell_type": "code",
   "execution_count": 44,
   "metadata": {},
   "outputs": [
    {
     "data": {
      "text/html": [
       "<div>\n",
       "<style scoped>\n",
       "    .dataframe tbody tr th:only-of-type {\n",
       "        vertical-align: middle;\n",
       "    }\n",
       "\n",
       "    .dataframe tbody tr th {\n",
       "        vertical-align: top;\n",
       "    }\n",
       "\n",
       "    .dataframe thead th {\n",
       "        text-align: right;\n",
       "    }\n",
       "</style>\n",
       "<table border=\"1\" class=\"dataframe\">\n",
       "  <thead>\n",
       "    <tr style=\"text-align: right;\">\n",
       "      <th></th>\n",
       "      <th>order_id</th>\n",
       "      <th>order_status</th>\n",
       "      <th>order_products_value</th>\n",
       "      <th>order_freight_value</th>\n",
       "      <th>order_items_qty</th>\n",
       "      <th>order_sellers_qty</th>\n",
       "      <th>order_purchase_timestamp</th>\n",
       "      <th>order_aproved_at</th>\n",
       "      <th>order_estimated_delivery_date</th>\n",
       "      <th>order_delivered_customer_date</th>\n",
       "      <th>...</th>\n",
       "      <th>product_name_lenght</th>\n",
       "      <th>product_description_lenght</th>\n",
       "      <th>product_photos_qty</th>\n",
       "      <th>product_id</th>\n",
       "      <th>review_id</th>\n",
       "      <th>review_score</th>\n",
       "      <th>review_comment_title</th>\n",
       "      <th>review_comment_message</th>\n",
       "      <th>review_creation_date</th>\n",
       "      <th>review_answer_timestamp</th>\n",
       "    </tr>\n",
       "  </thead>\n",
       "  <tbody>\n",
       "    <tr>\n",
       "      <th>0</th>\n",
       "      <td>b95df3cef5297e79ef709ba256518f6f</td>\n",
       "      <td>delivered</td>\n",
       "      <td>349.9</td>\n",
       "      <td>13.84</td>\n",
       "      <td>1</td>\n",
       "      <td>1</td>\n",
       "      <td>2017-01-31 17:19:01.000000</td>\n",
       "      <td>2017-02-01 02:41:21.549551</td>\n",
       "      <td>2017-03-15 00:00:00.000000</td>\n",
       "      <td>2017-02-06 11:04:24.154259</td>\n",
       "      <td>...</td>\n",
       "      <td>51</td>\n",
       "      <td>625</td>\n",
       "      <td>1</td>\n",
       "      <td>6cdd53843498f92890544667809f1595</td>\n",
       "      <td>b95df3cef5297e79ef709ba256518f6f</td>\n",
       "      <td>5</td>\n",
       "      <td>NaN</td>\n",
       "      <td>NaN</td>\n",
       "      <td>2017-02-07 00:00:00.000000</td>\n",
       "      <td>2017-02-09 02:37:37+00:00</td>\n",
       "    </tr>\n",
       "    <tr>\n",
       "      <th>1</th>\n",
       "      <td>59af46052a799e80e2f0c665c587731d</td>\n",
       "      <td>delivered</td>\n",
       "      <td>15.0</td>\n",
       "      <td>15.10</td>\n",
       "      <td>1</td>\n",
       "      <td>1</td>\n",
       "      <td>2017-09-09 19:52:54.000000</td>\n",
       "      <td>2017-09-10 20:03:31.535281</td>\n",
       "      <td>2017-10-02 00:00:00.000000</td>\n",
       "      <td>2017-09-13 20:17:41.296915</td>\n",
       "      <td>...</td>\n",
       "      <td>44</td>\n",
       "      <td>1428</td>\n",
       "      <td>2</td>\n",
       "      <td>ae5cad88462eb7b7b61401e31c45618e</td>\n",
       "      <td>59af46052a799e80e2f0c665c587731d</td>\n",
       "      <td>5</td>\n",
       "      <td>NaN</td>\n",
       "      <td>entrega em 2 dias produto c boa qualidade otim...</td>\n",
       "      <td>2017-09-14 00:00:00.000000</td>\n",
       "      <td>2017-09-15 03:43:47+00:00</td>\n",
       "    </tr>\n",
       "  </tbody>\n",
       "</table>\n",
       "<p>2 rows × 25 columns</p>\n",
       "</div>"
      ],
      "text/plain": [
       "                           order_id order_status  order_products_value  \\\n",
       "0  b95df3cef5297e79ef709ba256518f6f    delivered                 349.9   \n",
       "1  59af46052a799e80e2f0c665c587731d    delivered                  15.0   \n",
       "\n",
       "   order_freight_value  order_items_qty  order_sellers_qty  \\\n",
       "0                13.84                1                  1   \n",
       "1                15.10                1                  1   \n",
       "\n",
       "     order_purchase_timestamp            order_aproved_at  \\\n",
       "0  2017-01-31 17:19:01.000000  2017-02-01 02:41:21.549551   \n",
       "1  2017-09-09 19:52:54.000000  2017-09-10 20:03:31.535281   \n",
       "\n",
       "  order_estimated_delivery_date order_delivered_customer_date  \\\n",
       "0    2017-03-15 00:00:00.000000    2017-02-06 11:04:24.154259   \n",
       "1    2017-10-02 00:00:00.000000    2017-09-13 20:17:41.296915   \n",
       "\n",
       "             ...             product_name_lenght product_description_lenght  \\\n",
       "0            ...                              51                        625   \n",
       "1            ...                              44                       1428   \n",
       "\n",
       "  product_photos_qty                        product_id  \\\n",
       "0                  1  6cdd53843498f92890544667809f1595   \n",
       "1                  2  ae5cad88462eb7b7b61401e31c45618e   \n",
       "\n",
       "                          review_id  review_score  review_comment_title  \\\n",
       "0  b95df3cef5297e79ef709ba256518f6f             5                   NaN   \n",
       "1  59af46052a799e80e2f0c665c587731d             5                   NaN   \n",
       "\n",
       "                              review_comment_message  \\\n",
       "0                                                NaN   \n",
       "1  entrega em 2 dias produto c boa qualidade otim...   \n",
       "\n",
       "         review_creation_date    review_answer_timestamp  \n",
       "0  2017-02-07 00:00:00.000000  2017-02-09 02:37:37+00:00  \n",
       "1  2017-09-14 00:00:00.000000  2017-09-15 03:43:47+00:00  \n",
       "\n",
       "[2 rows x 25 columns]"
      ]
     },
     "execution_count": 44,
     "metadata": {},
     "output_type": "execute_result"
    }
   ],
   "source": [
    "order.head(2)"
   ]
  },
  {
   "cell_type": "markdown",
   "metadata": {},
   "source": [
    "在order数据集中出现多个订单时间，按照order_aproved_at【订单确认时间】来计算年销售额。"
   ]
  },
  {
   "cell_type": "code",
   "execution_count": 45,
   "metadata": {},
   "outputs": [],
   "source": [
    "order.order_aproved_at = pd.to_datetime(order.order_aproved_at)\n",
    "order[\"year\"] = order.order_aproved_at.dt.year"
   ]
  },
  {
   "cell_type": "code",
   "execution_count": 46,
   "metadata": {},
   "outputs": [
    {
     "data": {
      "text/html": [
       "<div>\n",
       "<style scoped>\n",
       "    .dataframe tbody tr th:only-of-type {\n",
       "        vertical-align: middle;\n",
       "    }\n",
       "\n",
       "    .dataframe tbody tr th {\n",
       "        vertical-align: top;\n",
       "    }\n",
       "\n",
       "    .dataframe thead th {\n",
       "        text-align: right;\n",
       "    }\n",
       "</style>\n",
       "<table border=\"1\" class=\"dataframe\">\n",
       "  <thead>\n",
       "    <tr style=\"text-align: right;\">\n",
       "      <th></th>\n",
       "      <th>order_id</th>\n",
       "      <th>order_status</th>\n",
       "      <th>order_products_value</th>\n",
       "      <th>order_freight_value</th>\n",
       "      <th>order_items_qty</th>\n",
       "      <th>order_sellers_qty</th>\n",
       "      <th>order_purchase_timestamp</th>\n",
       "      <th>order_aproved_at</th>\n",
       "      <th>order_estimated_delivery_date</th>\n",
       "      <th>order_delivered_customer_date</th>\n",
       "      <th>...</th>\n",
       "      <th>product_description_lenght</th>\n",
       "      <th>product_photos_qty</th>\n",
       "      <th>product_id</th>\n",
       "      <th>review_id</th>\n",
       "      <th>review_score</th>\n",
       "      <th>review_comment_title</th>\n",
       "      <th>review_comment_message</th>\n",
       "      <th>review_creation_date</th>\n",
       "      <th>review_answer_timestamp</th>\n",
       "      <th>year</th>\n",
       "    </tr>\n",
       "  </thead>\n",
       "  <tbody>\n",
       "    <tr>\n",
       "      <th>0</th>\n",
       "      <td>b95df3cef5297e79ef709ba256518f6f</td>\n",
       "      <td>delivered</td>\n",
       "      <td>349.9</td>\n",
       "      <td>13.84</td>\n",
       "      <td>1</td>\n",
       "      <td>1</td>\n",
       "      <td>2017-01-31 17:19:01.000000</td>\n",
       "      <td>2017-02-01 02:41:21.549551</td>\n",
       "      <td>2017-03-15 00:00:00.000000</td>\n",
       "      <td>2017-02-06 11:04:24.154259</td>\n",
       "      <td>...</td>\n",
       "      <td>625</td>\n",
       "      <td>1</td>\n",
       "      <td>6cdd53843498f92890544667809f1595</td>\n",
       "      <td>b95df3cef5297e79ef709ba256518f6f</td>\n",
       "      <td>5</td>\n",
       "      <td>NaN</td>\n",
       "      <td>NaN</td>\n",
       "      <td>2017-02-07 00:00:00.000000</td>\n",
       "      <td>2017-02-09 02:37:37+00:00</td>\n",
       "      <td>2017.0</td>\n",
       "    </tr>\n",
       "    <tr>\n",
       "      <th>1</th>\n",
       "      <td>59af46052a799e80e2f0c665c587731d</td>\n",
       "      <td>delivered</td>\n",
       "      <td>15.0</td>\n",
       "      <td>15.10</td>\n",
       "      <td>1</td>\n",
       "      <td>1</td>\n",
       "      <td>2017-09-09 19:52:54.000000</td>\n",
       "      <td>2017-09-10 20:03:31.535281</td>\n",
       "      <td>2017-10-02 00:00:00.000000</td>\n",
       "      <td>2017-09-13 20:17:41.296915</td>\n",
       "      <td>...</td>\n",
       "      <td>1428</td>\n",
       "      <td>2</td>\n",
       "      <td>ae5cad88462eb7b7b61401e31c45618e</td>\n",
       "      <td>59af46052a799e80e2f0c665c587731d</td>\n",
       "      <td>5</td>\n",
       "      <td>NaN</td>\n",
       "      <td>entrega em 2 dias produto c boa qualidade otim...</td>\n",
       "      <td>2017-09-14 00:00:00.000000</td>\n",
       "      <td>2017-09-15 03:43:47+00:00</td>\n",
       "      <td>2017.0</td>\n",
       "    </tr>\n",
       "  </tbody>\n",
       "</table>\n",
       "<p>2 rows × 26 columns</p>\n",
       "</div>"
      ],
      "text/plain": [
       "                           order_id order_status  order_products_value  \\\n",
       "0  b95df3cef5297e79ef709ba256518f6f    delivered                 349.9   \n",
       "1  59af46052a799e80e2f0c665c587731d    delivered                  15.0   \n",
       "\n",
       "   order_freight_value  order_items_qty  order_sellers_qty  \\\n",
       "0                13.84                1                  1   \n",
       "1                15.10                1                  1   \n",
       "\n",
       "     order_purchase_timestamp           order_aproved_at  \\\n",
       "0  2017-01-31 17:19:01.000000 2017-02-01 02:41:21.549551   \n",
       "1  2017-09-09 19:52:54.000000 2017-09-10 20:03:31.535281   \n",
       "\n",
       "  order_estimated_delivery_date order_delivered_customer_date   ...    \\\n",
       "0    2017-03-15 00:00:00.000000    2017-02-06 11:04:24.154259   ...     \n",
       "1    2017-10-02 00:00:00.000000    2017-09-13 20:17:41.296915   ...     \n",
       "\n",
       "  product_description_lenght product_photos_qty  \\\n",
       "0                        625                  1   \n",
       "1                       1428                  2   \n",
       "\n",
       "                         product_id                         review_id  \\\n",
       "0  6cdd53843498f92890544667809f1595  b95df3cef5297e79ef709ba256518f6f   \n",
       "1  ae5cad88462eb7b7b61401e31c45618e  59af46052a799e80e2f0c665c587731d   \n",
       "\n",
       "  review_score  review_comment_title  \\\n",
       "0            5                   NaN   \n",
       "1            5                   NaN   \n",
       "\n",
       "                              review_comment_message  \\\n",
       "0                                                NaN   \n",
       "1  entrega em 2 dias produto c boa qualidade otim...   \n",
       "\n",
       "         review_creation_date    review_answer_timestamp    year  \n",
       "0  2017-02-07 00:00:00.000000  2017-02-09 02:37:37+00:00  2017.0  \n",
       "1  2017-09-14 00:00:00.000000  2017-09-15 03:43:47+00:00  2017.0  \n",
       "\n",
       "[2 rows x 26 columns]"
      ]
     },
     "execution_count": 46,
     "metadata": {},
     "output_type": "execute_result"
    }
   ],
   "source": [
    "order.head(2)"
   ]
  },
  {
   "cell_type": "code",
   "execution_count": 47,
   "metadata": {},
   "outputs": [],
   "source": [
    "#更改year列的数据类型\n",
    "order[\"order_date\"] = pd.to_datetime(order.order_aproved_at,format= \"%Y%m%d\")"
   ]
  },
  {
   "cell_type": "code",
   "execution_count": 48,
   "metadata": {},
   "outputs": [
    {
     "data": {
      "text/plain": [
       "<matplotlib.axes._subplots.AxesSubplot at 0x1a0e2c6ba8>"
      ]
     },
     "execution_count": 48,
     "metadata": {},
     "output_type": "execute_result"
    },
    {
     "data": {
      "image/png": "[encoded data removed]",
      "text/plain": [
       "<matplotlib.figure.Figure at 0x1a0e2c04a8>"
      ]
     },
     "metadata": {},
     "output_type": "display_data"
    }
   ],
   "source": [
    "order.groupby(\"year\")[\"order_products_value\"].sum().plot(kind = \"bar\",\n",
    "                                                         color = \"red\",\n",
    "                                                         alpha = 0.6)"
   ]
  },
  {
   "cell_type": "markdown",
   "metadata": {},
   "source": [
    "从上图可以看出，2016年的订单金额非常小，而最大的是2017年的订单金额"
   ]
  },
  {
   "cell_type": "code",
   "execution_count": 49,
   "metadata": {},
   "outputs": [
    {
     "data": {
      "text/plain": [
       "count                          99982\n",
       "unique                         96239\n",
       "top       2017-10-18 13:06:21.646633\n",
       "freq                              10\n",
       "first            2016-09-15 12:16:38\n",
       "last      2018-09-28 11:05:22.374345\n",
       "Name: order_aproved_at, dtype: object"
      ]
     },
     "execution_count": 49,
     "metadata": {},
     "output_type": "execute_result"
    }
   ],
   "source": [
    "order.order_aproved_at.describe()"
   ]
  },
  {
   "cell_type": "markdown",
   "metadata": {},
   "source": [
    "最早的订单日期是，2016年9月15日；\n",
    "\n",
    "最晚的订单日期是，2018年9月28日，\n",
    "\n",
    "由此看来，2016年与2018年的数据都不是自然年从1月1日到12月31日的完整数据。\n",
    "\n",
    "所以将每月算作一个结算周期，来看一下订单金额的分布状况。"
   ]
  },
  {
   "cell_type": "markdown",
   "metadata": {},
   "source": [
    "order.nunique()"
   ]
  },
  {
   "cell_type": "code",
   "execution_count": 50,
   "metadata": {},
   "outputs": [
    {
     "data": {
      "text/plain": [
       "<matplotlib.axes._subplots.AxesSubplot at 0x1a0f19eb38>"
      ]
     },
     "execution_count": 50,
     "metadata": {},
     "output_type": "execute_result"
    },
    {
     "data": {
      "image/png": "[encoded data removed]",
      "text/plain": [
       "<matplotlib.figure.Figure at 0x1a0e261860>"
      ]
     },
     "metadata": {},
     "output_type": "display_data"
    }
   ],
   "source": [
    "order[\"month\"] = order.order_date.values.astype(\"datetime64[M]\")\n",
    "order.groupby(\"month\").order_products_value.sum().plot(color = \"red\")"
   ]
  },
  {
   "cell_type": "markdown",
   "metadata": {},
   "source": [
    "order_products_value 销售额按照月份的趋势图，2016-12是销售额最低的时间，而2017-11是销售额最高的时间。\n",
    "\n",
    "从2016-08到2017-11销售额的整体趋势是向上的，而2017-11到2018-09的销售额是呈下降趋势的。"
   ]
  },
  {
   "cell_type": "code",
   "execution_count": 51,
   "metadata": {},
   "outputs": [
    {
     "data": {
      "text/plain": [
       "<matplotlib.axes._subplots.AxesSubplot at 0x1a0e2bb5f8>"
      ]
     },
     "execution_count": 51,
     "metadata": {},
     "output_type": "execute_result"
    },
    {
     "data": {
      "image/png": "[encoded data removed]",
      "text/plain": [
       "<matplotlib.figure.Figure at 0x1a0d91a3c8>"
      ]
     },
     "metadata": {},
     "output_type": "display_data"
    }
   ],
   "source": [
    "order.groupby(\"month\").order_freight_value.sum().plot(color = \"red\")"
   ]
  },
  {
   "cell_type": "markdown",
   "metadata": {},
   "source": [
    "order_freight_value 运费按照月份的趋势图，整体趋势与销售额的趋势十分相似。"
   ]
  },
  {
   "cell_type": "code",
   "execution_count": 52,
   "metadata": {},
   "outputs": [
    {
     "data": {
      "text/plain": [
       "delivered      97590\n",
       "shipped         1190\n",
       "canceled         486\n",
       "processing       392\n",
       "invoiced         331\n",
       "unavailable        9\n",
       "approved           2\n",
       "Name: order_status, dtype: int64"
      ]
     },
     "execution_count": 52,
     "metadata": {},
     "output_type": "execute_result"
    }
   ],
   "source": [
    "order.order_status.value_counts()"
   ]
  },
  {
   "cell_type": "code",
   "execution_count": 53,
   "metadata": {},
   "outputs": [
    {
     "data": {
      "text/plain": [
       "<matplotlib.axes._subplots.AxesSubplot at 0x1a0f45c2e8>"
      ]
     },
     "execution_count": 53,
     "metadata": {},
     "output_type": "execute_result"
    },
    {
     "data": {
      "image/png": "[encoded data removed]",
      "text/plain": [
       "<matplotlib.figure.Figure at 0x1a0e8f0160>"
      ]
     },
     "metadata": {},
     "output_type": "display_data"
    }
   ],
   "source": [
    "order.order_status.value_counts().plot(kind = \"bar\",\n",
    "                                       color = \"red\",\n",
    "                                       alpha = 0.6)"
   ]
  },
  {
   "cell_type": "markdown",
   "metadata": {},
   "source": [
    "已经显示delivered的订单是没有问题的，现在更关注那些没有成交的订单，所以将状态显示为delivered去掉，查看剩下的部分"
   ]
  },
  {
   "cell_type": "code",
   "execution_count": 54,
   "metadata": {},
   "outputs": [
    {
     "data": {
      "text/plain": [
       "<matplotlib.axes._subplots.AxesSubplot at 0x1a1301dda0>"
      ]
     },
     "execution_count": 54,
     "metadata": {},
     "output_type": "execute_result"
    },
    {
     "data": {
      "image/png": "[encoded data removed]",
      "text/plain": [
       "<matplotlib.figure.Figure at 0x1a0e2bb3c8>"
      ]
     },
     "metadata": {},
     "output_type": "display_data"
    }
   ],
   "source": [
    "order.query('order_status != \"delivered\"')[\"order_status\"].value_counts().plot(kind = \"bar\", \n",
    "                                                                               color = \"red\",\n",
    "                                                                               alpha = 0.6)"
   ]
  },
  {
   "cell_type": "markdown",
   "metadata": {},
   "source": [
    "将正常成交的订单去掉之后，剩下的订单状态中，选用shipped 作为运送方式的还是最多的，异常状态的订单还是比较少的。"
   ]
  },
  {
   "cell_type": "code",
   "execution_count": 55,
   "metadata": {},
   "outputs": [
    {
     "data": {
      "text/html": [
       "<div>\n",
       "<style scoped>\n",
       "    .dataframe tbody tr th:only-of-type {\n",
       "        vertical-align: middle;\n",
       "    }\n",
       "\n",
       "    .dataframe tbody tr th {\n",
       "        vertical-align: top;\n",
       "    }\n",
       "\n",
       "    .dataframe thead th {\n",
       "        text-align: right;\n",
       "    }\n",
       "</style>\n",
       "<table border=\"1\" class=\"dataframe\">\n",
       "  <thead>\n",
       "    <tr style=\"text-align: right;\">\n",
       "      <th></th>\n",
       "      <th>order_id</th>\n",
       "      <th>order_status</th>\n",
       "      <th>order_products_value</th>\n",
       "      <th>order_freight_value</th>\n",
       "      <th>order_items_qty</th>\n",
       "      <th>order_sellers_qty</th>\n",
       "      <th>order_purchase_timestamp</th>\n",
       "      <th>order_aproved_at</th>\n",
       "      <th>order_estimated_delivery_date</th>\n",
       "      <th>order_delivered_customer_date</th>\n",
       "      <th>...</th>\n",
       "      <th>product_id</th>\n",
       "      <th>review_id</th>\n",
       "      <th>review_score</th>\n",
       "      <th>review_comment_title</th>\n",
       "      <th>review_comment_message</th>\n",
       "      <th>review_creation_date</th>\n",
       "      <th>review_answer_timestamp</th>\n",
       "      <th>year</th>\n",
       "      <th>order_date</th>\n",
       "      <th>month</th>\n",
       "    </tr>\n",
       "  </thead>\n",
       "  <tbody>\n",
       "    <tr>\n",
       "      <th>2081</th>\n",
       "      <td>1a47da1d66c70489c8e35fe2b5433ab7</td>\n",
       "      <td>unavailable</td>\n",
       "      <td>249.90</td>\n",
       "      <td>20.85</td>\n",
       "      <td>1</td>\n",
       "      <td>1</td>\n",
       "      <td>2016-10-07 18:16:31.000000</td>\n",
       "      <td>2016-10-07 18:53:48.081970</td>\n",
       "      <td>2016-12-07 00:00:00.000000</td>\n",
       "      <td>NaN</td>\n",
       "      <td>...</td>\n",
       "      <td>eba7488e1c67729f045ab43fac426f2e</td>\n",
       "      <td>1a47da1d66c70489c8e35fe2b5433ab7</td>\n",
       "      <td>5</td>\n",
       "      <td>NaN</td>\n",
       "      <td>NaN</td>\n",
       "      <td>2016-12-09 00:00:00.000000</td>\n",
       "      <td>2016-12-09 13:25:52+00:00</td>\n",
       "      <td>2016.0</td>\n",
       "      <td>2016-10-07 18:53:48.081970</td>\n",
       "      <td>2016-10-01</td>\n",
       "    </tr>\n",
       "    <tr>\n",
       "      <th>2557</th>\n",
       "      <td>dc18a044b56ed174037ca164cdf2e921</td>\n",
       "      <td>unavailable</td>\n",
       "      <td>1199.00</td>\n",
       "      <td>28.78</td>\n",
       "      <td>1</td>\n",
       "      <td>1</td>\n",
       "      <td>2016-10-05 14:16:28.000000</td>\n",
       "      <td>2016-10-06 15:56:49.555215</td>\n",
       "      <td>2016-11-29 00:00:00.000000</td>\n",
       "      <td>NaN</td>\n",
       "      <td>...</td>\n",
       "      <td>faa268ecc8a8434cb4ebee091b3222d6</td>\n",
       "      <td>dc18a044b56ed174037ca164cdf2e921</td>\n",
       "      <td>1</td>\n",
       "      <td>NaN</td>\n",
       "      <td>eu comprei o produto no mês de outubro com a i...</td>\n",
       "      <td>2016-12-01 00:00:00.000000</td>\n",
       "      <td>2016-12-01 12:39:57+00:00</td>\n",
       "      <td>2016.0</td>\n",
       "      <td>2016-10-06 15:56:49.555215</td>\n",
       "      <td>2016-10-01</td>\n",
       "    </tr>\n",
       "    <tr>\n",
       "      <th>11988</th>\n",
       "      <td>abd24ee722d00b7c4d37a8ae2ce3e41e</td>\n",
       "      <td>unavailable</td>\n",
       "      <td>95.99</td>\n",
       "      <td>12.38</td>\n",
       "      <td>1</td>\n",
       "      <td>1</td>\n",
       "      <td>2018-02-22 08:55:52.000000</td>\n",
       "      <td>2018-02-22 09:08:49.885115</td>\n",
       "      <td>2018-03-08 00:00:00.000000</td>\n",
       "      <td>NaN</td>\n",
       "      <td>...</td>\n",
       "      <td>638882546765f357dc667b5987ceb69d</td>\n",
       "      <td>abd24ee722d00b7c4d37a8ae2ce3e41e</td>\n",
       "      <td>1</td>\n",
       "      <td>NaN</td>\n",
       "      <td>esta loja não cumpre o que foi acordado eu ain...</td>\n",
       "      <td>2018-03-10 00:00:00.000000</td>\n",
       "      <td>2018-03-12 06:44:02+00:00</td>\n",
       "      <td>2018.0</td>\n",
       "      <td>2018-02-22 09:08:49.885115</td>\n",
       "      <td>2018-02-01</td>\n",
       "    </tr>\n",
       "    <tr>\n",
       "      <th>30739</th>\n",
       "      <td>54bb06e1ca86bd99ee2a8d6288bf4ede</td>\n",
       "      <td>unavailable</td>\n",
       "      <td>64.90</td>\n",
       "      <td>25.33</td>\n",
       "      <td>1</td>\n",
       "      <td>1</td>\n",
       "      <td>2016-10-06 13:38:39.000000</td>\n",
       "      <td>2016-10-06 14:22:19.057395</td>\n",
       "      <td>2016-12-12 00:00:00.000000</td>\n",
       "      <td>NaN</td>\n",
       "      <td>...</td>\n",
       "      <td>bef13288a0f8b26d763411ced1dfa268</td>\n",
       "      <td>54bb06e1ca86bd99ee2a8d6288bf4ede</td>\n",
       "      <td>1</td>\n",
       "      <td>NaN</td>\n",
       "      <td>produto não entregue demoraram mais de um mês ...</td>\n",
       "      <td>2016-12-14 00:00:00.000000</td>\n",
       "      <td>2016-12-16 11:34:47+00:00</td>\n",
       "      <td>2016.0</td>\n",
       "      <td>2016-10-06 14:22:19.057395</td>\n",
       "      <td>2016-10-01</td>\n",
       "    </tr>\n",
       "    <tr>\n",
       "      <th>44106</th>\n",
       "      <td>4c017db6eb0a09ce66871913204214d2</td>\n",
       "      <td>unavailable</td>\n",
       "      <td>8.90</td>\n",
       "      <td>10.96</td>\n",
       "      <td>1</td>\n",
       "      <td>1</td>\n",
       "      <td>2016-10-05 19:56:45.000000</td>\n",
       "      <td>2016-10-06 16:02:08.081957</td>\n",
       "      <td>2016-11-25 00:00:00.000000</td>\n",
       "      <td>NaN</td>\n",
       "      <td>...</td>\n",
       "      <td>db729c4310411c0be04a91785f063ea8</td>\n",
       "      <td>4c017db6eb0a09ce66871913204214d2</td>\n",
       "      <td>1</td>\n",
       "      <td>NaN</td>\n",
       "      <td>comprei um corretivo praticamente dois meses d...</td>\n",
       "      <td>2016-11-27 00:00:00.000000</td>\n",
       "      <td>2016-11-27 16:28:00+00:00</td>\n",
       "      <td>2016.0</td>\n",
       "      <td>2016-10-06 16:02:08.081957</td>\n",
       "      <td>2016-10-01</td>\n",
       "    </tr>\n",
       "    <tr>\n",
       "      <th>68521</th>\n",
       "      <td>bfc90fdd579588ea538f4ca2173d9ada</td>\n",
       "      <td>unavailable</td>\n",
       "      <td>59.99</td>\n",
       "      <td>19.15</td>\n",
       "      <td>1</td>\n",
       "      <td>1</td>\n",
       "      <td>2016-10-05 23:37:57.000000</td>\n",
       "      <td>2016-10-06 15:55:42.161087</td>\n",
       "      <td>2016-12-01 00:00:00.000000</td>\n",
       "      <td>NaN</td>\n",
       "      <td>...</td>\n",
       "      <td>440bf6fbe765694cbcb314a9be39e4a1</td>\n",
       "      <td>bfc90fdd579588ea538f4ca2173d9ada</td>\n",
       "      <td>1</td>\n",
       "      <td>NaN</td>\n",
       "      <td>comprei o produto dia 5 de outubro sendo que h...</td>\n",
       "      <td>2016-12-03 00:00:00.000000</td>\n",
       "      <td>2016-12-03 12:27:24+00:00</td>\n",
       "      <td>2016.0</td>\n",
       "      <td>2016-10-06 15:55:42.161087</td>\n",
       "      <td>2016-10-01</td>\n",
       "    </tr>\n",
       "    <tr>\n",
       "      <th>74509</th>\n",
       "      <td>a121d1352e31de3b2c376e5377e3c62e</td>\n",
       "      <td>unavailable</td>\n",
       "      <td>89.99</td>\n",
       "      <td>21.08</td>\n",
       "      <td>1</td>\n",
       "      <td>1</td>\n",
       "      <td>2016-10-04 00:38:02.000000</td>\n",
       "      <td>2016-10-04 10:39:26.184438</td>\n",
       "      <td>2016-12-06 00:00:00.000000</td>\n",
       "      <td>NaN</td>\n",
       "      <td>...</td>\n",
       "      <td>7d5dc72938e54001a0b7ee8b9bacc712</td>\n",
       "      <td>a121d1352e31de3b2c376e5377e3c62e</td>\n",
       "      <td>1</td>\n",
       "      <td>NaN</td>\n",
       "      <td>acho muito ruim essa loja pois vc compra paga ...</td>\n",
       "      <td>2016-12-08 00:00:00.000000</td>\n",
       "      <td>2016-12-08 06:07:59+00:00</td>\n",
       "      <td>2016.0</td>\n",
       "      <td>2016-10-04 10:39:26.184438</td>\n",
       "      <td>2016-10-01</td>\n",
       "    </tr>\n",
       "    <tr>\n",
       "      <th>79170</th>\n",
       "      <td>3c3ca08854ca922fe8e9cedfd6841c8a</td>\n",
       "      <td>unavailable</td>\n",
       "      <td>35.00</td>\n",
       "      <td>10.96</td>\n",
       "      <td>1</td>\n",
       "      <td>1</td>\n",
       "      <td>2016-10-08 12:13:38.000000</td>\n",
       "      <td>2016-10-08 13:21:35.474352</td>\n",
       "      <td>2016-11-30 00:00:00.000000</td>\n",
       "      <td>NaN</td>\n",
       "      <td>...</td>\n",
       "      <td>ac6c24af9f913c9375a3ea77883bda6e</td>\n",
       "      <td>3c3ca08854ca922fe8e9cedfd6841c8a</td>\n",
       "      <td>1</td>\n",
       "      <td>NaN</td>\n",
       "      <td>a empresa deixou disponível a venda como se ti...</td>\n",
       "      <td>2016-12-02 00:00:00.000000</td>\n",
       "      <td>2017-08-09 23:38:05+00:00</td>\n",
       "      <td>2016.0</td>\n",
       "      <td>2016-10-08 13:21:35.474352</td>\n",
       "      <td>2016-10-01</td>\n",
       "    </tr>\n",
       "    <tr>\n",
       "      <th>89582</th>\n",
       "      <td>2fd1c83dd4714cf3cf796fffb6c8de62</td>\n",
       "      <td>unavailable</td>\n",
       "      <td>99.00</td>\n",
       "      <td>9.12</td>\n",
       "      <td>1</td>\n",
       "      <td>4</td>\n",
       "      <td>2016-10-05 17:21:29.000000</td>\n",
       "      <td>2016-10-06 15:55:40.977461</td>\n",
       "      <td>2016-11-29 00:00:00.000000</td>\n",
       "      <td>NaN</td>\n",
       "      <td>...</td>\n",
       "      <td>17c7ec33a1657924ad493e6978b4bf91</td>\n",
       "      <td>2fd1c83dd4714cf3cf796fffb6c8de62</td>\n",
       "      <td>1</td>\n",
       "      <td>NaN</td>\n",
       "      <td>prazo não foi cumprido até hoje não chegou pri...</td>\n",
       "      <td>2016-12-01 00:00:00.000000</td>\n",
       "      <td>2016-12-03 11:21:38+00:00</td>\n",
       "      <td>2016.0</td>\n",
       "      <td>2016-10-06 15:55:40.977461</td>\n",
       "      <td>2016-10-01</td>\n",
       "    </tr>\n",
       "  </tbody>\n",
       "</table>\n",
       "<p>9 rows × 28 columns</p>\n",
       "</div>"
      ],
      "text/plain": [
       "                               order_id order_status  order_products_value  \\\n",
       "2081   1a47da1d66c70489c8e35fe2b5433ab7  unavailable                249.90   \n",
       "2557   dc18a044b56ed174037ca164cdf2e921  unavailable               1199.00   \n",
       "11988  abd24ee722d00b7c4d37a8ae2ce3e41e  unavailable                 95.99   \n",
       "30739  54bb06e1ca86bd99ee2a8d6288bf4ede  unavailable                 64.90   \n",
       "44106  4c017db6eb0a09ce66871913204214d2  unavailable                  8.90   \n",
       "68521  bfc90fdd579588ea538f4ca2173d9ada  unavailable                 59.99   \n",
       "74509  a121d1352e31de3b2c376e5377e3c62e  unavailable                 89.99   \n",
       "79170  3c3ca08854ca922fe8e9cedfd6841c8a  unavailable                 35.00   \n",
       "89582  2fd1c83dd4714cf3cf796fffb6c8de62  unavailable                 99.00   \n",
       "\n",
       "       order_freight_value  order_items_qty  order_sellers_qty  \\\n",
       "2081                 20.85                1                  1   \n",
       "2557                 28.78                1                  1   \n",
       "11988                12.38                1                  1   \n",
       "30739                25.33                1                  1   \n",
       "44106                10.96                1                  1   \n",
       "68521                19.15                1                  1   \n",
       "74509                21.08                1                  1   \n",
       "79170                10.96                1                  1   \n",
       "89582                 9.12                1                  4   \n",
       "\n",
       "         order_purchase_timestamp           order_aproved_at  \\\n",
       "2081   2016-10-07 18:16:31.000000 2016-10-07 18:53:48.081970   \n",
       "2557   2016-10-05 14:16:28.000000 2016-10-06 15:56:49.555215   \n",
       "11988  2018-02-22 08:55:52.000000 2018-02-22 09:08:49.885115   \n",
       "30739  2016-10-06 13:38:39.000000 2016-10-06 14:22:19.057395   \n",
       "44106  2016-10-05 19:56:45.000000 2016-10-06 16:02:08.081957   \n",
       "68521  2016-10-05 23:37:57.000000 2016-10-06 15:55:42.161087   \n",
       "74509  2016-10-04 00:38:02.000000 2016-10-04 10:39:26.184438   \n",
       "79170  2016-10-08 12:13:38.000000 2016-10-08 13:21:35.474352   \n",
       "89582  2016-10-05 17:21:29.000000 2016-10-06 15:55:40.977461   \n",
       "\n",
       "      order_estimated_delivery_date order_delivered_customer_date    ...      \\\n",
       "2081     2016-12-07 00:00:00.000000                           NaN    ...       \n",
       "2557     2016-11-29 00:00:00.000000                           NaN    ...       \n",
       "11988    2018-03-08 00:00:00.000000                           NaN    ...       \n",
       "30739    2016-12-12 00:00:00.000000                           NaN    ...       \n",
       "44106    2016-11-25 00:00:00.000000                           NaN    ...       \n",
       "68521    2016-12-01 00:00:00.000000                           NaN    ...       \n",
       "74509    2016-12-06 00:00:00.000000                           NaN    ...       \n",
       "79170    2016-11-30 00:00:00.000000                           NaN    ...       \n",
       "89582    2016-11-29 00:00:00.000000                           NaN    ...       \n",
       "\n",
       "                             product_id                         review_id  \\\n",
       "2081   eba7488e1c67729f045ab43fac426f2e  1a47da1d66c70489c8e35fe2b5433ab7   \n",
       "2557   faa268ecc8a8434cb4ebee091b3222d6  dc18a044b56ed174037ca164cdf2e921   \n",
       "11988  638882546765f357dc667b5987ceb69d  abd24ee722d00b7c4d37a8ae2ce3e41e   \n",
       "30739  bef13288a0f8b26d763411ced1dfa268  54bb06e1ca86bd99ee2a8d6288bf4ede   \n",
       "44106  db729c4310411c0be04a91785f063ea8  4c017db6eb0a09ce66871913204214d2   \n",
       "68521  440bf6fbe765694cbcb314a9be39e4a1  bfc90fdd579588ea538f4ca2173d9ada   \n",
       "74509  7d5dc72938e54001a0b7ee8b9bacc712  a121d1352e31de3b2c376e5377e3c62e   \n",
       "79170  ac6c24af9f913c9375a3ea77883bda6e  3c3ca08854ca922fe8e9cedfd6841c8a   \n",
       "89582  17c7ec33a1657924ad493e6978b4bf91  2fd1c83dd4714cf3cf796fffb6c8de62   \n",
       "\n",
       "      review_score  review_comment_title  \\\n",
       "2081             5                   NaN   \n",
       "2557             1                   NaN   \n",
       "11988            1                   NaN   \n",
       "30739            1                   NaN   \n",
       "44106            1                   NaN   \n",
       "68521            1                   NaN   \n",
       "74509            1                   NaN   \n",
       "79170            1                   NaN   \n",
       "89582            1                   NaN   \n",
       "\n",
       "                                  review_comment_message  \\\n",
       "2081                                                 NaN   \n",
       "2557   eu comprei o produto no mês de outubro com a i...   \n",
       "11988  esta loja não cumpre o que foi acordado eu ain...   \n",
       "30739  produto não entregue demoraram mais de um mês ...   \n",
       "44106  comprei um corretivo praticamente dois meses d...   \n",
       "68521  comprei o produto dia 5 de outubro sendo que h...   \n",
       "74509  acho muito ruim essa loja pois vc compra paga ...   \n",
       "79170  a empresa deixou disponível a venda como se ti...   \n",
       "89582  prazo não foi cumprido até hoje não chegou pri...   \n",
       "\n",
       "             review_creation_date    review_answer_timestamp    year  \\\n",
       "2081   2016-12-09 00:00:00.000000  2016-12-09 13:25:52+00:00  2016.0   \n",
       "2557   2016-12-01 00:00:00.000000  2016-12-01 12:39:57+00:00  2016.0   \n",
       "11988  2018-03-10 00:00:00.000000  2018-03-12 06:44:02+00:00  2018.0   \n",
       "30739  2016-12-14 00:00:00.000000  2016-12-16 11:34:47+00:00  2016.0   \n",
       "44106  2016-11-27 00:00:00.000000  2016-11-27 16:28:00+00:00  2016.0   \n",
       "68521  2016-12-03 00:00:00.000000  2016-12-03 12:27:24+00:00  2016.0   \n",
       "74509  2016-12-08 00:00:00.000000  2016-12-08 06:07:59+00:00  2016.0   \n",
       "79170  2016-12-02 00:00:00.000000  2017-08-09 23:38:05+00:00  2016.0   \n",
       "89582  2016-12-01 00:00:00.000000  2016-12-03 11:21:38+00:00  2016.0   \n",
       "\n",
       "                      order_date      month  \n",
       "2081  2016-10-07 18:53:48.081970 2016-10-01  \n",
       "2557  2016-10-06 15:56:49.555215 2016-10-01  \n",
       "11988 2018-02-22 09:08:49.885115 2018-02-01  \n",
       "30739 2016-10-06 14:22:19.057395 2016-10-01  \n",
       "44106 2016-10-06 16:02:08.081957 2016-10-01  \n",
       "68521 2016-10-06 15:55:42.161087 2016-10-01  \n",
       "74509 2016-10-04 10:39:26.184438 2016-10-01  \n",
       "79170 2016-10-08 13:21:35.474352 2016-10-01  \n",
       "89582 2016-10-06 15:55:40.977461 2016-10-01  \n",
       "\n",
       "[9 rows x 28 columns]"
      ]
     },
     "execution_count": 55,
     "metadata": {},
     "output_type": "execute_result"
    }
   ],
   "source": [
    "unavailable_order = order.query('order_status == \"unavailable\"')\n",
    "unavailable_order"
   ]
  },
  {
   "cell_type": "markdown",
   "metadata": {},
   "source": [
    "有9个订单是失效的，于是我们来看一下这9个订单的详情。"
   ]
  },
  {
   "cell_type": "code",
   "execution_count": 56,
   "metadata": {},
   "outputs": [],
   "source": [
    "def plot_box(dataframe,column):\n",
    "    dataframe[column].plot(kind = \"box\", color = \"red\")"
   ]
  },
  {
   "cell_type": "code",
   "execution_count": 57,
   "metadata": {},
   "outputs": [
    {
     "data": {
      "image/png": "[encoded data removed]",
      "text/plain": [
       "<matplotlib.figure.Figure at 0x1a13041550>"
      ]
     },
     "metadata": {},
     "output_type": "display_data"
    }
   ],
   "source": [
    "plot_box(unavailable_order,\"order_products_value\")"
   ]
  },
  {
   "cell_type": "markdown",
   "metadata": {},
   "source": [
    "订单状态显示为unavailable的订单金额，区间为8.9到1199之间。"
   ]
  },
  {
   "cell_type": "code",
   "execution_count": 58,
   "metadata": {},
   "outputs": [
    {
     "data": {
      "text/plain": [
       "<matplotlib.axes._subplots.AxesSubplot at 0x1a0e8f0940>"
      ]
     },
     "execution_count": 58,
     "metadata": {},
     "output_type": "execute_result"
    },
    {
     "data": {
      "image/png": "[encoded data removed]",
      "text/plain": [
       "<matplotlib.figure.Figure at 0x1a1310cd30>"
      ]
     },
     "metadata": {},
     "output_type": "display_data"
    }
   ],
   "source": [
    "unavailable_order.order_freight_value.plot(kind = \"box\",color = \"red\")"
   ]
  },
  {
   "cell_type": "code",
   "execution_count": 59,
   "metadata": {},
   "outputs": [
    {
     "data": {
      "text/plain": [
       "<matplotlib.axes._subplots.AxesSubplot at 0x1a134fa7b8>"
      ]
     },
     "execution_count": 59,
     "metadata": {},
     "output_type": "execute_result"
    },
    {
     "data": {
      "image/png": "[encoded data removed]",
      "text/plain": [
       "<matplotlib.figure.Figure at 0x1a13469438>"
      ]
     },
     "metadata": {},
     "output_type": "display_data"
    }
   ],
   "source": [
    "unavailable_order.order_freight_value.plot(kind = \"hist\",color = \"red\")"
   ]
  },
  {
   "cell_type": "markdown",
   "metadata": {},
   "source": [
    "订单状态显示为unavailable的订单运费，区间为9.12到28.78之间"
   ]
  },
  {
   "cell_type": "code",
   "execution_count": 60,
   "metadata": {},
   "outputs": [
    {
     "data": {
      "text/plain": [
       "<matplotlib.axes._subplots.AxesSubplot at 0x1a135de860>"
      ]
     },
     "execution_count": 60,
     "metadata": {},
     "output_type": "execute_result"
    },
    {
     "data": {
      "image/png": "[encoded data removed]",
      "text/plain": [
       "<matplotlib.figure.Figure at 0x1a134704a8>"
      ]
     },
     "metadata": {},
     "output_type": "display_data"
    }
   ],
   "source": [
    "unavailable_order_prop = unavailable_order.order_freight_value/unavailable_order.order_products_value\n",
    "unavailable_order_prop.plot(kind = 'box', color = \"red\")"
   ]
  },
  {
   "cell_type": "markdown",
   "metadata": {},
   "source": [
    "来看一下运费与订单金额比值的关系，多数在0.4之下，有一个特别明显的异常值，是index为44106的订单，运费在订单总金额之上。"
   ]
  },
  {
   "cell_type": "code",
   "execution_count": 61,
   "metadata": {},
   "outputs": [
    {
     "data": {
      "text/plain": [
       "<matplotlib.axes._subplots.AxesSubplot at 0x1a135c32e8>"
      ]
     },
     "execution_count": 61,
     "metadata": {},
     "output_type": "execute_result"
    },
    {
     "data": {
      "image/png": "[encoded data removed]",
      "text/plain": [
       "<matplotlib.figure.Figure at 0x1a137898d0>"
      ]
     },
     "metadata": {},
     "output_type": "display_data"
    }
   ],
   "source": [
    "unavailable_order.review_score.value_counts().plot(kind = 'bar', color = \"red\", alpha = 0.6)"
   ]
  },
  {
   "cell_type": "markdown",
   "metadata": {},
   "source": [
    "订单状态显示为unavailable，客户评分是1个5分，其他都是1分。"
   ]
  },
  {
   "cell_type": "code",
   "execution_count": 62,
   "metadata": {},
   "outputs": [
    {
     "data": {
      "text/html": [
       "<div>\n",
       "<style scoped>\n",
       "    .dataframe tbody tr th:only-of-type {\n",
       "        vertical-align: middle;\n",
       "    }\n",
       "\n",
       "    .dataframe tbody tr th {\n",
       "        vertical-align: top;\n",
       "    }\n",
       "\n",
       "    .dataframe thead th {\n",
       "        text-align: right;\n",
       "    }\n",
       "</style>\n",
       "<table border=\"1\" class=\"dataframe\">\n",
       "  <thead>\n",
       "    <tr style=\"text-align: right;\">\n",
       "      <th></th>\n",
       "      <th>order_id</th>\n",
       "      <th>order_status</th>\n",
       "      <th>order_products_value</th>\n",
       "      <th>order_freight_value</th>\n",
       "      <th>order_items_qty</th>\n",
       "      <th>order_sellers_qty</th>\n",
       "      <th>order_purchase_timestamp</th>\n",
       "      <th>order_aproved_at</th>\n",
       "      <th>order_estimated_delivery_date</th>\n",
       "      <th>order_delivered_customer_date</th>\n",
       "      <th>...</th>\n",
       "      <th>product_id</th>\n",
       "      <th>review_id</th>\n",
       "      <th>review_score</th>\n",
       "      <th>review_comment_title</th>\n",
       "      <th>review_comment_message</th>\n",
       "      <th>review_creation_date</th>\n",
       "      <th>review_answer_timestamp</th>\n",
       "      <th>year</th>\n",
       "      <th>order_date</th>\n",
       "      <th>month</th>\n",
       "    </tr>\n",
       "  </thead>\n",
       "  <tbody>\n",
       "    <tr>\n",
       "      <th>26469</th>\n",
       "      <td>132f1e724165a07f6362532bfb97486e</td>\n",
       "      <td>approved</td>\n",
       "      <td>169.9</td>\n",
       "      <td>9.56</td>\n",
       "      <td>1</td>\n",
       "      <td>1</td>\n",
       "      <td>2017-04-25 01:25:34.000000</td>\n",
       "      <td>2017-04-30 20:32:41.802385</td>\n",
       "      <td>2017-05-22 00:00:00.000000</td>\n",
       "      <td>NaN</td>\n",
       "      <td>...</td>\n",
       "      <td>c4a1c4638fa9e2e4861d141d6e0259e7</td>\n",
       "      <td>132f1e724165a07f6362532bfb97486e</td>\n",
       "      <td>4</td>\n",
       "      <td>NaN</td>\n",
       "      <td>NaN</td>\n",
       "      <td>2017-05-24 00:00:00.000000</td>\n",
       "      <td>2017-05-24 18:10:54+00:00</td>\n",
       "      <td>2017.0</td>\n",
       "      <td>2017-04-30 20:32:41.802385</td>\n",
       "      <td>2017-04-01</td>\n",
       "    </tr>\n",
       "    <tr>\n",
       "      <th>99500</th>\n",
       "      <td>a2e4c44360b4a57bdff22f3a4630c173</td>\n",
       "      <td>approved</td>\n",
       "      <td>39.7</td>\n",
       "      <td>21.92</td>\n",
       "      <td>2</td>\n",
       "      <td>1</td>\n",
       "      <td>2017-02-06 20:18:17.000000</td>\n",
       "      <td>2017-02-06 20:30:19.054046</td>\n",
       "      <td>2017-03-01 00:00:00.000000</td>\n",
       "      <td>NaN</td>\n",
       "      <td>...</td>\n",
       "      <td>dcecb611ba878d5d8c7853585b285c12</td>\n",
       "      <td>a2e4c44360b4a57bdff22f3a4630c173</td>\n",
       "      <td>1</td>\n",
       "      <td>NaN</td>\n",
       "      <td>NaN</td>\n",
       "      <td>2017-03-03 00:00:00.000000</td>\n",
       "      <td>2017-03-14 01:27:45+00:00</td>\n",
       "      <td>2017.0</td>\n",
       "      <td>2017-02-06 20:30:19.054046</td>\n",
       "      <td>2017-02-01</td>\n",
       "    </tr>\n",
       "  </tbody>\n",
       "</table>\n",
       "<p>2 rows × 28 columns</p>\n",
       "</div>"
      ],
      "text/plain": [
       "                               order_id order_status  order_products_value  \\\n",
       "26469  132f1e724165a07f6362532bfb97486e     approved                 169.9   \n",
       "99500  a2e4c44360b4a57bdff22f3a4630c173     approved                  39.7   \n",
       "\n",
       "       order_freight_value  order_items_qty  order_sellers_qty  \\\n",
       "26469                 9.56                1                  1   \n",
       "99500                21.92                2                  1   \n",
       "\n",
       "         order_purchase_timestamp           order_aproved_at  \\\n",
       "26469  2017-04-25 01:25:34.000000 2017-04-30 20:32:41.802385   \n",
       "99500  2017-02-06 20:18:17.000000 2017-02-06 20:30:19.054046   \n",
       "\n",
       "      order_estimated_delivery_date order_delivered_customer_date    ...      \\\n",
       "26469    2017-05-22 00:00:00.000000                           NaN    ...       \n",
       "99500    2017-03-01 00:00:00.000000                           NaN    ...       \n",
       "\n",
       "                             product_id                         review_id  \\\n",
       "26469  c4a1c4638fa9e2e4861d141d6e0259e7  132f1e724165a07f6362532bfb97486e   \n",
       "99500  dcecb611ba878d5d8c7853585b285c12  a2e4c44360b4a57bdff22f3a4630c173   \n",
       "\n",
       "      review_score  review_comment_title review_comment_message  \\\n",
       "26469            4                   NaN                    NaN   \n",
       "99500            1                   NaN                    NaN   \n",
       "\n",
       "             review_creation_date    review_answer_timestamp    year  \\\n",
       "26469  2017-05-24 00:00:00.000000  2017-05-24 18:10:54+00:00  2017.0   \n",
       "99500  2017-03-03 00:00:00.000000  2017-03-14 01:27:45+00:00  2017.0   \n",
       "\n",
       "                      order_date      month  \n",
       "26469 2017-04-30 20:32:41.802385 2017-04-01  \n",
       "99500 2017-02-06 20:30:19.054046 2017-02-01  \n",
       "\n",
       "[2 rows x 28 columns]"
      ]
     },
     "execution_count": 62,
     "metadata": {},
     "output_type": "execute_result"
    }
   ],
   "source": [
    "approved_order = order.query('order_status == \"approved\"')\n",
    "approved_order"
   ]
  },
  {
   "cell_type": "code",
   "execution_count": 63,
   "metadata": {},
   "outputs": [
    {
     "data": {
      "image/png": "[encoded data removed]",
      "text/plain": [
       "<matplotlib.figure.Figure at 0x1a13a9d438>"
      ]
     },
     "metadata": {},
     "output_type": "display_data"
    }
   ],
   "source": [
    "plot(approved_order,\"review_score\",\"bar\")"
   ]
  },
  {
   "cell_type": "markdown",
   "metadata": {},
   "source": [
    "有两个订单状态为 approved，评分一个为1，一个为4"
   ]
  },
  {
   "cell_type": "markdown",
   "metadata": {},
   "source": [
    "#### 2.3 customer 顾客"
   ]
  },
  {
   "cell_type": "code",
   "execution_count": 64,
   "metadata": {},
   "outputs": [
    {
     "data": {
      "text/html": [
       "<div>\n",
       "<style scoped>\n",
       "    .dataframe tbody tr th:only-of-type {\n",
       "        vertical-align: middle;\n",
       "    }\n",
       "\n",
       "    .dataframe tbody tr th {\n",
       "        vertical-align: top;\n",
       "    }\n",
       "\n",
       "    .dataframe thead th {\n",
       "        text-align: right;\n",
       "    }\n",
       "</style>\n",
       "<table border=\"1\" class=\"dataframe\">\n",
       "  <thead>\n",
       "    <tr style=\"text-align: right;\">\n",
       "      <th></th>\n",
       "      <th>customer_id</th>\n",
       "      <th>customer_unique_id</th>\n",
       "    </tr>\n",
       "  </thead>\n",
       "  <tbody>\n",
       "    <tr>\n",
       "      <th>0</th>\n",
       "      <td>0000ca4ff2795842fd6b122c6d974468</td>\n",
       "      <td>ac0e5d7f07043dd32831bdad3b99ad26</td>\n",
       "    </tr>\n",
       "    <tr>\n",
       "      <th>1</th>\n",
       "      <td>00010f206878ba01f199aec4237de72e</td>\n",
       "      <td>4ed24aaed4079fe0661c0e4b3b420dff</td>\n",
       "    </tr>\n",
       "  </tbody>\n",
       "</table>\n",
       "</div>"
      ],
      "text/plain": [
       "                        customer_id                customer_unique_id\n",
       "0  0000ca4ff2795842fd6b122c6d974468  ac0e5d7f07043dd32831bdad3b99ad26\n",
       "1  00010f206878ba01f199aec4237de72e  4ed24aaed4079fe0661c0e4b3b420dff"
      ]
     },
     "execution_count": 64,
     "metadata": {},
     "output_type": "execute_result"
    }
   ],
   "source": [
    "customer.head(2)"
   ]
  },
  {
   "cell_type": "code",
   "execution_count": 65,
   "metadata": {},
   "outputs": [
    {
     "name": "stdout",
     "output_type": "stream",
     "text": [
      "<class 'pandas.core.frame.DataFrame'>\n",
      "RangeIndex: 96264 entries, 0 to 96263\n",
      "Data columns (total 2 columns):\n",
      "customer_id           96264 non-null object\n",
      "customer_unique_id    96264 non-null object\n",
      "dtypes: object(2)\n",
      "memory usage: 1.5+ MB\n"
     ]
    }
   ],
   "source": [
    "customer.info()"
   ]
  },
  {
   "cell_type": "code",
   "execution_count": 66,
   "metadata": {},
   "outputs": [],
   "source": [
    "customer_2 = customer.merge(order,how = \"inner\",left_on = \"customer_id\",right_on = \"customer_id\")"
   ]
  },
  {
   "cell_type": "code",
   "execution_count": 67,
   "metadata": {},
   "outputs": [
    {
     "data": {
      "text/html": [
       "<div>\n",
       "<style scoped>\n",
       "    .dataframe tbody tr th:only-of-type {\n",
       "        vertical-align: middle;\n",
       "    }\n",
       "\n",
       "    .dataframe tbody tr th {\n",
       "        vertical-align: top;\n",
       "    }\n",
       "\n",
       "    .dataframe thead th {\n",
       "        text-align: right;\n",
       "    }\n",
       "</style>\n",
       "<table border=\"1\" class=\"dataframe\">\n",
       "  <thead>\n",
       "    <tr style=\"text-align: right;\">\n",
       "      <th></th>\n",
       "      <th>customer_id</th>\n",
       "      <th>customer_unique_id</th>\n",
       "      <th>order_id</th>\n",
       "      <th>order_status</th>\n",
       "      <th>order_products_value</th>\n",
       "      <th>order_freight_value</th>\n",
       "      <th>order_items_qty</th>\n",
       "      <th>order_sellers_qty</th>\n",
       "      <th>order_purchase_timestamp</th>\n",
       "      <th>order_aproved_at</th>\n",
       "      <th>...</th>\n",
       "      <th>product_id</th>\n",
       "      <th>review_id</th>\n",
       "      <th>review_score</th>\n",
       "      <th>review_comment_title</th>\n",
       "      <th>review_comment_message</th>\n",
       "      <th>review_creation_date</th>\n",
       "      <th>review_answer_timestamp</th>\n",
       "      <th>year</th>\n",
       "      <th>order_date</th>\n",
       "      <th>month</th>\n",
       "    </tr>\n",
       "  </thead>\n",
       "  <tbody>\n",
       "    <tr>\n",
       "      <th>0</th>\n",
       "      <td>0000ca4ff2795842fd6b122c6d974468</td>\n",
       "      <td>ac0e5d7f07043dd32831bdad3b99ad26</td>\n",
       "      <td>bdbeac23af8ee5dc1481782eaca3c24e</td>\n",
       "      <td>delivered</td>\n",
       "      <td>15.0</td>\n",
       "      <td>7.78</td>\n",
       "      <td>1</td>\n",
       "      <td>1</td>\n",
       "      <td>2018-01-27 10:04:53.000000</td>\n",
       "      <td>2018-01-30 04:31:19.335683</td>\n",
       "      <td>...</td>\n",
       "      <td>e91c99866c8b72b1e95cdccfa052358b</td>\n",
       "      <td>bdbeac23af8ee5dc1481782eaca3c24e</td>\n",
       "      <td>5</td>\n",
       "      <td>NaN</td>\n",
       "      <td>NaN</td>\n",
       "      <td>2018-02-02 00:00:00.000000</td>\n",
       "      <td>2018-02-03 22:28:53+00:00</td>\n",
       "      <td>2018.0</td>\n",
       "      <td>2018-01-30 04:31:19.335683</td>\n",
       "      <td>2018-01-01</td>\n",
       "    </tr>\n",
       "    <tr>\n",
       "      <th>1</th>\n",
       "      <td>00010f206878ba01f199aec4237de72e</td>\n",
       "      <td>4ed24aaed4079fe0661c0e4b3b420dff</td>\n",
       "      <td>e12e86e5dbfcb5d2820427e70fd658f3</td>\n",
       "      <td>delivered</td>\n",
       "      <td>72.9</td>\n",
       "      <td>22.83</td>\n",
       "      <td>1</td>\n",
       "      <td>1</td>\n",
       "      <td>2017-09-10 14:35:08.000000</td>\n",
       "      <td>2017-09-12 04:25:20.792749</td>\n",
       "      <td>...</td>\n",
       "      <td>2960262e3809a91a7908e9b5c5562e8a</td>\n",
       "      <td>e12e86e5dbfcb5d2820427e70fd658f3</td>\n",
       "      <td>5</td>\n",
       "      <td>NaN</td>\n",
       "      <td>NaN</td>\n",
       "      <td>2017-09-26 00:00:00.000000</td>\n",
       "      <td>2017-09-27 15:58:47+00:00</td>\n",
       "      <td>2017.0</td>\n",
       "      <td>2017-09-12 04:25:20.792749</td>\n",
       "      <td>2017-09-01</td>\n",
       "    </tr>\n",
       "  </tbody>\n",
       "</table>\n",
       "<p>2 rows × 29 columns</p>\n",
       "</div>"
      ],
      "text/plain": [
       "                        customer_id                customer_unique_id  \\\n",
       "0  0000ca4ff2795842fd6b122c6d974468  ac0e5d7f07043dd32831bdad3b99ad26   \n",
       "1  00010f206878ba01f199aec4237de72e  4ed24aaed4079fe0661c0e4b3b420dff   \n",
       "\n",
       "                           order_id order_status  order_products_value  \\\n",
       "0  bdbeac23af8ee5dc1481782eaca3c24e    delivered                  15.0   \n",
       "1  e12e86e5dbfcb5d2820427e70fd658f3    delivered                  72.9   \n",
       "\n",
       "   order_freight_value  order_items_qty  order_sellers_qty  \\\n",
       "0                 7.78                1                  1   \n",
       "1                22.83                1                  1   \n",
       "\n",
       "     order_purchase_timestamp           order_aproved_at    ...      \\\n",
       "0  2018-01-27 10:04:53.000000 2018-01-30 04:31:19.335683    ...       \n",
       "1  2017-09-10 14:35:08.000000 2017-09-12 04:25:20.792749    ...       \n",
       "\n",
       "                         product_id                         review_id  \\\n",
       "0  e91c99866c8b72b1e95cdccfa052358b  bdbeac23af8ee5dc1481782eaca3c24e   \n",
       "1  2960262e3809a91a7908e9b5c5562e8a  e12e86e5dbfcb5d2820427e70fd658f3   \n",
       "\n",
       "  review_score review_comment_title  review_comment_message  \\\n",
       "0            5                  NaN                     NaN   \n",
       "1            5                  NaN                     NaN   \n",
       "\n",
       "         review_creation_date    review_answer_timestamp    year  \\\n",
       "0  2018-02-02 00:00:00.000000  2018-02-03 22:28:53+00:00  2018.0   \n",
       "1  2017-09-26 00:00:00.000000  2017-09-27 15:58:47+00:00  2017.0   \n",
       "\n",
       "                  order_date      month  \n",
       "0 2018-01-30 04:31:19.335683 2018-01-01  \n",
       "1 2017-09-12 04:25:20.792749 2017-09-01  \n",
       "\n",
       "[2 rows x 29 columns]"
      ]
     },
     "execution_count": 67,
     "metadata": {},
     "output_type": "execute_result"
    }
   ],
   "source": [
    "customer_2.head(2)"
   ]
  },
  {
   "cell_type": "code",
   "execution_count": 68,
   "metadata": {},
   "outputs": [
    {
     "data": {
      "text/plain": [
       "(100000, 29)"
      ]
     },
     "execution_count": 68,
     "metadata": {},
     "output_type": "execute_result"
    }
   ],
   "source": [
    "customer_2.shape"
   ]
  },
  {
   "cell_type": "code",
   "execution_count": 69,
   "metadata": {},
   "outputs": [
    {
     "name": "stdout",
     "output_type": "stream",
     "text": [
      "<class 'pandas.core.frame.DataFrame'>\n",
      "Int64Index: 100000 entries, 0 to 99999\n",
      "Data columns (total 29 columns):\n",
      "customer_id                      100000 non-null object\n",
      "customer_unique_id               100000 non-null object\n",
      "order_id                         100000 non-null object\n",
      "order_status                     100000 non-null object\n",
      "order_products_value             100000 non-null float64\n",
      "order_freight_value              100000 non-null float64\n",
      "order_items_qty                  100000 non-null int64\n",
      "order_sellers_qty                100000 non-null int64\n",
      "order_purchase_timestamp         100000 non-null object\n",
      "order_aproved_at                 99982 non-null datetime64[ns]\n",
      "order_estimated_delivery_date    100000 non-null object\n",
      "order_delivered_customer_date    97595 non-null object\n",
      "customer_city                    100000 non-null object\n",
      "customer_state                   100000 non-null object\n",
      "customer_zip_code_prefix         100000 non-null int64\n",
      "product_category_name            100000 non-null object\n",
      "product_name_lenght              100000 non-null int64\n",
      "product_description_lenght       100000 non-null int64\n",
      "product_photos_qty               100000 non-null int64\n",
      "product_id                       100000 non-null object\n",
      "review_id                        100000 non-null object\n",
      "review_score                     100000 non-null int64\n",
      "review_comment_title             8262 non-null object\n",
      "review_comment_message           42489 non-null object\n",
      "review_creation_date             100000 non-null object\n",
      "review_answer_timestamp          100000 non-null object\n",
      "year                             99982 non-null float64\n",
      "order_date                       99982 non-null datetime64[ns]\n",
      "month                            99982 non-null datetime64[ns]\n",
      "dtypes: datetime64[ns](3), float64(3), int64(7), object(16)\n",
      "memory usage: 22.9+ MB\n"
     ]
    }
   ],
   "source": [
    "customer_2.info()"
   ]
  },
  {
   "cell_type": "markdown",
   "metadata": {},
   "source": [
    "##### 2.3.1销售金额最高的前10项产品是什么？"
   ]
  },
  {
   "cell_type": "code",
   "execution_count": 70,
   "metadata": {},
   "outputs": [
    {
     "data": {
      "text/plain": [
       "<matplotlib.axes._subplots.AxesSubplot at 0x1a1433f6d8>"
      ]
     },
     "execution_count": 70,
     "metadata": {},
     "output_type": "execute_result"
    },
    {
     "data": {
      "image/png": "[encoded data removed]",
      "text/plain": [
       "<matplotlib.figure.Figure at 0x1a13403048>"
      ]
     },
     "metadata": {},
     "output_type": "display_data"
    }
   ],
   "source": [
    "customer_2.product_category_name.value_counts().plot(kind = \"bar\",color = \"red\", \n",
    "                                                     alpha =0.6,figsize = (15,12))"
   ]
  },
  {
   "cell_type": "code",
   "execution_count": 71,
   "metadata": {},
   "outputs": [
    {
     "data": {
      "text/plain": [
       "cama_mesa_banho           10435\n",
       "beleza_saude               7939\n",
       "esporte_lazer              7832\n",
       "moveis_decoracao           7728\n",
       "relogios_presentes         7130\n",
       "informatica_acessorios     6329\n",
       "utilidades_domesticas      6230\n",
       "ferramentas_jardim         4570\n",
       "cool_stuff                 4315\n",
       "brinquedos                 4114\n",
       "Name: product_category_name, dtype: int64"
      ]
     },
     "execution_count": 71,
     "metadata": {},
     "output_type": "execute_result"
    }
   ],
   "source": [
    "product_top_10 = customer_2.product_category_name.value_counts()[0:10]\n",
    "product_top_10"
   ]
  },
  {
   "cell_type": "code",
   "execution_count": 72,
   "metadata": {},
   "outputs": [
    {
     "data": {
      "text/plain": [
       "<matplotlib.axes._subplots.AxesSubplot at 0x1a142ba5c0>"
      ]
     },
     "execution_count": 72,
     "metadata": {},
     "output_type": "execute_result"
    },
    {
     "data": {
      "image/png": "[encoded data removed]",
      "text/plain": [
       "<matplotlib.figure.Figure at 0x1a134036a0>"
      ]
     },
     "metadata": {},
     "output_type": "display_data"
    }
   ],
   "source": [
    "product_top_10.plot(kind = \"bar\", color = \"red\",alpha = 0.6)"
   ]
  },
  {
   "cell_type": "code",
   "execution_count": 73,
   "metadata": {},
   "outputs": [
    {
     "data": {
      "image/png": "[encoded data removed]",
      "text/plain": [
       "<matplotlib.figure.Figure at 0x1a0d7fca58>"
      ]
     },
     "metadata": {},
     "output_type": "display_data"
    }
   ],
   "source": [
    "plot_box(customer_2,\"order_products_value\")"
   ]
  },
  {
   "cell_type": "code",
   "execution_count": 74,
   "metadata": {},
   "outputs": [
    {
     "data": {
      "image/png": "[encoded data removed]",
      "text/plain": [
       "<matplotlib.figure.Figure at 0x1a1439b400>"
      ]
     },
     "metadata": {},
     "output_type": "display_data"
    }
   ],
   "source": [
    "plot_box(customer_2,\"order_freight_value\")"
   ]
  },
  {
   "cell_type": "code",
   "execution_count": 75,
   "metadata": {},
   "outputs": [
    {
     "data": {
      "image/png": "[encoded data removed]",
      "text/plain": [
       "<matplotlib.figure.Figure at 0x1a0d848208>"
      ]
     },
     "metadata": {},
     "output_type": "display_data"
    }
   ],
   "source": [
    "plot(customer_2,\"customer_state\",\"bar\")"
   ]
  },
  {
   "cell_type": "code",
   "execution_count": 76,
   "metadata": {},
   "outputs": [
    {
     "data": {
      "image/png": "[encoded data removed]",
      "text/plain": [
       "<matplotlib.figure.Figure at 0x1a143de6d8>"
      ]
     },
     "metadata": {},
     "output_type": "display_data"
    }
   ],
   "source": [
    "plot(customer_2,\"review_score\",\"bar\")"
   ]
  },
  {
   "cell_type": "markdown",
   "metadata": {},
   "source": [
    "订单包含两个或更多不同的产品，则可能会重复发表评论"
   ]
  },
  {
   "cell_type": "code",
   "execution_count": 77,
   "metadata": {},
   "outputs": [
    {
     "data": {
      "text/plain": [
       "96264"
      ]
     },
     "execution_count": 77,
     "metadata": {},
     "output_type": "execute_result"
    }
   ],
   "source": [
    "customer_2.order_id.nunique()"
   ]
  },
  {
   "cell_type": "code",
   "execution_count": 78,
   "metadata": {},
   "outputs": [
    {
     "data": {
      "text/plain": [
       "<pandas.core.groupby.DataFrameGroupBy object at 0x1a147044a8>"
      ]
     },
     "execution_count": 78,
     "metadata": {},
     "output_type": "execute_result"
    }
   ],
   "source": [
    "order_group = customer_2.groupby(\"order_id\")\n",
    "order_group"
   ]
  },
  {
   "cell_type": "code",
   "execution_count": 79,
   "metadata": {},
   "outputs": [
    {
     "data": {
      "text/plain": [
       "order_id\n",
       "0000f01da58c553799200eb71eb0563b     54.900\n",
       "00010242fe8c5a6d1ba2dd792cb16214     58.900\n",
       "00026c8a4fe2c14efa2afe807921981c    389.980\n",
       "000312d02b605a8a630c3a9882793ffb    600.000\n",
       "000330af600103828257923c9aa98ae2     29.745\n",
       "00042b26cf59d7ce69dfabb4e55b4fd9    199.900\n",
       "00048cc3ae777c65dbb7d2a0634bc1ea     21.900\n",
       "0004940968b6f9fdb7ef5bb315d3dd45     28.990\n",
       "0004e45495a3c003903562f035a835ce     89.900\n",
       "00054e8431b9d7675808bcb819fb4a32     19.900\n",
       "000576fe39319847cbb9d288c5617fa6    810.000\n",
       "000600fcb6cd339109fe8f27d7ce7bca     29.990\n",
       "00063b381e2406b52ad429470734ebd5     45.000\n",
       "0006ec9db01a64e59a68b2c340bf65a7     74.000\n",
       "0008288aa423d2a3f00fcb17cd7d8719     99.800\n",
       "000844e66735b6b771578023091a2a37     69.900\n",
       "0009792311464db532ff765bf7b182ae     99.900\n",
       "000a1a23c186e860e31dd744d93f059a     99.900\n",
       "000a950f6be5856bec0567ebccfa5d54     26.900\n",
       "000aed2e25dbad2f9ddb70584c5a2ded    144.000\n",
       "000e8b0af0aac34c2d96d4baf5162ccf     55.900\n",
       "000ed9901656cc1e7c2f973f8c6e2309     98.900\n",
       "000f99bb272406acd1dce9b54895dd62     56.970\n",
       "001021efaa8636c29475e7734483457d     49.000\n",
       "0010b2e5201cc5f1ae7e9c6cc8f5bd00     48.900\n",
       "00119ff934e539cf26f92b9ef0cdfed8    219.900\n",
       "0011d82c4b53e22e84023405fb467e57    289.000\n",
       "00125cb692d04887809806618a2a145f    109.900\n",
       "0012c0691fc9e9904585a7982ebc3f3d    120.000\n",
       "0013503b13da1eac686219390b7d641b    119.900\n",
       "                                     ...   \n",
       "ffeba575a4bb795de0386cf957b3c6c3     21.000\n",
       "ffec6450964463cf91dbb7d7ba22b543     24.890\n",
       "ffed7e90414c1477a6b92554661d465f    149.900\n",
       "ffeeb911d070bea3dd20bd5fd01da5e8     79.500\n",
       "ffef5373bf5a7f3209d5330de6253dbb     51.960\n",
       "ffef98cd5ecdc992fefbd967549520dd    139.900\n",
       "ffefb169ddf34cecc0622a6d3cc387f8    129.990\n",
       "fff1e3e76b816bfe8ef16678cc53c643     65.990\n",
       "fff1fe51c4f9bf5963d6329553269a12    719.880\n",
       "fff2e9e3aa8644e19710216b4ef53ab2     69.900\n",
       "fff37e5e209512db4dd1c8a03beed88b     49.890\n",
       "fff3983dfa3c5a0d752d8d17baa406a0     66.390\n",
       "fff674501b113ab737d4edc3e9bb44ca     39.900\n",
       "fff6889749958e42b47a7977a4cf0ea0     92.000\n",
       "fff6b8ca971f8e3ec822e99d0f2d3d21    199.000\n",
       "fff70321841e2d34bb629d8f4e9e68c3    105.000\n",
       "fff7c4452f050315db1b3f24d9df5fcd    736.000\n",
       "fff81f66a219237ad51e628c210e066e     36.850\n",
       "fff8287bbae429a99bb7e8c21d151c41    360.000\n",
       "fff90cdcb3b2e6cfb397d05d562fd3fe     89.900\n",
       "fff972a570e5ae1752dc1896258a6525    157.000\n",
       "fff989f6b6cfb906d6c39ed78258ff90     59.000\n",
       "fffa82886406ccf10c7b4e35c4ff2788    229.900\n",
       "fffaf8a07a1dfd71f6997e2c694de14b     59.900\n",
       "fffb0b1a50e65c449020434fa835e078      4.900\n",
       "fffb9224b6fc7c43ebb0904318b10b5f    220.000\n",
       "fffc6722901386c66d5f8009639fcb24    169.900\n",
       "fffe18544ffabc95dfada21779c9644f     55.990\n",
       "fffe7967a0e803b9331617191f6c7ed7     97.600\n",
       "ffff4b4f540d2d98fae13222d4d3aec1     38.900\n",
       "Name: order_products_value, Length: 96264, dtype: float64"
      ]
     },
     "execution_count": 79,
     "metadata": {},
     "output_type": "execute_result"
    }
   ],
   "source": [
    "order_index = order_group.order_products_value.sum()/order_group.order_products_value.count()\n",
    "order_index"
   ]
  },
  {
   "cell_type": "markdown",
   "metadata": {},
   "source": [
    "##### 2.3.2 消费金额最高的前20%的顾客是哪些人？他们的消费模式有什么特征？"
   ]
  },
  {
   "cell_type": "markdown",
   "metadata": {},
   "source": [
    "##### 2.4 Geolocation 地理位置"
   ]
  },
  {
   "cell_type": "code",
   "execution_count": 80,
   "metadata": {},
   "outputs": [
    {
     "data": {
      "text/html": [
       "<div>\n",
       "<style scoped>\n",
       "    .dataframe tbody tr th:only-of-type {\n",
       "        vertical-align: middle;\n",
       "    }\n",
       "\n",
       "    .dataframe tbody tr th {\n",
       "        vertical-align: top;\n",
       "    }\n",
       "\n",
       "    .dataframe thead th {\n",
       "        text-align: right;\n",
       "    }\n",
       "</style>\n",
       "<table border=\"1\" class=\"dataframe\">\n",
       "  <thead>\n",
       "    <tr style=\"text-align: right;\">\n",
       "      <th></th>\n",
       "      <th>zip_code_prefix</th>\n",
       "      <th>city</th>\n",
       "      <th>state</th>\n",
       "      <th>lat</th>\n",
       "      <th>lng</th>\n",
       "    </tr>\n",
       "  </thead>\n",
       "  <tbody>\n",
       "    <tr>\n",
       "      <th>0</th>\n",
       "      <td>10</td>\n",
       "      <td>sao paulo</td>\n",
       "      <td>sp</td>\n",
       "      <td>-23.547807</td>\n",
       "      <td>-46.636122</td>\n",
       "    </tr>\n",
       "    <tr>\n",
       "      <th>1</th>\n",
       "      <td>10</td>\n",
       "      <td>sao paulo</td>\n",
       "      <td>sp</td>\n",
       "      <td>-23.546081</td>\n",
       "      <td>-46.644820</td>\n",
       "    </tr>\n",
       "  </tbody>\n",
       "</table>\n",
       "</div>"
      ],
      "text/plain": [
       "   zip_code_prefix       city state        lat        lng\n",
       "0               10  sao paulo    sp -23.547807 -46.636122\n",
       "1               10  sao paulo    sp -23.546081 -46.644820"
      ]
     },
     "execution_count": 80,
     "metadata": {},
     "output_type": "execute_result"
    }
   ],
   "source": [
    "geolocation.head(2)"
   ]
  },
  {
   "cell_type": "markdown",
   "metadata": {},
   "source": [
    "##### 2.4.1 zip code 区域代码"
   ]
  },
  {
   "cell_type": "code",
   "execution_count": 81,
   "metadata": {},
   "outputs": [
    {
     "data": {
      "text/plain": [
       "<matplotlib.axes._subplots.AxesSubplot at 0x1a14cb0400>"
      ]
     },
     "execution_count": 81,
     "metadata": {},
     "output_type": "execute_result"
    },
    {
     "data": {
      "image/png": "[encoded data removed]",
      "text/plain": [
       "<matplotlib.figure.Figure at 0x1a146e8438>"
      ]
     },
     "metadata": {},
     "output_type": "display_data"
    }
   ],
   "source": [
    "geolocation.zip_code_prefix.value_counts().plot(kind = \"box\",color = \"red\")"
   ]
  },
  {
   "cell_type": "markdown",
   "metadata": {},
   "source": [
    "##### 2.4.2 lat\tand lng 经纬度 "
   ]
  },
  {
   "cell_type": "code",
   "execution_count": 82,
   "metadata": {},
   "outputs": [
    {
     "data": {
      "text/plain": [
       "<matplotlib.axes._subplots.AxesSubplot at 0x1a0e75c240>"
      ]
     },
     "execution_count": 82,
     "metadata": {},
     "output_type": "execute_result"
    },
    {
     "data": {
      "image/png": "[encoded data removed]",
      "text/plain": [
       "<matplotlib.figure.Figure at 0x1a0e73da58>"
      ]
     },
     "metadata": {},
     "output_type": "display_data"
    }
   ],
   "source": [
    "geolocation.plot(x = \"lat\", y = \"lng\",\n",
    "                 kind = \"scatter\", color = \"red\",\n",
    "                 alpha = 0.6, figsize = (15,12))"
   ]
  },
  {
   "cell_type": "code",
   "execution_count": 83,
   "metadata": {},
   "outputs": [
    {
     "data": {
      "text/plain": [
       "42.439285915921154"
      ]
     },
     "execution_count": 83,
     "metadata": {},
     "output_type": "execute_result"
    }
   ],
   "source": [
    "geolocation[\"lat\"].max()"
   ]
  },
  {
   "cell_type": "code",
   "execution_count": 84,
   "metadata": {},
   "outputs": [
    {
     "data": {
      "text/html": [
       "<div>\n",
       "<style scoped>\n",
       "    .dataframe tbody tr th:only-of-type {\n",
       "        vertical-align: middle;\n",
       "    }\n",
       "\n",
       "    .dataframe tbody tr th {\n",
       "        vertical-align: top;\n",
       "    }\n",
       "\n",
       "    .dataframe thead th {\n",
       "        text-align: right;\n",
       "    }\n",
       "</style>\n",
       "<table border=\"1\" class=\"dataframe\">\n",
       "  <thead>\n",
       "    <tr style=\"text-align: right;\">\n",
       "      <th></th>\n",
       "      <th>zip_code_prefix</th>\n",
       "      <th>city</th>\n",
       "      <th>state</th>\n",
       "      <th>lat</th>\n",
       "      <th>lng</th>\n",
       "    </tr>\n",
       "  </thead>\n",
       "  <tbody>\n",
       "    <tr>\n",
       "      <th>107435</th>\n",
       "      <td>281</td>\n",
       "      <td>santa maria</td>\n",
       "      <td>rj</td>\n",
       "      <td>42.439286</td>\n",
       "      <td>13.820214</td>\n",
       "    </tr>\n",
       "  </tbody>\n",
       "</table>\n",
       "</div>"
      ],
      "text/plain": [
       "        zip_code_prefix         city state        lat        lng\n",
       "107435              281  santa maria    rj  42.439286  13.820214"
      ]
     },
     "execution_count": 84,
     "metadata": {},
     "output_type": "execute_result"
    }
   ],
   "source": [
    "geolocation.query('lat == \"42.439285915921154\"')"
   ]
  },
  {
   "cell_type": "markdown",
   "metadata": {},
   "source": [
    "将异常的这个值单独看一下，发现是正常的经纬度"
   ]
  },
  {
   "cell_type": "markdown",
   "metadata": {},
   "source": [
    "##### 2.4.3 state 州"
   ]
  },
  {
   "cell_type": "code",
   "execution_count": 85,
   "metadata": {},
   "outputs": [
    {
     "data": {
      "image/png": "[encoded data removed]",
      "text/plain": [
       "<matplotlib.figure.Figure at 0x1a0e757dd8>"
      ]
     },
     "metadata": {},
     "output_type": "display_data"
    }
   ],
   "source": [
    "plot(geolocation,\"state\",\"bar\")"
   ]
  },
  {
   "cell_type": "markdown",
   "metadata": {},
   "source": [
    "##### 2.4.4 city 城市"
   ]
  },
  {
   "cell_type": "code",
   "execution_count": 86,
   "metadata": {},
   "outputs": [
    {
     "data": {
      "text/plain": [
       "sao paulo                                 20591\n",
       "curitiba                                   8715\n",
       "rio de janeiro                             8368\n",
       "belo horizonte                             7313\n",
       "porto alegre                               5305\n",
       "salvador                                   4726\n",
       "brasilia                                   4577\n",
       "recife                                     3019\n",
       "goiania                                    2677\n",
       "fortaleza                                  2602\n",
       "contagem                                   1786\n",
       "niteroi                                    1322\n",
       "canoas                                     1296\n",
       "santo andre                                1289\n",
       "guarulhos                                  1277\n",
       "osasco                                     1238\n",
       "sao bernardo do campo                      1159\n",
       "belem                                      1099\n",
       "novo hamburgo                               926\n",
       "nova iguacu                                 907\n",
       "duque de caxias                             890\n",
       "sao goncalo                                 862\n",
       "gravatai                                    843\n",
       "ribeirao das neves                          807\n",
       "campo grande                                785\n",
       "jaboatao dos guararapes                     735\n",
       "mogi das cruzes                             732\n",
       "santa luzia                                 726\n",
       "petropolis                                  722\n",
       "santa maria                                 627\n",
       "                                          ...  \n",
       "porto walter                                  1\n",
       "jacobina do piaui                             1\n",
       "arez                                          1\n",
       "palestina do para                             1\n",
       "ribeirao corrente                             1\n",
       "nova casa verde                               1\n",
       "nossa senhora dos remedios                    1\n",
       "anta                                          1\n",
       "baliza                                        1\n",
       "soledade de minas                             1\n",
       "santo antonio dos campos                      1\n",
       "frei gaspar                                   1\n",
       "lamounier                                     1\n",
       "amapari                                       1\n",
       "campo alegre de lourdes, bahia, brasil        1\n",
       "sao joao da chapada                           1\n",
       "sao joao da parauna                           1\n",
       "sapucaia do norte                             1\n",
       "lamarao                                       1\n",
       "dom vicoso                                    1\n",
       "sao vicente do grama                          1\n",
       "passa e fica                                  1\n",
       "monteiro lobato                               1\n",
       "assuncao do piaui                             1\n",
       "ibiajara                                      1\n",
       "luar                                          1\n",
       "marilac                                       1\n",
       "quixaba                                       1\n",
       "governador luiz rocha                         1\n",
       "marcelino vieira                              1\n",
       "Name: city, Length: 5419, dtype: int64"
      ]
     },
     "execution_count": 86,
     "metadata": {},
     "output_type": "execute_result"
    }
   ],
   "source": [
    "geolocation.city.value_counts()"
   ]
  },
  {
   "cell_type": "code",
   "execution_count": 87,
   "metadata": {},
   "outputs": [
    {
     "data": {
      "text/plain": [
       "<matplotlib.axes._subplots.AxesSubplot at 0x1a0e895748>"
      ]
     },
     "execution_count": 87,
     "metadata": {},
     "output_type": "execute_result"
    },
    {
     "data": {
      "image/png": "[encoded data removed]",
      "text/plain": [
       "<matplotlib.figure.Figure at 0x1a0e833940>"
      ]
     },
     "metadata": {},
     "output_type": "display_data"
    }
   ],
   "source": [
    "geolocation_top10 = geolocation.city.value_counts()[0:20]\n",
    "geolocation_top10.plot(kind = \"bar\", color = \"red\", alpha = 0.6, figsize = (15,8))"
   ]
  },
  {
   "cell_type": "markdown",
   "metadata": {},
   "source": [
    "### 顾客消费行为分析"
   ]
  },
  {
   "cell_type": "markdown",
   "metadata": {},
   "source": [
    "#### 以顾客为数据粒度"
   ]
  },
  {
   "cell_type": "code",
   "execution_count": 88,
   "metadata": {},
   "outputs": [
    {
     "name": "stdout",
     "output_type": "stream",
     "text": [
      "<class 'pandas.core.frame.DataFrame'>\n",
      "Int64Index: 100000 entries, 0 to 99999\n",
      "Data columns (total 29 columns):\n",
      "customer_id                      100000 non-null object\n",
      "customer_unique_id               100000 non-null object\n",
      "order_id                         100000 non-null object\n",
      "order_status                     100000 non-null object\n",
      "order_products_value             100000 non-null float64\n",
      "order_freight_value              100000 non-null float64\n",
      "order_items_qty                  100000 non-null int64\n",
      "order_sellers_qty                100000 non-null int64\n",
      "order_purchase_timestamp         100000 non-null object\n",
      "order_aproved_at                 99982 non-null datetime64[ns]\n",
      "order_estimated_delivery_date    100000 non-null object\n",
      "order_delivered_customer_date    97595 non-null object\n",
      "customer_city                    100000 non-null object\n",
      "customer_state                   100000 non-null object\n",
      "customer_zip_code_prefix         100000 non-null int64\n",
      "product_category_name            100000 non-null object\n",
      "product_name_lenght              100000 non-null int64\n",
      "product_description_lenght       100000 non-null int64\n",
      "product_photos_qty               100000 non-null int64\n",
      "product_id                       100000 non-null object\n",
      "review_id                        100000 non-null object\n",
      "review_score                     100000 non-null int64\n",
      "review_comment_title             8262 non-null object\n",
      "review_comment_message           42489 non-null object\n",
      "review_creation_date             100000 non-null object\n",
      "review_answer_timestamp          100000 non-null object\n",
      "year                             99982 non-null float64\n",
      "order_date                       99982 non-null datetime64[ns]\n",
      "month                            99982 non-null datetime64[ns]\n",
      "dtypes: datetime64[ns](3), float64(3), int64(7), object(16)\n",
      "memory usage: 22.9+ MB\n"
     ]
    }
   ],
   "source": [
    "customer_2.info()"
   ]
  },
  {
   "cell_type": "code",
   "execution_count": 89,
   "metadata": {},
   "outputs": [
    {
     "data": {
      "text/html": [
       "<div>\n",
       "<style scoped>\n",
       "    .dataframe tbody tr th:only-of-type {\n",
       "        vertical-align: middle;\n",
       "    }\n",
       "\n",
       "    .dataframe tbody tr th {\n",
       "        vertical-align: top;\n",
       "    }\n",
       "\n",
       "    .dataframe thead th {\n",
       "        text-align: right;\n",
       "    }\n",
       "</style>\n",
       "<table border=\"1\" class=\"dataframe\">\n",
       "  <thead>\n",
       "    <tr style=\"text-align: right;\">\n",
       "      <th></th>\n",
       "      <th>customer_unique_id</th>\n",
       "      <th>order_id</th>\n",
       "      <th>order_status</th>\n",
       "      <th>order_products_value</th>\n",
       "      <th>order_freight_value</th>\n",
       "      <th>order_aproved_at</th>\n",
       "      <th>customer_city</th>\n",
       "      <th>customer_state</th>\n",
       "      <th>product_category_name</th>\n",
       "      <th>order_items_qty</th>\n",
       "      <th>review_score</th>\n",
       "      <th>review_comment_message</th>\n",
       "    </tr>\n",
       "  </thead>\n",
       "  <tbody>\n",
       "    <tr>\n",
       "      <th>0</th>\n",
       "      <td>ac0e5d7f07043dd32831bdad3b99ad26</td>\n",
       "      <td>bdbeac23af8ee5dc1481782eaca3c24e</td>\n",
       "      <td>delivered</td>\n",
       "      <td>15.0</td>\n",
       "      <td>7.78</td>\n",
       "      <td>2018-01-30 04:31:19.335683</td>\n",
       "      <td>Sao Bernardo do Campo</td>\n",
       "      <td>SP</td>\n",
       "      <td>automotivo</td>\n",
       "      <td>1</td>\n",
       "      <td>5</td>\n",
       "      <td>NaN</td>\n",
       "    </tr>\n",
       "    <tr>\n",
       "      <th>1</th>\n",
       "      <td>4ed24aaed4079fe0661c0e4b3b420dff</td>\n",
       "      <td>e12e86e5dbfcb5d2820427e70fd658f3</td>\n",
       "      <td>delivered</td>\n",
       "      <td>72.9</td>\n",
       "      <td>22.83</td>\n",
       "      <td>2017-09-12 04:25:20.792749</td>\n",
       "      <td>RIO DE JANEIRO</td>\n",
       "      <td>RJ</td>\n",
       "      <td>beleza_saude</td>\n",
       "      <td>1</td>\n",
       "      <td>5</td>\n",
       "      <td>NaN</td>\n",
       "    </tr>\n",
       "  </tbody>\n",
       "</table>\n",
       "</div>"
      ],
      "text/plain": [
       "                 customer_unique_id                          order_id  \\\n",
       "0  ac0e5d7f07043dd32831bdad3b99ad26  bdbeac23af8ee5dc1481782eaca3c24e   \n",
       "1  4ed24aaed4079fe0661c0e4b3b420dff  e12e86e5dbfcb5d2820427e70fd658f3   \n",
       "\n",
       "  order_status  order_products_value  order_freight_value  \\\n",
       "0    delivered                  15.0                 7.78   \n",
       "1    delivered                  72.9                22.83   \n",
       "\n",
       "            order_aproved_at          customer_city customer_state  \\\n",
       "0 2018-01-30 04:31:19.335683  Sao Bernardo do Campo             SP   \n",
       "1 2017-09-12 04:25:20.792749         RIO DE JANEIRO             RJ   \n",
       "\n",
       "  product_category_name  order_items_qty  review_score review_comment_message  \n",
       "0            automotivo                1             5                    NaN  \n",
       "1          beleza_saude                1             5                    NaN  "
      ]
     },
     "execution_count": 89,
     "metadata": {},
     "output_type": "execute_result"
    }
   ],
   "source": [
    "customer_2 = customer_2[[\"customer_unique_id\",\"order_id\",\"order_status\",\"order_products_value\",\"order_freight_value\",\"order_aproved_at\",\"customer_city\",\"customer_state\",\"product_category_name\",\"order_items_qty\",\"review_score\",\"review_comment_message\"]]\n",
    "customer_2.head(2)"
   ]
  },
  {
   "cell_type": "code",
   "execution_count": 90,
   "metadata": {},
   "outputs": [
    {
     "data": {
      "text/plain": [
       "customer_unique_id        92516\n",
       "order_id                  96264\n",
       "order_status                  7\n",
       "order_products_value       6080\n",
       "order_freight_value        7644\n",
       "order_aproved_at          96239\n",
       "customer_city              4121\n",
       "customer_state               27\n",
       "product_category_name        71\n",
       "order_items_qty              15\n",
       "review_score                  5\n",
       "review_comment_message    33782\n",
       "dtype: int64"
      ]
     },
     "execution_count": 90,
     "metadata": {},
     "output_type": "execute_result"
    }
   ],
   "source": [
    "customer_2.nunique()"
   ]
  }
 ],
 "metadata": {
  "kernelspec": {
   "display_name": "Python 3",
   "language": "python",
   "name": "python3"
  },
  "language_info": {
   "codemirror_mode": {
    "name": "ipython",
    "version": 3
   },
   "file_extension": ".py",
   "mimetype": "text/x-python",
   "name": "python",
   "nbconvert_exporter": "python",
   "pygments_lexer": "ipython3",
   "version": "3.6.5"
  }
 },
 "nbformat": 4,
 "nbformat_minor": 2
}
